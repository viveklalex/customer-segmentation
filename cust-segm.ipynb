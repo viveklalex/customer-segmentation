{
 "cells": [
  {
   "cell_type": "markdown",
   "id": "93406982",
   "metadata": {
    "papermill": {
     "duration": 0.013928,
     "end_time": "2022-08-12T06:11:15.164368",
     "exception": false,
     "start_time": "2022-08-12T06:11:15.150440",
     "status": "completed"
    },
    "tags": []
   },
   "source": [
    "# <h2 ><div style = \"background-color: #6600cc; color:white; border-radius: 10px; padding: 20px; margin: 2px;\"><b><span>Customer Segmentation</span></b></div></h2>\n",
    "\n",
    " <div style=\"background:#1a0033   ;font-family: mono;font-size:15px;color:  #f2f2f2;padding:30px\" >\n",
    " <p style=\"font-family: mono;font-size:15px;color:  #f2f2f2\"><b>What is Segment Customers?</b>\n",
    "   <p style=\"font-family: mono;font-size:15px;color:  #f2f2f2\">Customer segmentation is the process of dividing customers into groups based on common characteristics so companies can market to each group effectively and appropriately.\n",
    "</div>\n",
    "\n",
    "<div style=\"background:#1a0033   ;font-family: mono;font-size:15px;color:  #f2f2f2;padding:30px\" >\n",
    "<p style=\"font-family: mono;font-size:15px;color:  #f2f2f2\"><b>Why Segment Customers?</b>\n",
    "<p style=\"font-family: mono;font-size:15px;color:  #f2f2f2\">Segmentation allows marketers to better tailor their marketing efforts to various audience subsets. Those efforts can relate to both communications and product development. Specifically, segmentation helps a company:\n",
    "\n",
    "<p style=\"font-family: mono;font-size:15px;color:  #f2f2f2\">Create and communicate targeted marketing messages that will resonate with specific groups of customers, but not with others (who will receive messages tailored to their needs and interests, instead).\n",
    "<ul>    \n",
    "<li>Select the best communication channel for the segment, which might be email, social media posts, radio advertising, or another approach, depending on the segment. \n",
    "<li>Identify ways to improve products or new product or service opportunities.\n",
    "<li>Establish better customer relationships.\n",
    "<li>Test pricing options.\n",
    "<li>Focus on the most profitable customers.\n",
    "<li>Improve customer service.\n",
    "<li>Upsell and cross-sell other products and services.\n",
    " </ul>\n",
    " </div> \n",
    "    \n",
    "<div style=\"background:#1a0033   ;font-family: mono;font-size:15px;color:  #f2f2f2;padding:30px\" >\n",
    "<p style=\"font-family: mono;font-size:15px;color:  #f2f2f2\"><b> What is RFM Analysis?</b>\n",
    "<p style=\"font-family: mono;font-size:15px;color:  #f2f2f2\">\n",
    "RFM analysis allows marketers to target specific clusters of customers with communications that are much more relevant for their particular behavior – and thus generate much higher rates of response, plus increased loyalty and customer lifetime value. Like other segmentation methods, an RFM model is a powerful way to identify groups of customers for special treatment. RFM stands for recency, frequency and monetary – more about each of these shortly.\n",
    "<p style=\"font-family: mono;font-size:15px;color:  #f2f2f2\">\n",
    "Marketers typically have extensive data on their existing customers – such as purchase history, browsing history, prior campaign response patterns and demographics – that can be used to identify specific groups of customers that can be addressed with offers very relevant to each.\n",
    "<p style=\"font-family: mono;font-size:15px;color:  #f2f2f2\">\n",
    "RFM factors illustrate these facts:\n",
    "<ul>\n",
    " <li>the more recent the purchase, the more responsive the customer is to promotions\n",
    "<li>the more frequently the customer buys, the more engaged and satisfied they are\n",
    "<li>monetary value differentiates heavy spenders from low-value purchasers\n",
    "<ul>    \n",
    "</div>\n",
    "    \n",
    "<div style=\"background:#1a0033   ;font-family: mono;font-size:15px;color:  #f2f2f2;padding:30px\" >\n",
    "<p style=\"font-family: mono;font-size:15px;color:  #f2f2f2\"><b>What are Recency, Frequency and Monetary?</b>\n",
    "    \n",
    "<p style=\"font-family: mono;font-size:15px;color:  #f2f2f2\">Underlying the RFM segmentation technique is the idea that marketers can gain an extensive understanding of their customers by analyzing three quantifiable factors. These are:\n",
    "<ul>\n",
    "<li>Recency: How much time has elapsed since a customer’s last activity or transaction with the brand? Activity is usually a purchase, although variations are sometimes used, e.g., the last visit to a website or use of a mobile app. In most cases, the more recently a customer has interacted or transacted with a brand, the more likely that customer will be responsive to communications from the brand.\n",
    "<li>Frequency: How often has a customer transacted or interacted with the brand during a particular period of time? Clearly, customers with frequent activities are more engaged, and probably more loyal, than customers who rarely do so. And one-time-only customers are in a class of their own.\n",
    "<li>Monetary: Also referred to as “monetary value,” this factor reflects how much a customer has spent with the brand during a particular period of time. Big spenders should usually be treated differently than customers who spend little. Looking at monetary divided by frequency indicates the average purchase amount – an important secondary factor to consider when segmenting customers.\n",
    "    </ul>\n",
    "    </div>\n",
    "    \n",
    "    \n",
    " <div style=\"background:#1a0033   ;font-family: mono;font-size:15px;color:  #f2f2f2;padding:30px\" >\n",
    "<p style=\"font-family: mono;font-size:15px;color:  #f2f2f2\"><b>Based on RFM value we categorize customers into 3 groups</b>\n",
    "    <ul>\n",
    "  <li>Low Value: Customers who are less active than others, not very frequent buyer/visitor and generates very low - zero - maybe negative revenue.\n",
    "<li>Mid Value: In the middle of everything. Often using our platform (but not as much as our High Values), fairly frequent and generates moderate revenue.\n",
    "<li>High Value: The group we don’t want to lose. High Revenue, Frequency and low Inactivity.\n",
    "</ul>"
   ]
  },
  {
   "cell_type": "markdown",
   "id": "730e6c3f",
   "metadata": {
    "papermill": {
     "duration": 0.010645,
     "end_time": "2022-08-12T06:11:15.186406",
     "exception": false,
     "start_time": "2022-08-12T06:11:15.175761",
     "status": "completed"
    },
    "tags": []
   },
   "source": [
    "# <b><span style='color:#4B4B4B'>1 |</span><span style='color:#016CC9'>Loading Libraries</span></b>"
   ]
  },
  {
   "cell_type": "code",
   "execution_count": 1,
   "id": "84b8eb69",
   "metadata": {
    "execution": {
     "iopub.execute_input": "2022-08-12T06:11:15.211224Z",
     "iopub.status.busy": "2022-08-12T06:11:15.210364Z",
     "iopub.status.idle": "2022-08-12T06:11:18.587479Z",
     "shell.execute_reply": "2022-08-12T06:11:18.586293Z"
    },
    "papermill": {
     "duration": 3.392919,
     "end_time": "2022-08-12T06:11:18.590525",
     "exception": false,
     "start_time": "2022-08-12T06:11:15.197606",
     "status": "completed"
    },
    "tags": []
   },
   "outputs": [
    {
     "data": {
      "text/html": [
       "<style type='text/css'>\n",
       ".datatable table.frame { margin-bottom: 0; }\n",
       ".datatable table.frame thead { border-bottom: none; }\n",
       ".datatable table.frame tr.coltypes td {  color: #FFFFFF;  line-height: 6px;  padding: 0 0.5em;}\n",
       ".datatable .bool    { background: #DDDD99; }\n",
       ".datatable .object  { background: #565656; }\n",
       ".datatable .int     { background: #5D9E5D; }\n",
       ".datatable .float   { background: #4040CC; }\n",
       ".datatable .str     { background: #CC4040; }\n",
       ".datatable .time    { background: #40CC40; }\n",
       ".datatable .row_index {  background: var(--jp-border-color3);  border-right: 1px solid var(--jp-border-color0);  color: var(--jp-ui-font-color3);  font-size: 9px;}\n",
       ".datatable .frame tbody td { text-align: left; }\n",
       ".datatable .frame tr.coltypes .row_index {  background: var(--jp-border-color0);}\n",
       ".datatable th:nth-child(2) { padding-left: 12px; }\n",
       ".datatable .hellipsis {  color: var(--jp-cell-editor-border-color);}\n",
       ".datatable .vellipsis {  background: var(--jp-layout-color0);  color: var(--jp-cell-editor-border-color);}\n",
       ".datatable .na {  color: var(--jp-cell-editor-border-color);  font-size: 80%;}\n",
       ".datatable .sp {  opacity: 0.25;}\n",
       ".datatable .footer { font-size: 9px; }\n",
       ".datatable .frame_dimensions {  background: var(--jp-border-color3);  border-top: 1px solid var(--jp-border-color0);  color: var(--jp-ui-font-color3);  display: inline-block;  opacity: 0.6;  padding: 1px 10px 1px 5px;}\n",
       "</style>\n"
      ],
      "text/plain": [
       "<IPython.core.display.HTML object>"
      ]
     },
     "metadata": {},
     "output_type": "display_data"
    }
   ],
   "source": [
    "import numpy as np # linear algebra\n",
    "import pandas as pd # data processing, CSV file I/O (e.g. pd.read_csv)\n",
    "import matplotlib.pyplot as plt\n",
    "import seaborn as sns\n",
    "import pickle\n",
    "from sklearn.model_selection import train_test_split\n",
    "from sklearn.preprocessing import StandardScaler\n",
    "from sklearn.naive_bayes import GaussianNB\n",
    "from sklearn.linear_model import SGDClassifier\n",
    "from sklearn.discriminant_analysis import LinearDiscriminantAnalysis\n",
    "from sklearn.cluster import KMeans\n",
    "from sklearn.model_selection import StratifiedKFold\n",
    "from sklearn.model_selection import GridSearchCV\n",
    "from sklearn.ensemble import RandomForestClassifier\n",
    "from sklearn.neighbors import KNeighborsClassifier\n",
    "from sklearn.tree import DecisionTreeRegressor\n",
    "from sklearn.tree import DecisionTreeClassifier\n",
    "from sklearn.pipeline import Pipeline\n",
    "from sklearn.linear_model import LogisticRegression\n",
    "from sklearn.linear_model import SGDClassifier\n",
    "from sklearn.discriminant_analysis import LinearDiscriminantAnalysis\n",
    "from sklearn.model_selection import train_test_split\n",
    "from sklearn.ensemble import  BaggingClassifier\n",
    "from sklearn.neural_network import MLPClassifier\n",
    "from sklearn.tree import DecisionTreeClassifier\n",
    "from sklearn import metrics\n",
    "from sklearn.feature_extraction import DictVectorizer\n",
    "import warnings\n",
    "warnings.filterwarnings('ignore')\n",
    "from sklearn.preprocessing import PowerTransformer\n",
    "import optuna\n",
    "from lightgbm import LGBMClassifier\n",
    "from sklearn.ensemble import VotingClassifier\n",
    "from sklearn import preprocessing\n",
    "from sklearn.linear_model import LogisticRegression\n",
    "\n",
    "from sklearn.metrics import confusion_matrix\n",
    "from sklearn.metrics import classification_report\n",
    "from sklearn.metrics import roc_auc_score\n",
    "from sklearn.metrics import auc\n",
    "from sklearn.metrics import precision_score\n",
    "from sklearn.metrics import recall_score\n",
    "from sklearn.metrics import accuracy_score\n",
    "from sklearn.metrics import mean_squared_error\n",
    "from sklearn.metrics import f1_score\n",
    "from sklearn.metrics import roc_curve\n",
    "from sklearn.metrics import plot_roc_curve\n"
   ]
  },
  {
   "cell_type": "markdown",
   "id": "e5f52c58",
   "metadata": {
    "papermill": {
     "duration": 0.011006,
     "end_time": "2022-08-12T06:11:18.614448",
     "exception": false,
     "start_time": "2022-08-12T06:11:18.603442",
     "status": "completed"
    },
    "tags": []
   },
   "source": [
    "# <b><span style='color:#4B4B4B'>2 |</span><span style='color:#016CC9'>Reading Data</span></b>"
   ]
  },
  {
   "cell_type": "code",
   "execution_count": 2,
   "id": "e0577153",
   "metadata": {
    "_cell_guid": "b1076dfc-b9ad-4769-8c92-a6c4dae69d19",
    "_uuid": "8f2839f25d086af736a60e9eeb907d3b93b6e0e5",
    "execution": {
     "iopub.execute_input": "2022-08-12T06:11:18.639062Z",
     "iopub.status.busy": "2022-08-12T06:11:18.638342Z",
     "iopub.status.idle": "2022-08-12T06:11:20.011273Z",
     "shell.execute_reply": "2022-08-12T06:11:20.009992Z"
    },
    "papermill": {
     "duration": 1.388162,
     "end_time": "2022-08-12T06:11:20.014013",
     "exception": false,
     "start_time": "2022-08-12T06:11:18.625851",
     "status": "completed"
    },
    "tags": []
   },
   "outputs": [],
   "source": [
    "data=pd.read_csv('../input/onlineretail/OnlineRetail.csv', encoding= 'unicode_escape')"
   ]
  },
  {
   "cell_type": "markdown",
   "id": "2d3dbbf3",
   "metadata": {
    "papermill": {
     "duration": 0.011859,
     "end_time": "2022-08-12T06:11:20.039024",
     "exception": false,
     "start_time": "2022-08-12T06:11:20.027165",
     "status": "completed"
    },
    "tags": []
   },
   "source": [
    "# <b><span style='color:#4B4B4B'>3 |</span><span style='color:#016CC9'>EDA</span></b>"
   ]
  },
  {
   "cell_type": "code",
   "execution_count": 3,
   "id": "bea7973d",
   "metadata": {
    "execution": {
     "iopub.execute_input": "2022-08-12T06:11:20.063861Z",
     "iopub.status.busy": "2022-08-12T06:11:20.063407Z",
     "iopub.status.idle": "2022-08-12T06:11:20.131657Z",
     "shell.execute_reply": "2022-08-12T06:11:20.130574Z"
    },
    "papermill": {
     "duration": 0.083788,
     "end_time": "2022-08-12T06:11:20.134425",
     "exception": false,
     "start_time": "2022-08-12T06:11:20.050637",
     "status": "completed"
    },
    "tags": []
   },
   "outputs": [
    {
     "data": {
      "text/html": [
       "<div>\n",
       "<style scoped>\n",
       "    .dataframe tbody tr th:only-of-type {\n",
       "        vertical-align: middle;\n",
       "    }\n",
       "\n",
       "    .dataframe tbody tr th {\n",
       "        vertical-align: top;\n",
       "    }\n",
       "\n",
       "    .dataframe thead th {\n",
       "        text-align: right;\n",
       "    }\n",
       "</style>\n",
       "<table border=\"1\" class=\"dataframe\">\n",
       "  <thead>\n",
       "    <tr style=\"text-align: right;\">\n",
       "      <th></th>\n",
       "      <th>InvoiceNo</th>\n",
       "      <th>StockCode</th>\n",
       "      <th>Description</th>\n",
       "      <th>Quantity</th>\n",
       "      <th>InvoiceDate</th>\n",
       "      <th>UnitPrice</th>\n",
       "      <th>CustomerID</th>\n",
       "      <th>Country</th>\n",
       "    </tr>\n",
       "  </thead>\n",
       "  <tbody>\n",
       "    <tr>\n",
       "      <th>0</th>\n",
       "      <td>536365</td>\n",
       "      <td>85123A</td>\n",
       "      <td>WHITE HANGING HEART T-LIGHT HOLDER</td>\n",
       "      <td>6</td>\n",
       "      <td>12/1/2010 8:26</td>\n",
       "      <td>2.55</td>\n",
       "      <td>17850.0</td>\n",
       "      <td>United Kingdom</td>\n",
       "    </tr>\n",
       "    <tr>\n",
       "      <th>1</th>\n",
       "      <td>536365</td>\n",
       "      <td>71053</td>\n",
       "      <td>WHITE METAL LANTERN</td>\n",
       "      <td>6</td>\n",
       "      <td>12/1/2010 8:26</td>\n",
       "      <td>3.39</td>\n",
       "      <td>17850.0</td>\n",
       "      <td>United Kingdom</td>\n",
       "    </tr>\n",
       "    <tr>\n",
       "      <th>2</th>\n",
       "      <td>536365</td>\n",
       "      <td>84406B</td>\n",
       "      <td>CREAM CUPID HEARTS COAT HANGER</td>\n",
       "      <td>8</td>\n",
       "      <td>12/1/2010 8:26</td>\n",
       "      <td>2.75</td>\n",
       "      <td>17850.0</td>\n",
       "      <td>United Kingdom</td>\n",
       "    </tr>\n",
       "    <tr>\n",
       "      <th>3</th>\n",
       "      <td>536365</td>\n",
       "      <td>84029G</td>\n",
       "      <td>KNITTED UNION FLAG HOT WATER BOTTLE</td>\n",
       "      <td>6</td>\n",
       "      <td>12/1/2010 8:26</td>\n",
       "      <td>3.39</td>\n",
       "      <td>17850.0</td>\n",
       "      <td>United Kingdom</td>\n",
       "    </tr>\n",
       "    <tr>\n",
       "      <th>4</th>\n",
       "      <td>536365</td>\n",
       "      <td>84029E</td>\n",
       "      <td>RED WOOLLY HOTTIE WHITE HEART.</td>\n",
       "      <td>6</td>\n",
       "      <td>12/1/2010 8:26</td>\n",
       "      <td>3.39</td>\n",
       "      <td>17850.0</td>\n",
       "      <td>United Kingdom</td>\n",
       "    </tr>\n",
       "  </tbody>\n",
       "</table>\n",
       "</div>"
      ],
      "text/plain": [
       "  InvoiceNo StockCode                          Description  Quantity  \\\n",
       "0    536365    85123A   WHITE HANGING HEART T-LIGHT HOLDER         6   \n",
       "1    536365     71053                  WHITE METAL LANTERN         6   \n",
       "2    536365    84406B       CREAM CUPID HEARTS COAT HANGER         8   \n",
       "3    536365    84029G  KNITTED UNION FLAG HOT WATER BOTTLE         6   \n",
       "4    536365    84029E       RED WOOLLY HOTTIE WHITE HEART.         6   \n",
       "\n",
       "      InvoiceDate  UnitPrice  CustomerID         Country  \n",
       "0  12/1/2010 8:26       2.55     17850.0  United Kingdom  \n",
       "1  12/1/2010 8:26       3.39     17850.0  United Kingdom  \n",
       "2  12/1/2010 8:26       2.75     17850.0  United Kingdom  \n",
       "3  12/1/2010 8:26       3.39     17850.0  United Kingdom  \n",
       "4  12/1/2010 8:26       3.39     17850.0  United Kingdom  "
      ]
     },
     "execution_count": 3,
     "metadata": {},
     "output_type": "execute_result"
    }
   ],
   "source": [
    "df=data.copy()\n",
    "df.head()"
   ]
  },
  {
   "cell_type": "code",
   "execution_count": 4,
   "id": "3535655b",
   "metadata": {
    "execution": {
     "iopub.execute_input": "2022-08-12T06:11:20.159858Z",
     "iopub.status.busy": "2022-08-12T06:11:20.159111Z",
     "iopub.status.idle": "2022-08-12T06:11:20.346883Z",
     "shell.execute_reply": "2022-08-12T06:11:20.345290Z"
    },
    "papermill": {
     "duration": 0.205064,
     "end_time": "2022-08-12T06:11:20.351135",
     "exception": false,
     "start_time": "2022-08-12T06:11:20.146071",
     "status": "completed"
    },
    "tags": []
   },
   "outputs": [
    {
     "data": {
      "image/png": "[encoded data removed]",
      "text/plain": [
       "<Figure size 432x288 with 1 Axes>"
      ]
     },
     "metadata": {
      "needs_background": "light"
     },
     "output_type": "display_data"
    }
   ],
   "source": [
    "def overview(df):\n",
    "    num_rows=len(df.index)\n",
    "    num_col=len(df.columns)\n",
    "    fig, ax = plt.subplots()\n",
    "      \n",
    "    #create values for table\n",
    "    lab = ['Number Of Rows', 'Number Of Columns']\n",
    "    table_data=[\n",
    "    [num_rows,num_col]\n",
    "        ]\n",
    "    ax.set_title('Number of Samples', \n",
    "             fontweight =\"bold\") \n",
    "    #create table\n",
    "    table = ax.table(cellText=table_data, colLabels=lab,colColours =[\"#926AA6\"] * 10, loc='center')\n",
    "\n",
    "    #modify table\n",
    "    table.set_fontsize(14)\n",
    "    table.scale(2,4)\n",
    "    ax.axis('off')\n",
    "    #display table\n",
    "    plt.show()\n",
    "    \n",
    "overview(df) "
   ]
  },
  {
   "cell_type": "markdown",
   "id": "c997974f",
   "metadata": {
    "papermill": {
     "duration": 0.023102,
     "end_time": "2022-08-12T06:11:20.405295",
     "exception": false,
     "start_time": "2022-08-12T06:11:20.382193",
     "status": "completed"
    },
    "tags": []
   },
   "source": [
    "<div style=\"background:#1a0033   ;font-family: mono;font-size:15px;color:  #f2f2f2;padding:30px\" >\n",
    "<p style=\"font-family: mono;font-size:15px;color:  #f2f2f2\"><b>Missing values</b>"
   ]
  },
  {
   "cell_type": "code",
   "execution_count": 5,
   "id": "bdfbecd5",
   "metadata": {
    "execution": {
     "iopub.execute_input": "2022-08-12T06:11:20.430887Z",
     "iopub.status.busy": "2022-08-12T06:11:20.430439Z",
     "iopub.status.idle": "2022-08-12T06:11:20.928092Z",
     "shell.execute_reply": "2022-08-12T06:11:20.926817Z"
    },
    "papermill": {
     "duration": 0.513429,
     "end_time": "2022-08-12T06:11:20.930569",
     "exception": false,
     "start_time": "2022-08-12T06:11:20.417140",
     "status": "completed"
    },
    "tags": []
   },
   "outputs": [
    {
     "data": {
      "image/png": "[encoded data removed]",
      "text/plain": [
       "<Figure size 1440x1440 with 1 Axes>"
      ]
     },
     "metadata": {
      "needs_background": "light"
     },
     "output_type": "display_data"
    }
   ],
   "source": [
    "\"\"\"What are the counts of missing values in traint?\"\"\"\n",
    "ncounts = (pd.DataFrame([df.isnull().sum() * 100 / len(df)]).T).round(2) \n",
    "ncounts = ncounts.rename(columns={0: \"train_missing\"})\n",
    "ax=ncounts.plot(\n",
    "    kind=\"barh\", figsize=(20, 20), color='#8a3cf6' ,title=\"% of Values Missing\"\n",
    ")\n",
    "ax.bar_label(ax.containers[0])\n",
    "plt.show()"
   ]
  },
  {
   "cell_type": "markdown",
   "id": "f3203bf0",
   "metadata": {
    "papermill": {
     "duration": 0.012211,
     "end_time": "2022-08-12T06:11:20.956716",
     "exception": false,
     "start_time": "2022-08-12T06:11:20.944505",
     "status": "completed"
    },
    "tags": []
   },
   "source": [
    "<div style=\"background:#1a0033   ;font-family: mono;font-size:15px;color:  #f2f2f2;padding:30px\" >\n",
    "<p style=\"font-family: mono;font-size:15px;color:  #f2f2f2\"><b>Unique countries</b>"
   ]
  },
  {
   "cell_type": "code",
   "execution_count": 6,
   "id": "93bcffd8",
   "metadata": {
    "execution": {
     "iopub.execute_input": "2022-08-12T06:11:20.983769Z",
     "iopub.status.busy": "2022-08-12T06:11:20.982797Z",
     "iopub.status.idle": "2022-08-12T06:11:21.034550Z",
     "shell.execute_reply": "2022-08-12T06:11:21.033356Z"
    },
    "papermill": {
     "duration": 0.068265,
     "end_time": "2022-08-12T06:11:21.037418",
     "exception": false,
     "start_time": "2022-08-12T06:11:20.969153",
     "status": "completed"
    },
    "tags": []
   },
   "outputs": [
    {
     "data": {
      "text/plain": [
       "array(['United Kingdom', 'France', 'Australia', 'Netherlands', 'Germany',\n",
       "       'Norway', 'EIRE', 'Switzerland', 'Spain', 'Poland', 'Portugal',\n",
       "       'Italy', 'Belgium', 'Lithuania', 'Japan', 'Iceland',\n",
       "       'Channel Islands', 'Denmark', 'Cyprus', 'Sweden', 'Austria',\n",
       "       'Israel', 'Finland', 'Bahrain', 'Greece', 'Hong Kong', 'Singapore',\n",
       "       'Lebanon', 'United Arab Emirates', 'Saudi Arabia',\n",
       "       'Czech Republic', 'Canada', 'Unspecified', 'Brazil', 'USA',\n",
       "       'European Community', 'Malta', 'RSA'], dtype=object)"
      ]
     },
     "execution_count": 6,
     "metadata": {},
     "output_type": "execute_result"
    }
   ],
   "source": [
    "df['Country'].unique()"
   ]
  },
  {
   "cell_type": "code",
   "execution_count": 7,
   "id": "bb29e2c7",
   "metadata": {
    "execution": {
     "iopub.execute_input": "2022-08-12T06:11:21.064922Z",
     "iopub.status.busy": "2022-08-12T06:11:21.064499Z",
     "iopub.status.idle": "2022-08-12T06:11:21.074261Z",
     "shell.execute_reply": "2022-08-12T06:11:21.073108Z"
    },
    "papermill": {
     "duration": 0.026743,
     "end_time": "2022-08-12T06:11:21.076760",
     "exception": false,
     "start_time": "2022-08-12T06:11:21.050017",
     "status": "completed"
    },
    "tags": []
   },
   "outputs": [],
   "source": [
    "TotalAmount = df['Quantity'] * df['UnitPrice']\n",
    "\n",
    "df.insert(loc=5, column = 'TotalAmount', value=TotalAmount) "
   ]
  },
  {
   "cell_type": "markdown",
   "id": "65a4fb71",
   "metadata": {
    "papermill": {
     "duration": 0.012371,
     "end_time": "2022-08-12T06:11:21.101856",
     "exception": false,
     "start_time": "2022-08-12T06:11:21.089485",
     "status": "completed"
    },
    "tags": []
   },
   "source": [
    "<div style=\"background:#1a0033   ;font-family: mono;font-size:15px;color:  #f2f2f2;padding:30px\" >\n",
    "<p style=\"font-family: mono;font-size:15px;color:  #f2f2f2\"><b>Sum of quantities based on countries</b>"
   ]
  },
  {
   "cell_type": "code",
   "execution_count": 8,
   "id": "39206ab0",
   "metadata": {
    "execution": {
     "iopub.execute_input": "2022-08-12T06:11:21.128638Z",
     "iopub.status.busy": "2022-08-12T06:11:21.128214Z",
     "iopub.status.idle": "2022-08-12T06:11:21.205795Z",
     "shell.execute_reply": "2022-08-12T06:11:21.204621Z"
    },
    "papermill": {
     "duration": 0.093992,
     "end_time": "2022-08-12T06:11:21.208256",
     "exception": false,
     "start_time": "2022-08-12T06:11:21.114264",
     "status": "completed"
    },
    "tags": []
   },
   "outputs": [
    {
     "data": {
      "text/plain": [
       "Country\n",
       "United Kingdom          4263829\n",
       "Netherlands              200128\n",
       "EIRE                     142637\n",
       "Germany                  117448\n",
       "France                   110480\n",
       "Australia                 83653\n",
       "Sweden                    35637\n",
       "Switzerland               30325\n",
       "Spain                     26824\n",
       "Japan                     25218\n",
       "Belgium                   23152\n",
       "Norway                    19247\n",
       "Portugal                  16180\n",
       "Finland                   10666\n",
       "Channel Islands            9479\n",
       "Denmark                    8188\n",
       "Italy                      7999\n",
       "Cyprus                     6317\n",
       "Singapore                  5234\n",
       "Austria                    4827\n",
       "Hong Kong                  4769\n",
       "Israel                     4353\n",
       "Poland                     3653\n",
       "Unspecified                3300\n",
       "Canada                     2763\n",
       "Iceland                    2458\n",
       "Greece                     1556\n",
       "USA                        1034\n",
       "United Arab Emirates        982\n",
       "Malta                       944\n",
       "Lithuania                   652\n",
       "Czech Republic              592\n",
       "European Community          497\n",
       "Lebanon                     386\n",
       "Brazil                      356\n",
       "RSA                         352\n",
       "Bahrain                     260\n",
       "Saudi Arabia                 75\n",
       "Name: Quantity, dtype: int64"
      ]
     },
     "execution_count": 8,
     "metadata": {},
     "output_type": "execute_result"
    }
   ],
   "source": [
    "country_price = data.groupby('Country')['Quantity'].sum().sort_values(ascending = False)\n",
    "country_price"
   ]
  },
  {
   "cell_type": "code",
   "execution_count": 9,
   "id": "47dacda3",
   "metadata": {
    "execution": {
     "iopub.execute_input": "2022-08-12T06:11:21.236028Z",
     "iopub.status.busy": "2022-08-12T06:11:21.234910Z",
     "iopub.status.idle": "2022-08-12T06:11:21.434909Z",
     "shell.execute_reply": "2022-08-12T06:11:21.433766Z"
    },
    "papermill": {
     "duration": 0.216496,
     "end_time": "2022-08-12T06:11:21.437396",
     "exception": false,
     "start_time": "2022-08-12T06:11:21.220900",
     "status": "completed"
    },
    "tags": []
   },
   "outputs": [
    {
     "data": {
      "text/plain": [
       "<AxesSubplot:xlabel='Country'>"
      ]
     },
     "execution_count": 9,
     "metadata": {},
     "output_type": "execute_result"
    },
    {
     "data": {
      "image/png": "[encoded data removed]",
      "text/plain": [
       "<Figure size 432x288 with 1 Axes>"
      ]
     },
     "metadata": {
      "needs_background": "light"
     },
     "output_type": "display_data"
    }
   ],
   "source": [
    "country_price[:5].plot(kind='bar')\n"
   ]
  },
  {
   "cell_type": "code",
   "execution_count": 10,
   "id": "ad4f0081",
   "metadata": {
    "execution": {
     "iopub.execute_input": "2022-08-12T06:11:21.465444Z",
     "iopub.status.busy": "2022-08-12T06:11:21.464691Z",
     "iopub.status.idle": "2022-08-12T06:11:21.668602Z",
     "shell.execute_reply": "2022-08-12T06:11:21.667530Z"
    },
    "papermill": {
     "duration": 0.220677,
     "end_time": "2022-08-12T06:11:21.671042",
     "exception": false,
     "start_time": "2022-08-12T06:11:21.450365",
     "status": "completed"
    },
    "tags": []
   },
   "outputs": [
    {
     "data": {
      "text/plain": [
       "<AxesSubplot:xlabel='Country'>"
      ]
     },
     "execution_count": 10,
     "metadata": {},
     "output_type": "execute_result"
    },
    {
     "data": {
      "image/png": "[encoded data removed]",
      "text/plain": [
       "<Figure size 432x288 with 1 Axes>"
      ]
     },
     "metadata": {
      "needs_background": "light"
     },
     "output_type": "display_data"
    }
   ],
   "source": [
    "country_price[33:].plot(kind='bar')"
   ]
  },
  {
   "cell_type": "markdown",
   "id": "56be8c37",
   "metadata": {
    "papermill": {
     "duration": 0.01322,
     "end_time": "2022-08-12T06:11:21.697884",
     "exception": false,
     "start_time": "2022-08-12T06:11:21.684664",
     "status": "completed"
    },
    "tags": []
   },
   "source": [
    "<div style=\"background:#1a0033   ;font-family: mono;font-size:15px;color:  #f2f2f2;padding:30px\" >\n",
    "<p style=\"font-family: mono;font-size:15px;color:  #f2f2f2\"><b>Sum of total amount based on countries</b>"
   ]
  },
  {
   "cell_type": "code",
   "execution_count": 11,
   "id": "53f70eba",
   "metadata": {
    "execution": {
     "iopub.execute_input": "2022-08-12T06:11:21.727076Z",
     "iopub.status.busy": "2022-08-12T06:11:21.726311Z",
     "iopub.status.idle": "2022-08-12T06:11:21.795672Z",
     "shell.execute_reply": "2022-08-12T06:11:21.794471Z"
    },
    "papermill": {
     "duration": 0.086997,
     "end_time": "2022-08-12T06:11:21.798344",
     "exception": false,
     "start_time": "2022-08-12T06:11:21.711347",
     "status": "completed"
    },
    "tags": []
   },
   "outputs": [
    {
     "data": {
      "text/plain": [
       "Country\n",
       "United Kingdom          8187806.364\n",
       "Netherlands              284661.540\n",
       "EIRE                     263276.820\n",
       "Germany                  221698.210\n",
       "France                   197403.900\n",
       "Australia                137077.270\n",
       "Switzerland               56385.350\n",
       "Spain                     54774.580\n",
       "Belgium                   40910.960\n",
       "Sweden                    36595.910\n",
       "Japan                     35340.620\n",
       "Norway                    35163.460\n",
       "Portugal                  29367.020\n",
       "Finland                   22326.740\n",
       "Channel Islands           20086.290\n",
       "Denmark                   18768.140\n",
       "Italy                     16890.510\n",
       "Cyprus                    12946.290\n",
       "Austria                   10154.320\n",
       "Hong Kong                 10117.040\n",
       "Singapore                  9120.390\n",
       "Israel                     7907.820\n",
       "Poland                     7213.140\n",
       "Unspecified                4749.790\n",
       "Greece                     4710.520\n",
       "Iceland                    4310.000\n",
       "Canada                     3666.380\n",
       "Malta                      2505.470\n",
       "United Arab Emirates       1902.280\n",
       "USA                        1730.920\n",
       "Lebanon                    1693.880\n",
       "Lithuania                  1661.060\n",
       "European Community         1291.750\n",
       "Brazil                     1143.600\n",
       "RSA                        1002.310\n",
       "Czech Republic              707.720\n",
       "Bahrain                     548.400\n",
       "Saudi Arabia                131.170\n",
       "Name: TotalAmount, dtype: float64"
      ]
     },
     "execution_count": 11,
     "metadata": {},
     "output_type": "execute_result"
    }
   ],
   "source": [
    "country_totalAmount = df.groupby('Country')['TotalAmount'].sum().sort_values(ascending=False)\n",
    "country_totalAmount"
   ]
  },
  {
   "cell_type": "code",
   "execution_count": 12,
   "id": "235bb133",
   "metadata": {
    "execution": {
     "iopub.execute_input": "2022-08-12T06:11:21.827684Z",
     "iopub.status.busy": "2022-08-12T06:11:21.826928Z",
     "iopub.status.idle": "2022-08-12T06:12:14.683921Z",
     "shell.execute_reply": "2022-08-12T06:12:14.682754Z"
    },
    "papermill": {
     "duration": 52.88668,
     "end_time": "2022-08-12T06:12:14.698622",
     "exception": false,
     "start_time": "2022-08-12T06:11:21.811942",
     "status": "completed"
    },
    "tags": []
   },
   "outputs": [
    {
     "data": {
      "text/html": [
       "<div>\n",
       "<style scoped>\n",
       "    .dataframe tbody tr th:only-of-type {\n",
       "        vertical-align: middle;\n",
       "    }\n",
       "\n",
       "    .dataframe tbody tr th {\n",
       "        vertical-align: top;\n",
       "    }\n",
       "\n",
       "    .dataframe thead th {\n",
       "        text-align: right;\n",
       "    }\n",
       "</style>\n",
       "<table border=\"1\" class=\"dataframe\">\n",
       "  <thead>\n",
       "    <tr style=\"text-align: right;\">\n",
       "      <th></th>\n",
       "      <th>InvoiceNo</th>\n",
       "      <th>StockCode</th>\n",
       "      <th>Description</th>\n",
       "      <th>Quantity</th>\n",
       "      <th>InvoiceDate</th>\n",
       "      <th>TotalAmount</th>\n",
       "      <th>UnitPrice</th>\n",
       "      <th>CustomerID</th>\n",
       "      <th>Country</th>\n",
       "      <th>Year</th>\n",
       "    </tr>\n",
       "  </thead>\n",
       "  <tbody>\n",
       "    <tr>\n",
       "      <th>0</th>\n",
       "      <td>536365</td>\n",
       "      <td>85123A</td>\n",
       "      <td>WHITE HANGING HEART T-LIGHT HOLDER</td>\n",
       "      <td>6</td>\n",
       "      <td>12/1/2010 8:26</td>\n",
       "      <td>15.30</td>\n",
       "      <td>2.55</td>\n",
       "      <td>17850.0</td>\n",
       "      <td>United Kingdom</td>\n",
       "      <td>2010</td>\n",
       "    </tr>\n",
       "    <tr>\n",
       "      <th>1</th>\n",
       "      <td>536365</td>\n",
       "      <td>71053</td>\n",
       "      <td>WHITE METAL LANTERN</td>\n",
       "      <td>6</td>\n",
       "      <td>12/1/2010 8:26</td>\n",
       "      <td>20.34</td>\n",
       "      <td>3.39</td>\n",
       "      <td>17850.0</td>\n",
       "      <td>United Kingdom</td>\n",
       "      <td>2010</td>\n",
       "    </tr>\n",
       "    <tr>\n",
       "      <th>2</th>\n",
       "      <td>536365</td>\n",
       "      <td>84406B</td>\n",
       "      <td>CREAM CUPID HEARTS COAT HANGER</td>\n",
       "      <td>8</td>\n",
       "      <td>12/1/2010 8:26</td>\n",
       "      <td>22.00</td>\n",
       "      <td>2.75</td>\n",
       "      <td>17850.0</td>\n",
       "      <td>United Kingdom</td>\n",
       "      <td>2010</td>\n",
       "    </tr>\n",
       "    <tr>\n",
       "      <th>3</th>\n",
       "      <td>536365</td>\n",
       "      <td>84029G</td>\n",
       "      <td>KNITTED UNION FLAG HOT WATER BOTTLE</td>\n",
       "      <td>6</td>\n",
       "      <td>12/1/2010 8:26</td>\n",
       "      <td>20.34</td>\n",
       "      <td>3.39</td>\n",
       "      <td>17850.0</td>\n",
       "      <td>United Kingdom</td>\n",
       "      <td>2010</td>\n",
       "    </tr>\n",
       "    <tr>\n",
       "      <th>4</th>\n",
       "      <td>536365</td>\n",
       "      <td>84029E</td>\n",
       "      <td>RED WOOLLY HOTTIE WHITE HEART.</td>\n",
       "      <td>6</td>\n",
       "      <td>12/1/2010 8:26</td>\n",
       "      <td>20.34</td>\n",
       "      <td>3.39</td>\n",
       "      <td>17850.0</td>\n",
       "      <td>United Kingdom</td>\n",
       "      <td>2010</td>\n",
       "    </tr>\n",
       "  </tbody>\n",
       "</table>\n",
       "</div>"
      ],
      "text/plain": [
       "  InvoiceNo StockCode                          Description  Quantity  \\\n",
       "0    536365    85123A   WHITE HANGING HEART T-LIGHT HOLDER         6   \n",
       "1    536365     71053                  WHITE METAL LANTERN         6   \n",
       "2    536365    84406B       CREAM CUPID HEARTS COAT HANGER         8   \n",
       "3    536365    84029G  KNITTED UNION FLAG HOT WATER BOTTLE         6   \n",
       "4    536365    84029E       RED WOOLLY HOTTIE WHITE HEART.         6   \n",
       "\n",
       "      InvoiceDate  TotalAmount  UnitPrice  CustomerID         Country  Year  \n",
       "0  12/1/2010 8:26        15.30       2.55     17850.0  United Kingdom  2010  \n",
       "1  12/1/2010 8:26        20.34       3.39     17850.0  United Kingdom  2010  \n",
       "2  12/1/2010 8:26        22.00       2.75     17850.0  United Kingdom  2010  \n",
       "3  12/1/2010 8:26        20.34       3.39     17850.0  United Kingdom  2010  \n",
       "4  12/1/2010 8:26        20.34       3.39     17850.0  United Kingdom  2010  "
      ]
     },
     "execution_count": 12,
     "metadata": {},
     "output_type": "execute_result"
    }
   ],
   "source": [
    "df['Year'] = pd.DatetimeIndex(data['InvoiceDate']).year\n",
    "df.head()"
   ]
  },
  {
   "cell_type": "markdown",
   "id": "d7ce274e",
   "metadata": {
    "papermill": {
     "duration": 0.013331,
     "end_time": "2022-08-12T06:12:14.725472",
     "exception": false,
     "start_time": "2022-08-12T06:12:14.712141",
     "status": "completed"
    },
    "tags": []
   },
   "source": [
    "<div style=\"background:#1a0033   ;font-family: mono;font-size:15px;color:  #f2f2f2;padding:30px\" >\n",
    "<p style=\"font-family: mono;font-size:15px;color:  #f2f2f2\"><b>Total amount vs year</b>"
   ]
  },
  {
   "cell_type": "code",
   "execution_count": 13,
   "id": "9d00a5e3",
   "metadata": {
    "execution": {
     "iopub.execute_input": "2022-08-12T06:12:14.754909Z",
     "iopub.status.busy": "2022-08-12T06:12:14.754147Z",
     "iopub.status.idle": "2022-08-12T06:12:14.939198Z",
     "shell.execute_reply": "2022-08-12T06:12:14.938043Z"
    },
    "papermill": {
     "duration": 0.202678,
     "end_time": "2022-08-12T06:12:14.941745",
     "exception": false,
     "start_time": "2022-08-12T06:12:14.739067",
     "status": "completed"
    },
    "tags": []
   },
   "outputs": [
    {
     "data": {
      "text/plain": [
       "<AxesSubplot:xlabel='Year'>"
      ]
     },
     "execution_count": 13,
     "metadata": {},
     "output_type": "execute_result"
    },
    {
     "data": {
      "image/png": "[encoded data removed]",
      "text/plain": [
       "<Figure size 432x288 with 1 Axes>"
      ]
     },
     "metadata": {
      "needs_background": "light"
     },
     "output_type": "display_data"
    }
   ],
   "source": [
    "df.groupby('Year')['TotalAmount'].sum().plot(kind='bar')"
   ]
  },
  {
   "cell_type": "markdown",
   "id": "3bd6e12f",
   "metadata": {
    "papermill": {
     "duration": 0.013767,
     "end_time": "2022-08-12T06:12:14.969607",
     "exception": false,
     "start_time": "2022-08-12T06:12:14.955840",
     "status": "completed"
    },
    "tags": []
   },
   "source": [
    "<div style=\"background:#1a0033   ;font-family: mono;font-size:15px;color:  #f2f2f2;padding:30px\" >\n",
    "<p style=\"font-family: mono;font-size:15px;color:  #f2f2f2\"><b>Sales VS Month</b>"
   ]
  },
  {
   "cell_type": "code",
   "execution_count": 14,
   "id": "797ca046",
   "metadata": {
    "execution": {
     "iopub.execute_input": "2022-08-12T06:12:14.999200Z",
     "iopub.status.busy": "2022-08-12T06:12:14.998789Z",
     "iopub.status.idle": "2022-08-12T06:14:01.775934Z",
     "shell.execute_reply": "2022-08-12T06:14:01.774490Z"
    },
    "papermill": {
     "duration": 106.794883,
     "end_time": "2022-08-12T06:14:01.778504",
     "exception": false,
     "start_time": "2022-08-12T06:12:14.983621",
     "status": "completed"
    },
    "tags": []
   },
   "outputs": [
    {
     "data": {
      "text/plain": [
       "<AxesSubplot:title={'center':'Sales Month Wise'}, xlabel='Mon,Year'>"
      ]
     },
     "execution_count": 14,
     "metadata": {},
     "output_type": "execute_result"
    },
    {
     "data": {
      "image/png": "[encoded data removed]",
      "text/plain": [
       "<Figure size 432x288 with 1 Axes>"
      ]
     },
     "metadata": {
      "needs_background": "light"
     },
     "output_type": "display_data"
    }
   ],
   "source": [
    "df['Mon'] = pd.DatetimeIndex(data['InvoiceDate']).month\n",
    "df['month'] = pd.DatetimeIndex(data['InvoiceDate']).month_name\n",
    "df.groupby(['Mon', 'Year'])['TotalAmount'].sum().plot(kind='bar', title = 'Sales Month Wise') "
   ]
  },
  {
   "cell_type": "markdown",
   "id": "334645e5",
   "metadata": {
    "papermill": {
     "duration": 0.01422,
     "end_time": "2022-08-12T06:14:01.807394",
     "exception": false,
     "start_time": "2022-08-12T06:14:01.793174",
     "status": "completed"
    },
    "tags": []
   },
   "source": [
    "# <b><span style='color:#4B4B4B'>3 |</span><span style='color:#016CC9'>Calculating  Recency - Frequency - Monetary Value.</span></b>"
   ]
  },
  {
   "cell_type": "markdown",
   "id": "15f2e463",
   "metadata": {
    "papermill": {
     "duration": 0.014245,
     "end_time": "2022-08-12T06:14:01.836180",
     "exception": false,
     "start_time": "2022-08-12T06:14:01.821935",
     "status": "completed"
    },
    "tags": []
   },
   "source": [
    "# <h2 ><div style = \"background-color: #6600cc; color:white; border-radius: 15px; padding: 20px; margin: 2px;\"><b><span>📗1 | Recency</span></b></div></h2>\n",
    "\n",
    " <div style=\"background:#1a0033   ;font-family: mono;font-size:15px;color:  #f2f2f2;padding:30px\" >\n",
    " <p style=\"font-family: mono;font-size:15px;color:  #f2f2f2\">To calculate recency, we need to find out most recent purchase date of each customer and see how many days they are inactive for. After having no. of inactive days for each customer, we will apply K-means* clustering to assign customers a recency score.\n"
   ]
  },
  {
   "cell_type": "code",
   "execution_count": 15,
   "id": "59ea49be",
   "metadata": {
    "execution": {
     "iopub.execute_input": "2022-08-12T06:14:01.866820Z",
     "iopub.status.busy": "2022-08-12T06:14:01.866402Z",
     "iopub.status.idle": "2022-08-12T06:14:04.311881Z",
     "shell.execute_reply": "2022-08-12T06:14:04.310832Z"
    },
    "papermill": {
     "duration": 2.463895,
     "end_time": "2022-08-12T06:14:04.314594",
     "exception": false,
     "start_time": "2022-08-12T06:14:01.850699",
     "status": "completed"
    },
    "tags": []
   },
   "outputs": [],
   "source": [
    "#convertng to date\n",
    "data['InvoiceDate'] = pd.to_datetime(data['InvoiceDate'])"
   ]
  },
  {
   "cell_type": "code",
   "execution_count": 16,
   "id": "bebac7b9",
   "metadata": {
    "execution": {
     "iopub.execute_input": "2022-08-12T06:14:04.345763Z",
     "iopub.status.busy": "2022-08-12T06:14:04.345109Z",
     "iopub.status.idle": "2022-08-12T06:14:04.379092Z",
     "shell.execute_reply": "2022-08-12T06:14:04.378087Z"
    },
    "papermill": {
     "duration": 0.05257,
     "end_time": "2022-08-12T06:14:04.381760",
     "exception": false,
     "start_time": "2022-08-12T06:14:04.329190",
     "status": "completed"
    },
    "tags": []
   },
   "outputs": [],
   "source": [
    "resc=pd.DataFrame(data.groupby('CustomerID')['InvoiceDate'].max()).reset_index()"
   ]
  },
  {
   "cell_type": "code",
   "execution_count": 17,
   "id": "7df08c42",
   "metadata": {
    "execution": {
     "iopub.execute_input": "2022-08-12T06:14:04.412792Z",
     "iopub.status.busy": "2022-08-12T06:14:04.412346Z",
     "iopub.status.idle": "2022-08-12T06:14:04.419759Z",
     "shell.execute_reply": "2022-08-12T06:14:04.418967Z"
    },
    "papermill": {
     "duration": 0.025232,
     "end_time": "2022-08-12T06:14:04.421849",
     "exception": false,
     "start_time": "2022-08-12T06:14:04.396617",
     "status": "completed"
    },
    "tags": []
   },
   "outputs": [],
   "source": [
    "resc['resc']=(resc['InvoiceDate'].max()-resc['InvoiceDate']).astype('timedelta64[D]').astype(int)"
   ]
  },
  {
   "cell_type": "code",
   "execution_count": 18,
   "id": "9b960203",
   "metadata": {
    "execution": {
     "iopub.execute_input": "2022-08-12T06:14:04.453059Z",
     "iopub.status.busy": "2022-08-12T06:14:04.452628Z",
     "iopub.status.idle": "2022-08-12T06:14:05.535292Z",
     "shell.execute_reply": "2022-08-12T06:14:05.533948Z"
    },
    "papermill": {
     "duration": 1.101412,
     "end_time": "2022-08-12T06:14:05.537878",
     "exception": false,
     "start_time": "2022-08-12T06:14:04.436466",
     "status": "completed"
    },
    "tags": []
   },
   "outputs": [
    {
     "data": {
      "image/png": "[encoded data removed]",
      "text/plain": [
       "<Figure size 432x288 with 1 Axes>"
      ]
     },
     "metadata": {
      "needs_background": "light"
     },
     "output_type": "display_data"
    }
   ],
   "source": [
    "from sklearn.cluster import KMeans\n",
    "\n",
    "sse={}\n",
    "km_re = resc[['resc']]\n",
    "for k in range(1, 10):\n",
    "    kmeans = KMeans(n_clusters=k, max_iter=1000).fit(km_re)\n",
    "    km_re[\"clusters\"] = kmeans.labels_\n",
    "    sse[k] = kmeans.inertia_ \n",
    "plt.figure()\n",
    "plt.plot(list(sse.keys()), list(sse.values()))\n",
    "plt.xlabel(\"Number of cluster\")\n",
    "plt.show()"
   ]
  },
  {
   "cell_type": "code",
   "execution_count": 19,
   "id": "f1e4fa90",
   "metadata": {
    "execution": {
     "iopub.execute_input": "2022-08-12T06:14:05.569598Z",
     "iopub.status.busy": "2022-08-12T06:14:05.569191Z",
     "iopub.status.idle": "2022-08-12T06:14:05.663529Z",
     "shell.execute_reply": "2022-08-12T06:14:05.662451Z"
    },
    "papermill": {
     "duration": 0.114134,
     "end_time": "2022-08-12T06:14:05.666894",
     "exception": false,
     "start_time": "2022-08-12T06:14:05.552760",
     "status": "completed"
    },
    "tags": []
   },
   "outputs": [],
   "source": [
    "#build 4 clusters for recency and add it to dataframe\n",
    "kmeans = KMeans(n_clusters=4)\n",
    "kmeans.fit(resc[['resc']])\n",
    "resc['RecencyCluster'] = kmeans.predict(resc[['resc']])\n",
    "\n",
    "\n"
   ]
  },
  {
   "cell_type": "code",
   "execution_count": 20,
   "id": "09d3a98d",
   "metadata": {
    "execution": {
     "iopub.execute_input": "2022-08-12T06:14:05.702116Z",
     "iopub.status.busy": "2022-08-12T06:14:05.701672Z",
     "iopub.status.idle": "2022-08-12T06:14:05.715435Z",
     "shell.execute_reply": "2022-08-12T06:14:05.714151Z"
    },
    "papermill": {
     "duration": 0.033661,
     "end_time": "2022-08-12T06:14:05.718702",
     "exception": false,
     "start_time": "2022-08-12T06:14:05.685041",
     "status": "completed"
    },
    "tags": []
   },
   "outputs": [],
   "source": [
    "ord_clu=pd.DataFrame(resc.groupby('RecencyCluster')['resc'].mean()).sort_values('resc',ascending=True).reset_index()\n",
    "map_clu={}\n",
    "for i in ord_clu.index:\n",
    "    map_clu[ord_clu.iloc[i]['RecencyCluster']]=i\n",
    "    \n"
   ]
  },
  {
   "cell_type": "code",
   "execution_count": 21,
   "id": "9cf87987",
   "metadata": {
    "execution": {
     "iopub.execute_input": "2022-08-12T06:14:05.751070Z",
     "iopub.status.busy": "2022-08-12T06:14:05.750510Z",
     "iopub.status.idle": "2022-08-12T06:14:05.762886Z",
     "shell.execute_reply": "2022-08-12T06:14:05.761676Z"
    },
    "papermill": {
     "duration": 0.031663,
     "end_time": "2022-08-12T06:14:05.765567",
     "exception": false,
     "start_time": "2022-08-12T06:14:05.733904",
     "status": "completed"
    },
    "tags": []
   },
   "outputs": [],
   "source": [
    "resc['ord_cluster']=resc['RecencyCluster'].apply(lambda x :map_clu[x] )"
   ]
  },
  {
   "cell_type": "code",
   "execution_count": 22,
   "id": "9e93ad92",
   "metadata": {
    "execution": {
     "iopub.execute_input": "2022-08-12T06:14:05.797164Z",
     "iopub.status.busy": "2022-08-12T06:14:05.796741Z",
     "iopub.status.idle": "2022-08-12T06:14:05.810791Z",
     "shell.execute_reply": "2022-08-12T06:14:05.809701Z"
    },
    "papermill": {
     "duration": 0.032863,
     "end_time": "2022-08-12T06:14:05.813202",
     "exception": false,
     "start_time": "2022-08-12T06:14:05.780339",
     "status": "completed"
    },
    "tags": []
   },
   "outputs": [
    {
     "data": {
      "text/html": [
       "<div>\n",
       "<style scoped>\n",
       "    .dataframe tbody tr th:only-of-type {\n",
       "        vertical-align: middle;\n",
       "    }\n",
       "\n",
       "    .dataframe tbody tr th {\n",
       "        vertical-align: top;\n",
       "    }\n",
       "\n",
       "    .dataframe thead th {\n",
       "        text-align: right;\n",
       "    }\n",
       "</style>\n",
       "<table border=\"1\" class=\"dataframe\">\n",
       "  <thead>\n",
       "    <tr style=\"text-align: right;\">\n",
       "      <th></th>\n",
       "      <th>ord_cluster</th>\n",
       "      <th>resc</th>\n",
       "    </tr>\n",
       "  </thead>\n",
       "  <tbody>\n",
       "    <tr>\n",
       "      <th>0</th>\n",
       "      <td>0</td>\n",
       "      <td>17.397311</td>\n",
       "    </tr>\n",
       "    <tr>\n",
       "      <th>1</th>\n",
       "      <td>1</td>\n",
       "      <td>77.814920</td>\n",
       "    </tr>\n",
       "    <tr>\n",
       "      <th>2</th>\n",
       "      <td>2</td>\n",
       "      <td>184.598387</td>\n",
       "    </tr>\n",
       "    <tr>\n",
       "      <th>3</th>\n",
       "      <td>3</td>\n",
       "      <td>305.363806</td>\n",
       "    </tr>\n",
       "  </tbody>\n",
       "</table>\n",
       "</div>"
      ],
      "text/plain": [
       "   ord_cluster        resc\n",
       "0            0   17.397311\n",
       "1            1   77.814920\n",
       "2            2  184.598387\n",
       "3            3  305.363806"
      ]
     },
     "execution_count": 22,
     "metadata": {},
     "output_type": "execute_result"
    }
   ],
   "source": [
    "resc.groupby('ord_cluster')['resc'].mean().reset_index()"
   ]
  },
  {
   "cell_type": "markdown",
   "id": "7cdd26bd",
   "metadata": {
    "papermill": {
     "duration": 0.014384,
     "end_time": "2022-08-12T06:14:05.842520",
     "exception": false,
     "start_time": "2022-08-12T06:14:05.828136",
     "status": "completed"
    },
    "tags": []
   },
   "source": [
    "# <h2 ><div style = \"background-color: #6600cc; color:white; border-radius: 15px; padding: 20px; margin: 2px;\"><b><span>📗2 | Frequency</span></b></div></h2>\n",
    "\n",
    " <div style=\"background:#1a0033   ;font-family: mono;font-size:15px;color:  #f2f2f2;padding:30px\" >\n",
    " <p style=\"font-family: mono;font-size:15px;color:  #f2f2f2\">To create frequency clusters, we need to find total number orders for each customer. First calculate this and see how frequency look like in our customer"
   ]
  },
  {
   "cell_type": "code",
   "execution_count": 23,
   "id": "f45ae6e0",
   "metadata": {
    "execution": {
     "iopub.execute_input": "2022-08-12T06:14:05.874187Z",
     "iopub.status.busy": "2022-08-12T06:14:05.873785Z",
     "iopub.status.idle": "2022-08-12T06:14:05.902959Z",
     "shell.execute_reply": "2022-08-12T06:14:05.902034Z"
    },
    "papermill": {
     "duration": 0.048234,
     "end_time": "2022-08-12T06:14:05.905668",
     "exception": false,
     "start_time": "2022-08-12T06:14:05.857434",
     "status": "completed"
    },
    "tags": []
   },
   "outputs": [],
   "source": [
    "#get order counts for each user and create a dataframe with it\n",
    "freq = data.groupby('CustomerID').InvoiceDate.count().reset_index()\n",
    "freq.columns = ['CustomerID','Frequency']\n"
   ]
  },
  {
   "cell_type": "code",
   "execution_count": 24,
   "id": "37c42e7c",
   "metadata": {
    "execution": {
     "iopub.execute_input": "2022-08-12T06:14:05.937795Z",
     "iopub.status.busy": "2022-08-12T06:14:05.936822Z",
     "iopub.status.idle": "2022-08-12T06:14:06.027185Z",
     "shell.execute_reply": "2022-08-12T06:14:06.026141Z"
    },
    "papermill": {
     "duration": 0.109368,
     "end_time": "2022-08-12T06:14:06.030057",
     "exception": false,
     "start_time": "2022-08-12T06:14:05.920689",
     "status": "completed"
    },
    "tags": []
   },
   "outputs": [],
   "source": [
    "#k-means\n",
    "kmeans = KMeans(n_clusters=4)\n",
    "kmeans.fit(freq[['Frequency']])\n",
    "freq['FrequencyCluster'] = kmeans.predict(freq[['Frequency']])\n",
    "\n"
   ]
  },
  {
   "cell_type": "code",
   "execution_count": 25,
   "id": "9b6b2d4d",
   "metadata": {
    "execution": {
     "iopub.execute_input": "2022-08-12T06:14:06.064379Z",
     "iopub.status.busy": "2022-08-12T06:14:06.063701Z",
     "iopub.status.idle": "2022-08-12T06:14:06.077380Z",
     "shell.execute_reply": "2022-08-12T06:14:06.076423Z"
    },
    "papermill": {
     "duration": 0.03234,
     "end_time": "2022-08-12T06:14:06.079849",
     "exception": false,
     "start_time": "2022-08-12T06:14:06.047509",
     "status": "completed"
    },
    "tags": []
   },
   "outputs": [],
   "source": [
    "ord_clu=pd.DataFrame(freq.groupby('FrequencyCluster')['Frequency'].mean()).sort_values('Frequency',ascending=False).reset_index()\n",
    "map_clu={}\n",
    "for i in ord_clu.index:\n",
    "    map_clu[ord_clu.iloc[i]['FrequencyCluster']]=i\n",
    "    \n",
    "freq['ord_fcluster']=freq['FrequencyCluster'].apply(lambda x :map_clu[x] )"
   ]
  },
  {
   "cell_type": "code",
   "execution_count": 26,
   "id": "e5107b02",
   "metadata": {
    "execution": {
     "iopub.execute_input": "2022-08-12T06:14:06.112954Z",
     "iopub.status.busy": "2022-08-12T06:14:06.111966Z",
     "iopub.status.idle": "2022-08-12T06:14:06.124846Z",
     "shell.execute_reply": "2022-08-12T06:14:06.123710Z"
    },
    "papermill": {
     "duration": 0.032076,
     "end_time": "2022-08-12T06:14:06.127555",
     "exception": false,
     "start_time": "2022-08-12T06:14:06.095479",
     "status": "completed"
    },
    "tags": []
   },
   "outputs": [
    {
     "data": {
      "text/html": [
       "<div>\n",
       "<style scoped>\n",
       "    .dataframe tbody tr th:only-of-type {\n",
       "        vertical-align: middle;\n",
       "    }\n",
       "\n",
       "    .dataframe tbody tr th {\n",
       "        vertical-align: top;\n",
       "    }\n",
       "\n",
       "    .dataframe thead th {\n",
       "        text-align: right;\n",
       "    }\n",
       "</style>\n",
       "<table border=\"1\" class=\"dataframe\">\n",
       "  <thead>\n",
       "    <tr style=\"text-align: right;\">\n",
       "      <th></th>\n",
       "      <th>ord_fcluster</th>\n",
       "      <th>Frequency</th>\n",
       "    </tr>\n",
       "  </thead>\n",
       "  <tbody>\n",
       "    <tr>\n",
       "      <th>0</th>\n",
       "      <td>0</td>\n",
       "      <td>5914.000000</td>\n",
       "    </tr>\n",
       "    <tr>\n",
       "      <th>1</th>\n",
       "      <td>1</td>\n",
       "      <td>1349.750000</td>\n",
       "    </tr>\n",
       "    <tr>\n",
       "      <th>2</th>\n",
       "      <td>2</td>\n",
       "      <td>329.107884</td>\n",
       "    </tr>\n",
       "    <tr>\n",
       "      <th>3</th>\n",
       "      <td>3</td>\n",
       "      <td>49.753755</td>\n",
       "    </tr>\n",
       "  </tbody>\n",
       "</table>\n",
       "</div>"
      ],
      "text/plain": [
       "   ord_fcluster    Frequency\n",
       "0             0  5914.000000\n",
       "1             1  1349.750000\n",
       "2             2   329.107884\n",
       "3             3    49.753755"
      ]
     },
     "execution_count": 26,
     "metadata": {},
     "output_type": "execute_result"
    }
   ],
   "source": [
    "freq.groupby('ord_fcluster')['Frequency'].mean().reset_index()"
   ]
  },
  {
   "cell_type": "markdown",
   "id": "6ab1884a",
   "metadata": {
    "papermill": {
     "duration": 0.015324,
     "end_time": "2022-08-12T06:14:06.158098",
     "exception": false,
     "start_time": "2022-08-12T06:14:06.142774",
     "status": "completed"
    },
    "tags": []
   },
   "source": [
    "# <h2 ><div style = \"background-color: #6600cc; color:white; border-radius: 15px; padding: 20px; margin: 2px;\"><b><span>📗3 | Revenue</span></b></div></h2>\n",
    "\n",
    " <div style=\"background:#1a0033   ;font-family: mono;font-size:15px;color:  #f2f2f2;padding:30px\" >\n",
    " <p style=\"font-family: mono;font-size:15px;color:  #f2f2f2\">Revenue Let’s see how our customer database looks like when we cluster them based on revenue. We will calculate revenue for each customer, plot a histogram and apply the same clustering method."
   ]
  },
  {
   "cell_type": "code",
   "execution_count": 27,
   "id": "8651f7b5",
   "metadata": {
    "execution": {
     "iopub.execute_input": "2022-08-12T06:14:06.191324Z",
     "iopub.status.busy": "2022-08-12T06:14:06.190239Z",
     "iopub.status.idle": "2022-08-12T06:14:06.218394Z",
     "shell.execute_reply": "2022-08-12T06:14:06.217353Z"
    },
    "papermill": {
     "duration": 0.047455,
     "end_time": "2022-08-12T06:14:06.220943",
     "exception": false,
     "start_time": "2022-08-12T06:14:06.173488",
     "status": "completed"
    },
    "tags": []
   },
   "outputs": [],
   "source": [
    "#calculate revenue for each customer\n",
    "data['Revenue'] = data['UnitPrice'] * data['Quantity']\n",
    "revenue = data.groupby('CustomerID').Revenue.sum().reset_index()\n"
   ]
  },
  {
   "cell_type": "code",
   "execution_count": 28,
   "id": "01437393",
   "metadata": {
    "execution": {
     "iopub.execute_input": "2022-08-12T06:14:06.253410Z",
     "iopub.status.busy": "2022-08-12T06:14:06.252369Z",
     "iopub.status.idle": "2022-08-12T06:14:06.324981Z",
     "shell.execute_reply": "2022-08-12T06:14:06.323962Z"
    },
    "papermill": {
     "duration": 0.091767,
     "end_time": "2022-08-12T06:14:06.327875",
     "exception": false,
     "start_time": "2022-08-12T06:14:06.236108",
     "status": "completed"
    },
    "tags": []
   },
   "outputs": [],
   "source": [
    "#apply clustering\n",
    "kmeans = KMeans(n_clusters=4)\n",
    "kmeans.fit(revenue[['Revenue']])\n",
    "revenue['RevenueCluster'] = kmeans.predict(revenue[['Revenue']])\n"
   ]
  },
  {
   "cell_type": "code",
   "execution_count": 29,
   "id": "a5c2eb4b",
   "metadata": {
    "execution": {
     "iopub.execute_input": "2022-08-12T06:14:06.361950Z",
     "iopub.status.busy": "2022-08-12T06:14:06.361526Z",
     "iopub.status.idle": "2022-08-12T06:14:06.375334Z",
     "shell.execute_reply": "2022-08-12T06:14:06.374194Z"
    },
    "papermill": {
     "duration": 0.032653,
     "end_time": "2022-08-12T06:14:06.377902",
     "exception": false,
     "start_time": "2022-08-12T06:14:06.345249",
     "status": "completed"
    },
    "tags": []
   },
   "outputs": [],
   "source": [
    "\n",
    "ord_clu=pd.DataFrame(revenue.groupby('RevenueCluster')['Revenue'].mean()).sort_values('Revenue',ascending=False).reset_index()\n",
    "map_clu={}\n",
    "for i in ord_clu.index:\n",
    "    map_clu[ord_clu.iloc[i]['RevenueCluster']]=i\n",
    "    \n",
    "revenue['ord_rcluster']=revenue['RevenueCluster'].apply(lambda x :map_clu[x] )"
   ]
  },
  {
   "cell_type": "code",
   "execution_count": 30,
   "id": "b938e6c8",
   "metadata": {
    "execution": {
     "iopub.execute_input": "2022-08-12T06:14:06.410010Z",
     "iopub.status.busy": "2022-08-12T06:14:06.409323Z",
     "iopub.status.idle": "2022-08-12T06:14:06.423446Z",
     "shell.execute_reply": "2022-08-12T06:14:06.422458Z"
    },
    "papermill": {
     "duration": 0.032688,
     "end_time": "2022-08-12T06:14:06.425654",
     "exception": false,
     "start_time": "2022-08-12T06:14:06.392966",
     "status": "completed"
    },
    "tags": []
   },
   "outputs": [
    {
     "data": {
      "text/html": [
       "<div>\n",
       "<style scoped>\n",
       "    .dataframe tbody tr th:only-of-type {\n",
       "        vertical-align: middle;\n",
       "    }\n",
       "\n",
       "    .dataframe tbody tr th {\n",
       "        vertical-align: top;\n",
       "    }\n",
       "\n",
       "    .dataframe thead th {\n",
       "        text-align: right;\n",
       "    }\n",
       "</style>\n",
       "<table border=\"1\" class=\"dataframe\">\n",
       "  <thead>\n",
       "    <tr style=\"text-align: right;\">\n",
       "      <th></th>\n",
       "      <th>ord_rcluster</th>\n",
       "      <th>Revenue</th>\n",
       "    </tr>\n",
       "  </thead>\n",
       "  <tbody>\n",
       "    <tr>\n",
       "      <th>0</th>\n",
       "      <td>0</td>\n",
       "      <td>241136.560000</td>\n",
       "    </tr>\n",
       "    <tr>\n",
       "      <th>1</th>\n",
       "      <td>1</td>\n",
       "      <td>71423.516000</td>\n",
       "    </tr>\n",
       "    <tr>\n",
       "      <th>2</th>\n",
       "      <td>2</td>\n",
       "      <td>14385.679153</td>\n",
       "    </tr>\n",
       "    <tr>\n",
       "      <th>3</th>\n",
       "      <td>3</td>\n",
       "      <td>1134.984243</td>\n",
       "    </tr>\n",
       "  </tbody>\n",
       "</table>\n",
       "</div>"
      ],
      "text/plain": [
       "   ord_rcluster        Revenue\n",
       "0             0  241136.560000\n",
       "1             1   71423.516000\n",
       "2             2   14385.679153\n",
       "3             3    1134.984243"
      ]
     },
     "execution_count": 30,
     "metadata": {},
     "output_type": "execute_result"
    }
   ],
   "source": [
    "revenue.groupby('ord_rcluster')['Revenue'].mean().reset_index()"
   ]
  },
  {
   "cell_type": "code",
   "execution_count": 31,
   "id": "4b180a58",
   "metadata": {
    "execution": {
     "iopub.execute_input": "2022-08-12T06:14:06.459075Z",
     "iopub.status.busy": "2022-08-12T06:14:06.458339Z",
     "iopub.status.idle": "2022-08-12T06:14:06.484462Z",
     "shell.execute_reply": "2022-08-12T06:14:06.483314Z"
    },
    "papermill": {
     "duration": 0.045719,
     "end_time": "2022-08-12T06:14:06.487234",
     "exception": false,
     "start_time": "2022-08-12T06:14:06.441515",
     "status": "completed"
    },
    "tags": []
   },
   "outputs": [],
   "source": [
    "segmented_df=revenue.merge(freq,on='CustomerID').merge(resc,on='CustomerID') "
   ]
  },
  {
   "cell_type": "code",
   "execution_count": 32,
   "id": "935b54e8",
   "metadata": {
    "execution": {
     "iopub.execute_input": "2022-08-12T06:14:06.519410Z",
     "iopub.status.busy": "2022-08-12T06:14:06.518985Z",
     "iopub.status.idle": "2022-08-12T06:14:06.526547Z",
     "shell.execute_reply": "2022-08-12T06:14:06.525393Z"
    },
    "papermill": {
     "duration": 0.026411,
     "end_time": "2022-08-12T06:14:06.528938",
     "exception": false,
     "start_time": "2022-08-12T06:14:06.502527",
     "status": "completed"
    },
    "tags": []
   },
   "outputs": [],
   "source": [
    "segmented_df['overall_score']= segmented_df['ord_cluster'] + segmented_df['ord_fcluster'] + segmented_df['ord_rcluster']"
   ]
  },
  {
   "cell_type": "code",
   "execution_count": 33,
   "id": "08c0913d",
   "metadata": {
    "execution": {
     "iopub.execute_input": "2022-08-12T06:14:06.561829Z",
     "iopub.status.busy": "2022-08-12T06:14:06.561444Z",
     "iopub.status.idle": "2022-08-12T06:14:06.578096Z",
     "shell.execute_reply": "2022-08-12T06:14:06.576840Z"
    },
    "papermill": {
     "duration": 0.035506,
     "end_time": "2022-08-12T06:14:06.580422",
     "exception": false,
     "start_time": "2022-08-12T06:14:06.544916",
     "status": "completed"
    },
    "tags": []
   },
   "outputs": [
    {
     "data": {
      "text/html": [
       "<div>\n",
       "<style scoped>\n",
       "    .dataframe tbody tr th:only-of-type {\n",
       "        vertical-align: middle;\n",
       "    }\n",
       "\n",
       "    .dataframe tbody tr th {\n",
       "        vertical-align: top;\n",
       "    }\n",
       "\n",
       "    .dataframe thead th {\n",
       "        text-align: right;\n",
       "    }\n",
       "</style>\n",
       "<table border=\"1\" class=\"dataframe\">\n",
       "  <thead>\n",
       "    <tr style=\"text-align: right;\">\n",
       "      <th></th>\n",
       "      <th>resc</th>\n",
       "      <th>Frequency</th>\n",
       "      <th>Revenue</th>\n",
       "    </tr>\n",
       "    <tr>\n",
       "      <th>overall_score</th>\n",
       "      <th></th>\n",
       "      <th></th>\n",
       "      <th></th>\n",
       "    </tr>\n",
       "  </thead>\n",
       "  <tbody>\n",
       "    <tr>\n",
       "      <th>1</th>\n",
       "      <td>1.333333</td>\n",
       "      <td>4372.000000</td>\n",
       "      <td>156394.183333</td>\n",
       "    </tr>\n",
       "    <tr>\n",
       "      <th>2</th>\n",
       "      <td>2.555556</td>\n",
       "      <td>2432.555556</td>\n",
       "      <td>98056.746667</td>\n",
       "    </tr>\n",
       "    <tr>\n",
       "      <th>3</th>\n",
       "      <td>7.307692</td>\n",
       "      <td>985.230769</td>\n",
       "      <td>38669.643077</td>\n",
       "    </tr>\n",
       "    <tr>\n",
       "      <th>4</th>\n",
       "      <td>7.400000</td>\n",
       "      <td>491.435294</td>\n",
       "      <td>13810.254706</td>\n",
       "    </tr>\n",
       "    <tr>\n",
       "      <th>5</th>\n",
       "      <td>13.416667</td>\n",
       "      <td>302.447917</td>\n",
       "      <td>4388.008698</td>\n",
       "    </tr>\n",
       "    <tr>\n",
       "      <th>6</th>\n",
       "      <td>20.428237</td>\n",
       "      <td>70.649678</td>\n",
       "      <td>1246.147523</td>\n",
       "    </tr>\n",
       "    <tr>\n",
       "      <th>7</th>\n",
       "      <td>78.738025</td>\n",
       "      <td>46.979472</td>\n",
       "      <td>917.594919</td>\n",
       "    </tr>\n",
       "    <tr>\n",
       "      <th>8</th>\n",
       "      <td>185.255285</td>\n",
       "      <td>33.762602</td>\n",
       "      <td>558.622067</td>\n",
       "    </tr>\n",
       "    <tr>\n",
       "      <th>9</th>\n",
       "      <td>305.446529</td>\n",
       "      <td>21.908068</td>\n",
       "      <td>332.784615</td>\n",
       "    </tr>\n",
       "  </tbody>\n",
       "</table>\n",
       "</div>"
      ],
      "text/plain": [
       "                     resc    Frequency        Revenue\n",
       "overall_score                                        \n",
       "1                1.333333  4372.000000  156394.183333\n",
       "2                2.555556  2432.555556   98056.746667\n",
       "3                7.307692   985.230769   38669.643077\n",
       "4                7.400000   491.435294   13810.254706\n",
       "5               13.416667   302.447917    4388.008698\n",
       "6               20.428237    70.649678    1246.147523\n",
       "7               78.738025    46.979472     917.594919\n",
       "8              185.255285    33.762602     558.622067\n",
       "9              305.446529    21.908068     332.784615"
      ]
     },
     "execution_count": 33,
     "metadata": {},
     "output_type": "execute_result"
    }
   ],
   "source": [
    "segmented_df.groupby('overall_score')['resc','Frequency','Revenue'].mean()"
   ]
  },
  {
   "cell_type": "markdown",
   "id": "d23ca931",
   "metadata": {
    "papermill": {
     "duration": 0.015329,
     "end_time": "2022-08-12T06:14:06.611426",
     "exception": false,
     "start_time": "2022-08-12T06:14:06.596097",
     "status": "completed"
    },
    "tags": []
   },
   "source": [
    "### lets segment it into 0 to 2: High Value ,3 to 4: Mid Value, 5+: Low Value\n"
   ]
  },
  {
   "cell_type": "code",
   "execution_count": 34,
   "id": "036a5147",
   "metadata": {
    "execution": {
     "iopub.execute_input": "2022-08-12T06:14:06.644307Z",
     "iopub.status.busy": "2022-08-12T06:14:06.643543Z",
     "iopub.status.idle": "2022-08-12T06:14:06.651801Z",
     "shell.execute_reply": "2022-08-12T06:14:06.650965Z"
    },
    "papermill": {
     "duration": 0.027177,
     "end_time": "2022-08-12T06:14:06.654054",
     "exception": false,
     "start_time": "2022-08-12T06:14:06.626877",
     "status": "completed"
    },
    "tags": []
   },
   "outputs": [],
   "source": [
    "segmented_df['Segment'] = 'H'\n",
    "segmented_df.loc[segmented_df['overall_score']>2,'Segment'] = 'M' \n",
    "segmented_df.loc[segmented_df['overall_score']>4,'Segment'] = 'L' "
   ]
  },
  {
   "cell_type": "markdown",
   "id": "f35a499c",
   "metadata": {
    "papermill": {
     "duration": 0.018941,
     "end_time": "2022-08-12T06:14:06.689911",
     "exception": false,
     "start_time": "2022-08-12T06:14:06.670970",
     "status": "completed"
    },
    "tags": []
   },
   "source": [
    "# <b><span style='color:#4B4B4B'>3 |</span><span style='color:#016CC9'>Visualization of customer segmentation</span></b>"
   ]
  },
  {
   "cell_type": "code",
   "execution_count": 35,
   "id": "c5fc3c7b",
   "metadata": {
    "execution": {
     "iopub.execute_input": "2022-08-12T06:14:06.723736Z",
     "iopub.status.busy": "2022-08-12T06:14:06.722574Z",
     "iopub.status.idle": "2022-08-12T06:14:08.253135Z",
     "shell.execute_reply": "2022-08-12T06:14:08.251933Z"
    },
    "papermill": {
     "duration": 1.549745,
     "end_time": "2022-08-12T06:14:08.255614",
     "exception": false,
     "start_time": "2022-08-12T06:14:06.705869",
     "status": "completed"
    },
    "tags": []
   },
   "outputs": [
    {
     "data": {
      "text/html": [
       "        <script type=\"text/javascript\">\n",
       "        window.PlotlyConfig = {MathJaxConfig: 'local'};\n",
       "        if (window.MathJax && window.MathJax.Hub && window.MathJax.Hub.Config) {window.MathJax.Hub.Config({SVG: {font: \"STIX-Web\"}});}\n",
       "        if (typeof require !== 'undefined') {\n",
       "        require.undef(\"plotly\");\n",
       "        requirejs.config({\n",
       "            paths: {\n",
       "                'plotly': ['https://cdn.plot.ly/plotly-2.12.1.min']\n",
       "            }\n",
       "        });\n",
       "        require(['plotly'], function(Plotly) {\n",
       "            window._Plotly = Plotly;\n",
       "        });\n",
       "        }\n",
       "        </script>\n",
       "        "
      ]
     },
     "metadata": {},
     "output_type": "display_data"
    },
    {
     "data": {
      "text/html": [
       "<div>                            <div id=\"b090c637-e778-4018-ba4b-f102622f0407\" class=\"plotly-graph-div\" style=\"height:525px; width:100%;\"></div>            <script type=\"text/javascript\">                require([\"plotly\"], function(Plotly) {                    window.PLOTLYENV=window.PLOTLYENV || {};                                    if (document.getElementById(\"b090c637-e778-4018-ba4b-f102622f0407\")) {                    Plotly.newPlot(                        \"b090c637-e778-4018-ba4b-f102622f0407\",                        [{\"hovertemplate\":\"Frequency=%{x}<br>resc=%{y}<br>Revenue=%{z}<br>overall_score=%{marker.color}<extra></extra>\",\"legendgroup\":\"\",\"marker\":{\"color\":[9,6,7,6,9,6,8,8,8,6,6,6,5,7,9,5,7,6,9,6,7,6,7,9,6,6,9,6,7,6,6,8,6,9,6,7,6,7,7,6,6,6,7,9,9,7,8,6,7,6,6,9,7,7,8,3,5,7,7,6,7,6,8,7,8,6,4,6,6,5,6,4,7,6,7,5,6,9,6,6,6,7,8,6,5,8,4,6,8,7,7,6,7,7,7,6,6,6,6,8,4,5,6,5,7,5,4,6,6,6,5,6,5,6,9,5,6,7,8,6,7,6,6,9,7,9,6,9,8,8,6,9,8,7,7,9,9,7,5,6,7,7,8,6,6,6,6,7,6,7,6,6,7,7,5,6,5,4,6,6,7,6,8,8,7,9,6,5,7,5,6,9,6,9,6,9,9,7,4,5,6,6,8,9,6,6,6,7,9,6,8,5,6,8,6,6,6,6,7,9,7,7,6,7,5,6,6,6,8,7,6,7,9,6,7,6,7,7,6,9,6,7,6,6,6,6,4,8,9,7,8,5,5,6,6,7,7,7,6,6,8,6,7,6,7,7,6,6,6,8,7,6,9,9,8,6,6,6,6,6,6,5,6,9,9,7,6,8,6,9,6,6,6,5,7,6,4,4,4,6,6,9,7,6,8,6,7,7,6,6,5,7,6,7,6,5,9,6,4,7,6,6,5,7,6,8,7,6,5,6,7,6,6,9,6,6,7,7,4,8,8,9,9,9,9,7,7,8,5,6,2,5,7,7,4,8,9,7,5,7,7,6,8,9,5,8,8,7,6,6,6,6,6,6,6,6,6,7,8,9,9,9,7,6,9,6,8,6,8,9,6,7,8,7,9,8,6,8,7,7,7,6,6,6,9,6,9,6,8,9,7,8,6,5,8,5,7,7,6,9,6,6,7,9,7,7,9,5,8,7,8,6,9,5,8,9,7,9,9,8,7,6,6,6,9,6,6,7,7,7,8,6,8,6,6,8,5,9,6,6,7,6,6,6,6,8,8,7,6,6,4,8,7,7,6,6,7,7,5,6,6,6,6,6,6,6,7,9,6,9,8,6,5,6,6,6,6,6,9,5,6,6,7,6,6,7,6,4,8,8,8,8,6,8,6,6,7,9,6,6,6,6,6,7,6,8,7,4,9,7,5,8,7,9,9,6,5,6,7,7,6,5,6,7,6,7,6,6,6,6,9,7,7,8,7,6,9,9,7,6,5,6,7,5,8,7,6,9,9,7,8,6,9,6,7,6,5,8,9,7,6,4,6,8,3,7,6,8,2,5,6,7,8,6,7,5,4,7,8,5,6,6,7,6,9,6,6,4,6,7,6,6,8,9,7,6,6,7,7,6,9,9,7,8,7,5,6,6,7,7,6,9,6,6,6,5,6,8,6,8,6,7,7,6,6,9,7,6,9,6,6,7,6,6,6,5,6,7,5,6,6,6,9,6,9,6,6,7,7,8,6,5,5,6,6,6,7,5,7,6,6,7,9,7,7,7,8,8,7,6,9,8,7,8,5,5,7,8,6,6,9,7,7,8,7,7,6,6,7,7,8,6,6,6,7,7,9,9,4,7,5,5,5,5,9,6,6,7,7,6,6,7,7,6,7,9,6,8,6,8,9,8,6,6,9,8,7,8,9,6,7,6,6,6,6,6,6,6,7,6,4,7,7,6,6,6,7,6,9,6,7,6,6,7,8,8,5,9,8,7,9,7,7,6,6,7,6,7,7,7,9,9,7,6,6,7,6,7,9,9,9,7,7,7,7,6,6,9,6,9,7,6,7,8,6,8,6,7,8,7,6,6,7,4,6,7,8,6,6,5,7,8,6,7,7,6,6,6,6,6,7,7,6,6,6,9,7,6,5,6,6,5,9,8,6,6,4,6,6,8,7,7,6,5,7,5,7,8,8,8,6,8,6,8,7,8,8,7,7,4,7,7,8,9,9,6,6,9,6,6,8,6,7,7,6,9,6,8,6,6,9,7,7,7,6,7,7,7,7,5,6,6,6,6,5,7,8,6,8,5,6,6,7,6,6,7,6,9,7,7,6,6,6,8,7,7,8,6,6,8,6,8,5,8,7,6,6,6,6,9,8,9,6,6,6,6,7,6,7,7,6,6,5,9,6,7,6,6,6,5,7,5,9,6,8,7,6,9,7,5,6,7,6,6,7,6,7,6,7,8,6,6,7,6,9,6,6,6,6,7,8,6,6,8,7,8,7,8,5,7,7,9,6,8,8,5,6,8,9,6,8,7,7,6,9,3,6,6,8,5,9,6,6,9,9,9,5,6,8,9,9,9,6,9,6,7,6,7,8,7,6,6,6,8,8,6,5,5,8,6,8,7,5,6,7,8,9,7,7,9,7,9,8,5,6,6,6,7,7,8,7,6,4,6,7,6,7,4,7,6,9,6,6,9,7,6,6,7,4,7,9,7,8,9,6,7,7,9,6,9,6,8,6,6,7,6,6,6,9,8,6,6,6,8,7,6,9,6,6,8,6,8,6,9,6,6,7,6,7,7,7,7,6,5,8,7,9,6,6,8,7,7,6,6,6,6,5,7,9,7,7,7,7,6,5,6,6,6,8,7,8,7,7,6,6,9,6,6,7,9,6,8,7,6,7,7,6,7,7,7,9,7,6,6,6,7,6,8,7,7,9,7,9,8,8,6,6,6,6,7,7,9,6,6,8,8,6,6,8,6,9,7,6,6,9,8,4,6,7,9,7,5,8,6,7,7,6,6,6,5,6,5,7,8,6,6,6,6,6,5,8,6,8,6,6,7,8,9,7,7,7,8,6,6,8,8,6,7,7,7,5,4,6,6,6,9,8,7,6,5,9,5,7,9,6,9,5,6,4,6,7,7,7,3,5,9,5,5,6,9,7,9,5,6,6,7,6,7,7,6,9,9,6,5,6,3,7,9,5,6,1,6,5,8,7,6,8,7,7,6,6,6,6,6,6,9,6,8,9,6,7,6,6,7,7,6,9,5,7,6,6,6,6,6,9,8,6,5,7,8,8,6,7,8,9,2,6,6,4,8,8,7,7,9,6,7,6,6,7,9,7,5,6,5,7,9,6,5,5,7,4,8,7,6,8,7,6,6,8,7,6,7,7,7,9,6,6,6,6,6,6,9,5,8,7,7,6,6,7,8,6,6,6,6,7,9,9,6,6,8,8,6,8,7,9,9,6,6,9,7,5,8,7,6,8,7,8,9,8,7,7,7,5,8,6,6,6,5,6,8,6,6,5,6,6,6,6,2,6,6,7,8,7,7,7,6,8,6,7,6,7,8,6,7,8,8,5,7,6,7,6,6,6,8,8,8,6,6,7,6,7,9,6,9,8,8,8,6,9,7,6,6,6,6,7,4,9,9,9,8,8,6,7,6,6,6,9,6,5,6,5,8,5,7,6,8,6,7,6,7,7,6,7,5,9,6,9,7,5,6,6,5,7,7,5,8,6,5,7,6,9,5,6,7,8,9,9,6,6,6,7,5,6,6,5,8,7,6,8,4,9,8,7,8,6,7,9,6,6,6,6,7,6,7,9,6,9,6,8,6,8,7,6,6,7,8,8,6,6,7,9,9,5,5,7,7,5,6,6,5,5,6,6,6,8,7,7,6,6,7,6,6,7,5,5,4,6,6,5,8,6,5,6,9,7,7,6,6,7,8,6,6,5,5,8,9,6,6,8,6,5,7,7,6,7,5,7,7,6,6,9,5,7,9,6,6,6,6,5,8,7,8,5,9,5,6,6,6,6,6,6,9,6,9,3,5,6,7,8,6,8,8,6,8,6,7,8,6,9,7,6,7,9,9,6,7,7,6,6,7,8,6,8,1,8,5,7,7,5,6,8,6,6,5,7,6,6,6,7,6,4,8,9,8,6,6,6,9,4,7,8,5,7,5,8,6,6,8,9,6,8,5,8,6,5,5,6,5,8,6,5,6,5,6,5,6,6,6,5,6,8,5,6,9,9,5,6,6,4,5,6,6,6,8,6,6,7,9,6,6,7,6,5,6,7,8,6,9,7,9,6,6,6,6,3,8,7,7,7,6,7,9,7,9,6,6,6,6,6,7,6,6,8,3,7,7,5,7,8,6,6,7,5,5,9,6,8,8,7,7,6,9,8,6,6,8,6,7,6,6,7,9,7,6,7,8,4,9,6,7,6,7,7,6,7,6,6,7,6,6,6,5,8,6,6,9,6,8,6,6,7,6,6,6,7,9,7,8,9,9,8,6,7,4,8,6,6,6,6,5,6,8,6,7,6,1,6,6,7,7,7,8,6,7,9,6,7,6,9,7,9,4,7,6,6,7,6,6,7,5,6,6,9,8,7,6,5,9,5,9,7,6,7,6,7,6,7,7,6,7,7,6,9,6,8,6,8,6,6,8,6,7,8,4,7,8,6,6,7,6,8,6,6,9,5,6,5,6,6,7,6,6,7,6,9,5,5,7,7,6,3,8,8,6,5,8,5,9,7,9,6,6,9,6,6,9,5,5,6,3,7,8,6,6,7,6,8,9,7,6,7,7,8,4,8,6,9,9,6,6,9,7,8,6,7,6,6,8,7,9,6,6,8,6,6,9,8,8,6,6,6,5,6,6,6,8,9,7,7,7,6,6,5,7,7,7,8,6,7,6,8,6,8,7,6,8,5,6,8,8,6,8,5,5,6,7,6,6,6,4,9,6,7,9,9,6,9,6,9,7,9,6,9,7,8,6,7,6,6,4,7,7,5,6,6,7,7,7,6,9,7,6,6,8,7,8,9,6,6,7,6,8,7,9,9,8,9,8,9,6,7,8,7,9,8,9,6,6,6,6,7,7,7,8,8,7,5,5,6,6,7,7,8,9,8,7,8,9,7,7,8,9,6,6,6,5,7,6,6,7,6,9,8,7,7,6,6,6,4,6,8,5,6,5,7,7,6,9,7,7,7,9,2,7,7,8,7,9,6,9,6,7,7,7,9,7,6,6,9,8,8,7,7,7,7,7,6,6,9,9,7,8,9,5,9,6,5,4,6,9,8,7,6,7,7,6,8,6,8,6,7,6,7,6,8,5,8,6,8,9,8,6,6,6,9,7,9,6,6,7,8,8,6,6,9,7,6,8,6,9,6,7,6,7,9,6,9,5,5,6,6,6,7,6,6,5,9,7,7,9,5,5,9,9,9,6,6,6,5,9,9,9,6,9,7,6,9,6,7,6,6,6,6,7,6,7,6,7,6,8,6,6,7,6,7,6,5,6,6,4,6,5,9,7,7,6,8,8,9,6,8,4,5,6,8,6,6,5,6,7,6,6,6,6,9,5,6,5,5,6,8,8,6,6,7,9,5,7,5,7,6,6,8,7,9,4,6,6,6,9,6,7,6,6,7,5,6,5,6,8,6,8,8,7,7,6,6,8,7,9,9,6,7,6,7,6,6,6,5,6,7,7,6,7,9,6,8,7,6,6,4,6,6,7,6,5,8,7,7,7,6,6,6,6,7,7,9,8,4,7,8,7,6,8,8,9,6,7,7,6,8,6,6,8,6,6,9,7,7,8,6,8,6,9,6,7,7,7,5,7,7,6,6,6,7,6,7,6,9,6,6,9,6,6,8,5,9,8,8,7,5,5,9,6,8,6,8,8,4,6,6,6,9,8,6,5,7,8,7,8,9,7,6,6,7,7,6,7,6,8,6,6,7,5,5,9,7,6,6,7,6,8,7,6,7,7,7,4,6,7,8,8,8,8,6,6,6,6,5,5,9,6,6,6,8,6,7,7,7,6,8,7,5,5,6,7,8,6,7,6,7,8,6,7,7,9,6,6,9,8,7,7,7,6,7,9,6,6,6,7,5,6,7,7,9,6,6,6,6,8,7,6,8,4,6,5,6,5,6,6,6,6,7,5,9,6,6,7,6,9,9,8,6,7,7,7,8,8,9,8,8,6,9,6,6,6,6,6,5,8,5,8,6,9,8,6,8,8,9,9,8,7,6,6,8,7,7,7,9,8,9,9,7,6,6,6,6,6,6,6,6,7,6,6,6,6,9,6,8,6,7,8,6,7,7,6,6,5,7,6,6,6,6,6,5,7,7,5,5,6,5,8,5,6,6,9,5,6,5,6,6,5,6,6,6,6,9,6,6,6,6,7,3,9,7,3,8,7,9,6,7,6,6,6,7,7,5,8,7,6,8,8,6,6,7,9,6,9,9,6,6,6,9,9,6,9,6,7,6,7,9,6,7,8,7,7,6,9,8,7,7,6,6,6,7,9,7,6,7,8,5,8,8,8,5,8,8,6,7,6,7,7,9,9,6,6,6,7,4,6,9,7,9,6,7,7,9,6,9,5,8,8,9,6,6,9,7,6,6,9,7,5,9,8,6,6,6,7,7,7,6,7,7,7,8,7,6,7,7,7,7,6,5,5,6,6,6,6,8,7,6,6,9,7,6,6,7,6,6,7,5,7,6,7,8,7,9,8,6,6,9,7,6,8,8,7,8,6,7,6,7,7,6,5,5,6,8,6,8,7,7,9,9,6,5,9,8,6,7,6,9,5,7,7,9,6,7,9,8,8,6,6,7,9,6,6,8,7,6,6,8,6,7,6,8,8,6,7,6,6,9,7,7,6,8,8,7,6,8,7,6,5,5,6,6,5,6,8,9,7,6,7,6,8,6,6,5,9,6,9,6,6,7,8,6,6,6,5,6,6,7,6,6,6,6,6,6,6,6,7,6,9,9,6,7,7,7,7,6,9,7,9,5,7,6,8,6,7,5,9,9,7,9,6,6,5,6,7,7,6,6,6,6,7,4,6,8,9,5,9,7,7,7,8,7,6,6,6,5,7,6,6,6,6,8,8,8,8,7,6,7,7,8,5,6,8,7,6,5,6,7,6,7,9,8,5,7,7,6,6,7,6,8,8,7,6,6,7,9,6,6,7,8,9,6,7,6,6,6,9,9,6,6,7,6,9,7,6,8,4,4,8,7,6,8,6,6,6,6,7,6,7,8,9,4,6,7,8,8,6,6,6,6,4,6,6,7,9,6,8,6,6,6,7,7,7,9,8,7,9,7,9,8,7,7,5,7,7,7,6,6,9,6,6,6,7,6,5,8,8,6,7,8,6,8,6,9,6,7,9,7,9,6,7,6,7,6,8,6,6,6,7,6,9,8,8,6,7,7,6,8,5,5,5,9,8,6,9,6,7,6,6,5,6,5,7,6,6,9,6,7,6,3,7,5,6,7,6,9,7,8,8,8,5,6,4,6,6,7,5,6,5,5,8,7,9,5,9,5,6,9,5,7,9,6,9,5,5,7,6,7,7,7,9,8,6,5,5,6,5,6,6,6,6,9,7,9,7,8,9,7,6,7,6,8,5,9,9,5,6,9,7,5,7,7,6,7,7,7,4,7,9,5,6,7,6,6,5,9,7,5,9,7,6,8,7,6,8,7,8,7,6,8,6,9,5,5,7,6,5,7,8,6,6,7,7,8,6,8,6,8,7,6,6,8,4,6,7,4,7,6,7,8,9,6,6,6,6,9,7,7,6,8,6,6,7,5,7,6,6,6,7,7,8,6,6,6,8,5,6,9,7,9,6,6,6,7,6,5,5,7,6,7,5,6,9,6,6,6,9,7,7,7,5,6,9,7,6,6,6,4,7,6,7,6,5,6,5,8,5,8,8,6,7,7,7,6,6,8,6,8,7,6,7,8,8,6,8,6,6,6,9,7,6,9,7,6,6,6,6,6,6,6,8,6,9,6,9,8,6,6,7,6,6,7,6,6,6,5,4,6,5,6,6,7,8,7,7,7,6,7,6,9,7,6,8,6,6,6,6,7,8,7,7,5,6,8,6,7,6,7,5,9,7,9,6,7,8,5,6,7,6,6,6,6,6,7,6,6,6,7,6,7,6,6,6,5,7,9,6,6,5,6,6,9,8,4,6,8,6,6,6,9,9,6,8,7,8,8,7,7,9,6,6,7,6,9,4,9,8,6,7,6,7,8,6,7,6,6,6,6,5,6,6,6,9,6,7,9,7,6,8,6,8,8,7,7,6,6,8,6,7,7,5,6,9,6,6,7,6,8,7,7,5,9,6,7,8,5,6,5,6,7,9,9,6,5,7,9,5,6,6,8,6,6,6,5,9,7,4,7,8,6,7,6,9,7,6,6,6,7,8,7,8,8,6,7,7,6,6,8,8,7,7,6,6,6,6,6,6,9,6,6,6,7,6,6,6,9,5,9,7,7,8,6,6,5,6,7,6,5,6,9,6,6,7,7,9,7,5,7,4,8,9,6,6,5,7,5,8,6,6,7,7,9,6,9,6,6,7,8,5,5,8,6,7,6,5,6,8,8,7,5,6,5,7,6,6,6,6,6,7,4,8,9,8,6,6,7,6,6,6,4,6,9,8,8,6,6,6,6,7,5,6,5,7,6,6,6,5,7,4,7,6,9,6,7,6,6,9,8,6,8,8,8,6,8,5,2,6,6,8,8,9,7,6,6,7,6,7,5,8,6,6,6,6,8,7,7,6,7,9,7,6,6,9,6,9,7,9,6,8,6,6,8,8,7,9,9,6,6,2,6,7,7,6,6,9,6,7,6,6,6,9,9,6,7,5,5,7,7,9,8,6,6,6,9,6,9,8,6,8,9,6,7,6,6,8,6,7,6,6,6,6,6,9,6,7,6,8,5,8,6,9,4,8,6,6,7,6,5,7,5,7,6,5,8,6,8,5,7,8,6,5,5,7,5,7,7,8,6,9,7,6,6,6,5,7,6,8,6,6,5,6,6,9,7,7,9,6,8,7,7,8,6,5,5,6,9,6,7,6,6,8,6,6,6,7,6,6,8,6,6,5,7,4,6,4,9,7,6,6,6,6,5,5,9,7,8,8,7,6,8,9,6,9,6,6,8,6,4,8,8,8,6,6,9,8,5,8,5,6,7,7,7,5,6,6,5,7,9,6,7,4,6,6,6,6,7,6,8,7,8,5,9,6,5,5,6,6,6,9,7,8,6,6,5,8,7,6,7,9,5,6,8,7,7,7,8,7,9,5,6,6,8,6,6,5,6,7,7,6,6,4,6,5,6,6,7,8,7,5,6,9,6,6,7,6,6,6,6,6,2,9,7,7,7,8,8,6,8,9,6,5,5,9,9,5,9,7,6,4,8,6,7,5,8,7,8,8,6,8,9,9,6,6,6,6,7,6,8,9,8,7,8,6,6,6,8,7,8,8,6,6,7,9,9,6,9,7,6,6,7,5,7,9,6,9,8,6,6,6,8,6,7,8,6,6,8,7,7,6,8,6,8,4,7,6,5,8,9,7,7,8,5,8,6,5,6,9,9,8,8,8,7,6,5,9,6,9,6,8,8,6,7,8,6,8,8,7,9,7,6,6,9,6,6,7,8,9,9,8,6,6,6,7,7,7,5,8,7,6,9,7,6,6,6,8,6,5,7,6,6,6,8,9,7,5,9,6,6,6,8,8,6,7,6,9,5,9,8,7,9,6,5,8,6,6,6,6,6,9,9,7,7,5,7,7,9,5,6,7,6,2,6,6,9,9,4,6,6,9,9,6,6,4,9,8,8,5,6,5,7,6,8,6,8,6,7,9,5,9,8,7,6,5,8,6,7,6,8,6,7,6,6,9,7,6,6,8,6,8,7,6,7,5,7,6,9,6,7,6,6,6,8,6,9,6,7,8,9,7,8,7,7,6,7,8,8,6,6,6,6,6,9,8,7,6,6,8,6,8,6,7,5,9,5,5,8,7,6,6,8,7,9,7,6,6,8,6,6,7,6,6,7,6,9,7,7,7,9,6,6,8,6,8,6,7,8,9,6,6,6,6,6,7,7,9,8,6,5,6],\"coloraxis\":\"coloraxis\",\"symbol\":\"circle\"},\"mode\":\"markers\",\"name\":\"\",\"scene\":\"scene\",\"showlegend\":false,\"x\":[2,182,31,73,17,95,4,58,13,59,131,19,254,129,10,274,23,85,23,11,167,63,52,14,33,18,77,219,41,105,91,100,30,10,100,32,100,64,27,159,126,85,59,5,11,6,54,108,77,113,114,28,61,40,18,778,198,34,29,46,39,126,30,36,30,35,300,97,11,240,108,420,54,36,16,201,98,11,12,177,4,58,26,22,191,8,355,23,43,30,90,129,68,38,35,72,88,29,51,40,531,391,179,457,36,264,308,36,35,154,218,81,350,55,15,245,26,20,23,84,14,23,65,160,147,1,15,1,23,23,69,7,33,34,36,51,16,26,286,124,18,155,38,12,110,144,71,18,95,68,17,16,63,34,273,21,274,481,52,20,50,70,8,5,57,10,20,196,121,33,22,22,111,16,168,21,10,20,463,191,34,62,28,11,89,148,120,31,24,15,22,251,126,97,12,4,10,35,70,26,18,21,119,27,214,133,62,65,29,12,3,16,3,202,60,111,65,21,163,20,105,36,42,11,95,92,474,11,18,38,91,307,230,43,64,31,103,101,394,39,22,53,10,47,24,31,74,45,128,21,33,20,9,51,43,38,130,56,36,5,13,232,38,4,2,33,168,102,94,10,42,91,45,167,56,52,646,525,362,105,157,7,171,72,16,32,41,37,27,43,270,53,12,22,90,348,33,174,257,79,142,38,259,21,69,56,19,42,359,164,57,69,53,24,124,141,46,26,277,12,22,4,43,4,11,38,27,134,229,103,4642,231,15,53,230,65,6,4,377,97,95,69,18,45,310,32,12,55,67,51,159,30,107,86,59,15,20,4,21,2,25,24,45,14,17,8,26,28,26,31,15,2,47,29,4,16,59,6,47,5,25,94,25,56,12,39,9,27,24,18,175,12,123,316,116,439,34,108,52,27,91,51,50,20,84,115,3,317,46,6,3,96,26,551,107,2,11,66,4,2,85,154,49,12,7,13,42,7,72,86,7,82,3,34,24,4,125,10,72,63,4,96,75,24,50,22,109,2,52,28,741,28,29,31,45,84,9,27,102,107,130,63,120,9,47,103,75,1,30,23,103,118,219,23,65,80,17,183,19,244,16,96,109,10,33,5,151,308,8,22,9,24,20,34,4,78,30,92,68,13,31,27,73,5,67,28,31,342,7,6,409,29,4,15,3,107,222,124,176,47,1,459,134,40,43,26,47,10,99,75,11,37,30,48,28,43,14,33,18,35,196,137,14,422,18,78,8,8,15,10,11,69,14,49,15,2,470,9,7,22,112,380,6,6,1061,75,18,29,1857,161,24,26,170,30,6,437,605,1,8,310,8,20,2,60,10,50,146,280,132,31,76,82,1,53,55,235,142,15,2,46,3,7,105,1,139,705,63,174,46,136,23,3,7,17,4,347,86,75,15,1,85,89,79,122,4,8,82,42,42,65,133,13,32,48,43,314,72,17,265,11,94,183,1,84,37,2,29,63,29,3,110,229,120,46,57,8,150,329,22,56,143,92,5,7,5,21,66,5,109,34,16,9,2,10,612,207,43,59,39,32,22,67,13,58,27,16,143,25,26,23,36,14,1,38,87,8,9,11,1677,91,202,224,447,320,1,101,15,16,30,8,46,11,85,40,7,14,187,42,31,54,11,5,59,2,5,22,81,1,21,81,1,57,107,77,26,78,75,88,135,20,500,110,11,25,21,77,12,109,17,19,53,21,268,51,24,54,134,42,22,119,22,8,14,16,43,16,27,51,32,42,90,29,24,169,60,20,132,1,29,19,44,23,158,38,53,97,173,15,155,35,36,51,13,1,164,21,47,39,26,39,3,11,27,501,30,18,24,19,28,314,16,10,105,128,78,159,29,74,67,54,46,10,103,12,167,54,13,62,199,19,71,444,2,17,53,65,394,17,27,10,41,18,99,306,10,260,22,64,86,61,81,16,112,11,10,8,23,69,34,427,14,86,50,8,18,52,36,20,45,67,53,18,17,22,227,29,162,12,44,117,15,10,4,59,44,143,38,9,95,436,5,177,27,6,224,15,22,66,76,342,179,25,38,87,98,124,52,4,121,136,34,175,33,14,82,49,85,38,176,44,85,27,341,33,26,46,130,85,23,10,53,24,11,180,21,89,58,16,129,26,166,41,264,19,99,23,27,43,98,228,76,201,24,44,13,19,86,19,94,59,80,12,147,188,62,64,101,8,40,66,28,148,5,80,23,98,6,63,166,56,49,16,112,108,58,13,12,87,501,9,25,16,65,25,16,216,57,3,31,39,8,6,9,55,4,585,90,12,14,197,1,135,28,20,48,51,346,8,13,10,108,21,103,12,60,43,28,86,6,118,42,20,63,43,38,33,208,194,30,3,23,35,323,42,72,26,1,28,24,9,76,35,12,343,143,117,25,57,70,14,17,208,399,143,120,177,22,219,9,57,17,115,31,7,31,45,17,13,439,39,33,23,66,17,137,13,10,7,76,12,36,14,36,71,58,177,33,24,36,59,96,40,46,12,93,15,1,74,4,29,55,19,174,1,206,20,9,58,5,101,94,81,24,114,17,11,28,77,142,22,30,7,61,33,307,118,338,24,18,104,7,3,36,165,180,66,155,60,28,16,19,40,15,114,27,21,30,119,17,12,19,43,149,26,126,148,34,18,30,33,7,20,137,45,11,21,27,10,17,59,16,23,31,27,9,7,46,49,47,11,5,3,160,36,39,138,20,30,33,152,5,92,12,11,35,2,633,158,15,11,28,340,10,15,54,11,115,112,17,353,13,239,41,16,86,5,125,155,87,212,16,40,47,171,84,30,44,11,34,39,20,162,68,39,22,28,31,16,6,15,243,258,152,92,66,38,28,93,6,241,21,209,6,14,34,88,505,54,215,56,4,6,10,1128,291,8,203,111,82,7,52,24,333,14,43,46,42,65,12,4,156,29,181,451,70,590,14,1,217,105,5128,21,252,26,35,84,21,76,124,35,14,157,11,173,40,15,72,3,1,161,5,167,16,44,46,52,67,201,30,134,47,26,67,46,22,7,12,245,6,3,40,26,50,52,6,1420,49,41,1212,108,25,52,29,25,52,58,29,26,164,32,43,327,165,248,24,3,71,277,263,42,604,8,6,44,2,39,44,39,21,10,88,103,118,9,5,70,109,59,107,12,7,21,194,41,61,118,73,183,43,54,118,36,159,80,15,9,8,116,42,10,16,148,112,75,20,8,111,78,54,107,112,5,52,143,19,31,66,29,10,33,29,75,228,8,156,34,27,285,11,17,47,103,238,108,61,7,64,1640,162,3,16,27,110,35,180,123,27,87,8,104,24,42,123,41,9,12,269,28,26,19,163,63,90,34,18,6,130,24,71,6,60,18,31,21,1,47,6,9,11,38,41,58,118,41,69,533,8,4,4,75,11,46,56,131,59,14,7,140,191,62,291,5,353,73,95,26,183,26,104,8,76,107,55,287,14,45,23,98,612,14,124,206,30,27,222,3,1,264,17,148,22,382,12,9,6,9,32,55,59,68,98,293,70,20,258,40,109,62,22,977,4,37,17,180,246,6,130,72,90,43,281,7,30,47,19,11,18,13,30,144,10,14,47,145,49,30,17,123,7,6,19,31,193,194,7,12,631,164,107,803,316,98,57,71,23,18,73,101,18,16,4,17,12,203,298,1011,18,229,216,64,65,558,333,19,10,19,32,76,111,5,107,114,417,367,4,56,48,10,58,113,216,21,32,76,69,446,129,4,34,12,29,273,241,1,123,24,17,6,330,101,29,27,384,3,197,164,152,53,102,55,50,25,7,2,2782,114,20,4,3,17,22,30,96,21,135,13,57,126,5,24,153,41,8,20,28,16,175,113,7,2,34,29,30,2085,30,199,102,29,237,50,80,127,29,259,30,4,168,99,117,14,576,170,132,61,74,102,44,1,320,7,2,421,15,359,13,54,71,69,8,133,22,210,8,115,350,348,22,415,1,29,197,139,359,25,341,10,71,55,238,37,29,278,52,10,71,501,45,149,216,205,17,56,61,93,59,28,70,19,92,5,30,41,237,38,19,71,102,7,11,21,7,39,137,6,1094,52,9,60,134,3,35,41,27,6,15,3,30,6,46,4,15,82,6,1165,12,13,392,59,44,12,47,11,256,255,30,53,4,63,48,13,29,2,70,29,121,17,45,40,70,6,110,4,138,158,130,13,392,22,28,143,10,131,20,66,61,59,12,6,48,11,4,103,37,147,72,13,98,28,50,124,47,17,11,54,15,18,6,20,10,7,33,73,23,506,43,55,119,98,24,364,69,18,168,9,35,5903,28,87,13,79,45,57,78,44,10,11,128,42,17,88,10,366,35,172,3,14,64,20,20,149,55,85,12,42,61,27,317,5,198,13,83,38,6,37,34,160,18,32,21,11,73,216,8,41,87,4,40,61,27,75,77,115,158,1160,144,12,182,20,128,35,20,20,32,70,479,135,563,155,72,61,37,48,7,111,55,513,400,27,127,133,1508,67,5,3,461,13,207,22,98,3,80,143,30,71,114,25,276,239,121,410,57,5,158,53,82,104,70,1,26,76,42,27,49,451,48,35,5,15,60,145,23,31,26,112,49,11,25,5,23,6,9,35,71,101,102,20,61,31,40,84,101,197,21,45,80,1,14,22,28,87,106,15,140,16,111,84,22,52,29,73,10,69,13,81,26,14,218,67,95,29,20,23,344,278,22,92,55,133,7,720,4,29,103,27,41,5,7,110,11,23,3,95,6,18,29,63,21,19,93,232,51,19,326,1,36,10,13,97,142,9,38,9,43,20,52,7,25,110,43,2,166,9,119,11,5,32,16,23,8,58,126,23,31,14,143,15,99,52,52,83,111,22,34,89,33,6,358,121,44,55,18,47,6,8,34,78,19,10,12,23,82,6,11,2,48,275,63,47,42,52,12,21,16,150,3,21,88,59,212,109,25,200,41,194,12,28,247,31,26,58,12,21,2491,48,1,24,38,1,33,16,36,106,49,49,29,10,62,13,35,16,99,36,88,17,26,21,32,23,17,5,9,72,5,233,63,14,519,561,13,7,17,29,151,44,96,4,1,95,27,137,3,117,196,37,8,306,43,12,31,10,1,85,12,85,7,14,6,74,50,13,42,8,58,153,34,122,100,10,39,48,193,28,8,53,6,2,17,300,306,6,83,10,53,59,29,329,45,25,62,2,385,219,5,9,28,62,30,58,286,25,60,58,7,58,11,7,157,104,57,53,29,27,77,76,14,29,46,45,127,88,189,86,2,55,155,35,299,125,16,523,68,252,70,13,99,164,46,92,1,160,7,314,218,15,27,220,18,200,57,10,1,180,4,166,26,674,108,228,263,86,78,24,41,15,29,28,261,81,702,116,61,29,17,56,14,925,31,20,31,1,117,8,7,53,31,330,57,215,104,168,45,39,13,51,151,44,125,31,9,30,1,24,5,104,84,23,16,52,414,54,2,17,67,91,13,60,18,6,45,6,429,49,3,104,18,214,19,34,68,49,157,61,177,15,25,15,2,25,495,119,36,238,52,36,28,2,32,21,6,21,37,47,1,56,11,94,5,9,19,116,13,1,35,12,81,155,135,21,216,33,12,110,78,67,10,168,9,19,2,12,79,22,177,18,89,237,5,117,6,59,214,297,6,53,20,35,118,7,938,128,91,72,41,12,32,302,4,6,73,14,10,26,81,176,8,9,88,3,65,29,93,21,15,295,412,1,29,149,192,45,9,7,37,63,188,11,28,147,10,25,7,18,22,29,21,44,14,87,280,206,25,35,76,13,42,135,8,98,119,69,3,8,274,307,31,48,210,43,112,139,41,40,74,49,123,17,62,33,17,20,69,134,51,41,69,54,276,50,12,24,169,65,28,50,8,11,140,22,97,22,30,140,80,653,14,191,142,547,147,18,24,40,45,463,15,76,128,137,131,106,32,24,49,18,12,14,93,62,41,11,24,87,4,51,116,75,30,151,249,7,267,19,160,12,40,143,60,25,12,21,12,21,119,74,12,7,18,77,2,14,6,2,29,60,19,103,43,91,103,185,42,7,28,122,84,21,11,35,6,177,24,98,65,49,43,97,113,275,38,14,140,27,52,3,560,35,131,509,9,103,218,8,385,33,90,86,212,94,151,148,184,237,32,28,165,46,76,101,64,28,32,17,274,29,100,1152,22,55,39,28,65,6,75,39,83,9,312,10,34,84,70,8,68,134,180,1,64,23,74,102,33,21,23,2,131,1,21,11,227,31,38,167,40,18,53,1,67,12,10,67,39,83,57,48,29,13,6,31,49,18,354,16,30,8,284,35,30,16,32,212,38,16,16,13,117,40,89,78,365,38,21,37,1,31,37,30,37,118,1,237,29,22,1,18,136,29,89,139,19,14,22,502,2,7,35,99,85,127,3,69,87,23,58,15,8,11,176,11,28,15,46,31,219,297,67,11,6,151,19,15,179,115,18,36,57,98,63,19,66,46,123,24,43,6,44,14,37,19,90,97,137,96,134,8,7,47,35,38,25,48,20,21,142,662,295,51,91,93,16,7,69,24,21,124,274,14,2,135,18,124,3,260,61,45,54,134,25,67,33,6,25,109,17,11,168,109,8,19,120,79,23,27,12,167,22,44,4,44,37,16,14,156,69,19,3,56,16,37,1,118,20,320,319,41,154,45,10,11,20,153,84,15,47,2,38,92,235,9,60,8,28,94,39,32,34,110,70,671,106,90,5,53,51,18,130,76,118,228,97,111,128,5,23,109,32,102,33,59,88,4,35,45,358,100,210,86,73,29,198,60,15,23,5,63,172,232,45,35,31,7,54,73,102,52,399,18,6,21,372,9,1,2,6,83,8,17,109,132,282,24,174,86,63,4,36,20,43,11,14,3,99,111,9,202,135,33,4,85,236,148,2,182,171,13,19,368,28,146,17,35,53,18,19,26,42,31,39,62,50,97,97,136,16,22,11,86,86,4,3,13,13,169,35,113,6,17,42,13,157,298,200,15,14,17,30,77,4,181,31,56,45,5,3,31,981,261,32,17,86,74,17,207,11,474,58,31,19,3,19,35,5,133,106,58,46,28,1,11,6,14,31,8,13,33,10,222,27,53,85,12,7,11,62,31,32,34,174,280,6,11,66,30,26,33,5,97,16,9,29,5,48,23,184,20,119,64,153,9,72,95,52,12,35,27,62,14,21,24,123,76,31,261,80,208,8,2,17,9,32,53,20,161,262,6,117,98,92,170,3,10,44,30,281,62,588,62,16,13,3,60,10,21,5,312,154,284,123,27,79,402,22,447,632,94,19,3,236,45,203,27,37,228,43,152,185,46,269,668,84,28,53,128,1,1,16,4,193,242,358,452,45,69,95,25,9,34,2,176,13,7,22,43,13,89,24,718,1,34,222,58,40,146,255,26,49,158,76,50,16,344,60,19,197,3,155,5,95,322,12,16,287,66,18,164,121,24,60,98,103,67,23,150,16,28,15,449,325,28,95,191,26,38,26,28,22,8,11,23,12,47,24,10,11,166,26,298,117,64,379,11,12,14,8,19,20,9,19,2,13,72,8,28,11,129,139,7,289,123,159,6,178,1,39,38,26,101,37,135,203,101,45,69,44,163,125,82,44,60,710,209,93,151,19,547,105,8,38,57,143,9,130,327,60,696,89,14,6,213,77,54,898,53,49,62,57,242,305,283,33,249,21,19,61,42,87,16,1,54,26,18,16,7,101,14,7,26,31,21,31,42,42,2,39,91,87,22,149,418,121,3,129,7,12,1,95,1,41,12,6,23,169,50,44,44,53,12,15,75,217,268,16,234,7,3,9,4,155,2,11,22,28,32,32,77,22,15,71,98,102,10,22,22,65,48,322,316,43,92,14,84,62,516,5,101,71,82,62,1,297,154,64,148,174,80,25,28,2,9,64,81,52,162,189,96,115,64,198,125,15,77,52,213,65,42,1,90,421,121,12,30,135,43,9,10,38,18,7,9,32,40,262,14,134,27,24,52,24,487,20,15,48,35,85,9,16,14,23,20,15,67,102,229,105,5,145,10,14,60,16,16,87,4,64,15,80,131,23,76,2,10,89,61,20,237,35,29,29,96,40,152,67,13,7,213,4,164,104,9,274,25,472,63,28,49,21,47,208,47,73,546,36,25,14,29,105,19,566,16,40,407,31,9,55,69,57,39,87,18,112,78,16,124,12,23,127,80,38,6,116,27,69,15,9,94,294,45,124,142,112,102,1,135,69,51,30,57,66,81,53,69,1,12,55,14,28,136,487,11,73,107,204,50,6,33,6,1,28,12,548,757,9,424,183,17,32,87,503,1,215,9,72,27,8,16,19,45,59,15,132,29,35,414,468,34,128,33,87,253,57,28,71,24,419,83,110,2,51,15,47,28,78,15,224,3,62,4,27,92,38,213,59,33,201,94,116,2,13,64,43,66,6,14,271,30,208,30,135,28,43,272,2,343,42,14,43,48,54,138,9,19,8,140,1,135,9,36,1,279,351,107,19,61,8,17,19,54,111,37,111,28,219,9,41,5,90,78,181,14,31,83,21,24,29,86,110,12,27,10,17,40,5,18,28,38,140,52,16,88,22,369,20,1076,106,6,40,87,137,11,83,30,46,73,33,6,9,23,49,260,394,15,9,13,3,75,9,26,25,145,2,17,6,42,43,51,2,88,106,6,34,27,46,64,49,152,177,29,299,12,26,8,417,6,52,45,452,29,36,214,23,253,201,167,215,50,83,270,55,13,9,565,15,63,59,238,582,142,319,100,14,3,78,77,4,27,33,50,315,5,124,26,39,72,297,24,35,7,5,40,8,169,54,7,92,53,8,239,270,50,22,93,82,23,161,45,90,43,18,117,15,68,11,61,115,228,27,721,79,321,16,30,11,119,15,130,286,258,19,47,18,15,35,126,19,8,146,24,80,55,31,108,395,5,35,7,23,29,10,1,254,6,278,50,120,10,45,198,67,169,220,83,18,35,43,690,26,10,99,48,15,137,8,2,35,193,1,93,742,412,95,25,19,1,75,57,21,105,313,38,54,53,157,3,194,84,12,67,13,72,134,5,14,190,10,58,46,82,111,410,104,147,10,43,64,872,141,378,17,33,49,5,13,220,82,30,23,2,61,61,24,172,137,56,7983,37,5,1,51,26,312,24,15,17,17,56,199,25,58,223,11,148,102,389,10,81,40,280,10,46,47,12,26,6,26,8,145,117,64,109,10,81,21,94,34,28,16,193,16,2,115,28,32,11,19,39,34,12,58,39,40,59,80,94,23,696,145,1,38,1,21,23,6,39,65,90,21,29,77,43,12,23,2,2,20,9,1,79,72,21,489,19,1,31,7,26,249,35,104,329,68,48,85,14,31,31,15,179,297,65,21,12,147,30,48,23,1,13,39,29,5,84,2,180,93,58,40,60,22,30,33,14,28,31,32,46,123,3,29,5,191,22,21,10,5,34,112,53,96,19,19,474,7,121,128,47,7,5,21,363,19,3,21,46,27,7,138,10,37,1,472,25,36,76,13,153,227,29,127,2,17,73,2,29,7,7,39,90,38,70,21,213,109,19,41,433,38,18,39,19,454,49,26,1,28,378,74,1284,30,17,32,364,36,197,56,47,14,71,2,20,39,8,162,1,18,61,43,221,10,7,16,37,38,21,28,140,35,23,39,81,25,10,43,140,9,38,56,197,31,1,33,75,99,90,119,44,44,1,17,72,69,16,7,45,18,9,141,166,32,68,19,202,32,8,134,42,43,15,13,26,31,24,115,4,65,19,299,10,286,245,5,32,164,89,126,40,1,104,49,61,88,6,105,78,177,4,49,8,22,16,98,6,4,123,42,140,21,13,62,46,2,8,13,170,3,22,16,9,9,10,7,13,756,70],\"y\":[325,1,74,18,309,35,203,231,213,22,32,1,7,51,286,2,109,7,290,3,50,44,71,310,24,2,314,129,81,21,4,184,28,337,15,79,21,71,63,15,35,45,118,302,322,49,148,21,49,32,78,300,74,66,216,23,2,112,63,15,95,0,162,77,194,11,25,8,42,35,42,0,84,79,99,1,13,366,2,20,21,57,242,43,21,155,10,16,133,52,72,43,57,70,93,1,45,9,7,142,1,30,28,16,53,0,22,3,3,27,22,16,32,9,335,4,38,62,165,9,81,20,22,314,95,337,17,300,232,133,25,283,142,65,84,266,352,77,27,0,63,78,142,38,1,8,0,81,8,59,14,29,130,91,7,28,21,19,29,29,74,46,197,165,78,357,38,7,49,15,1,310,4,302,7,260,281,72,22,1,39,8,226,315,35,34,20,72,246,39,238,2,3,233,16,7,38,28,189,316,91,108,37,50,18,9,28,28,189,58,21,78,364,57,77,22,51,57,30,277,1,84,28,21,15,14,1,231,275,105,211,22,10,3,9,56,58,89,66,32,238,23,114,24,127,129,33,4,21,154,106,2,334,321,148,10,16,10,18,29,10,0,7,324,358,57,6,150,9,329,4,11,24,41,51,0,14,3,3,7,27,371,113,25,205,27,120,69,6,20,7,79,19,63,6,14,291,29,2,96,22,0,8,105,3,150,70,4,2,31,84,3,4,370,27,10,70,113,23,179,233,352,314,332,371,77,63,133,51,1,0,3,128,80,3,235,249,86,15,116,51,7,137,316,3,238,210,59,16,19,20,20,4,1,8,2,9,64,191,373,256,334,52,18,359,9,183,36,167,260,44,101,147,95,280,177,2,213,70,74,59,2,5,2,321,37,261,31,144,282,58,172,33,2,143,4,69,65,28,266,21,30,96,289,107,78,372,7,210,51,137,25,282,25,185,365,83,326,281,142,57,3,17,44,275,8,24,87,62,67,213,23,185,30,41,204,8,264,17,11,58,39,22,2,4,148,138,127,7,16,3,160,63,87,4,34,121,77,21,23,1,16,14,25,63,45,130,300,35,287,143,15,30,1,8,5,9,0,305,3,6,7,88,9,2,111,6,3,197,211,155,155,29,239,18,0,73,291,2,30,22,22,3,77,21,195,106,3,317,105,11,173,55,322,371,8,0,2,52,72,6,15,3,63,0,113,22,30,10,38,356,54,57,137,79,8,253,290,98,30,31,13,63,8,211,63,24,249,253,71,190,12,372,23,81,9,0,191,266,129,0,0,3,178,0,125,3,157,2,8,20,70,266,20,70,32,0,98,233,0,39,2,128,43,372,2,30,0,8,116,21,19,238,268,93,89,4,77,93,22,261,273,72,196,49,10,21,15,107,84,18,332,39,25,9,28,13,202,5,143,32,48,94,8,21,312,121,45,281,18,35,63,26,7,3,15,45,64,25,44,7,14,267,39,336,10,18,94,60,135,10,9,3,18,9,14,58,29,93,9,8,56,267,121,126,77,239,199,59,2,272,201,80,225,3,12,73,211,24,10,261,95,111,202,92,50,17,17,124,91,156,3,13,11,61,60,268,262,0,52,10,2,17,0,365,36,30,112,63,15,40,63,121,17,59,322,22,155,38,189,359,136,7,0,267,164,103,154,350,3,119,22,6,8,3,21,1,36,63,0,4,69,71,16,2,31,81,38,315,31,92,13,81,76,153,200,44,260,172,67,276,69,63,10,15,65,7,70,121,79,256,268,58,2,17,66,8,49,256,353,365,89,60,80,98,25,20,280,30,329,120,10,74,203,1,184,21,72,191,126,17,0,73,1,8,106,133,43,4,11,63,134,39,50,107,0,18,9,10,18,66,73,4,1,13,254,91,22,16,23,26,25,258,165,24,17,6,28,38,182,57,99,10,1,98,0,60,235,190,178,37,197,45,231,65,240,232,77,57,16,104,51,135,274,311,7,10,282,17,22,242,16,70,63,67,311,2,243,8,0,260,126,73,72,20,59,85,49,58,0,29,32,40,14,33,78,204,33,182,1,0,42,85,39,11,95,25,318,65,73,27,5,6,215,81,83,143,18,40,172,16,242,12,205,49,22,9,24,14,308,155,306,31,15,14,10,64,35,107,52,5,46,0,311,44,64,25,28,39,11,88,23,312,39,173,116,30,252,58,22,4,99,24,32,67,36,51,15,73,215,30,8,119,9,256,16,34,45,42,113,164,10,9,196,85,178,59,148,2,50,74,300,18,150,151,0,17,186,285,2,182,62,58,24,324,3,30,38,154,25,317,4,7,302,266,270,3,31,218,246,280,268,31,245,14,116,35,119,216,49,38,28,36,135,218,27,24,4,199,17,240,71,16,2,94,150,373,95,53,287,123,287,151,3,1,11,32,53,49,203,62,70,1,1,63,33,81,0,102,6,250,12,9,366,75,3,42,65,0,116,309,66,137,254,30,51,63,366,5,304,28,183,41,39,55,21,23,28,301,144,5,18,32,157,57,21,358,15,17,158,24,211,5,252,58,10,64,24,91,51,87,95,8,8,168,56,325,0,17,244,57,73,30,6,122,1,22,119,357,53,63,85,54,20,3,2,0,6,188,70,203,119,92,0,26,297,21,20,49,325,15,182,71,36,79,56,3,49,49,52,351,53,1,35,22,74,10,168,57,85,294,108,263,170,168,34,22,16,21,78,64,360,2,10,175,210,6,1,153,4,371,78,20,21,307,145,6,8,70,286,48,30,206,14,72,59,38,29,26,3,16,19,65,212,11,29,31,3,14,9,205,45,133,42,9,115,197,277,109,76,52,153,46,16,154,224,6,121,60,62,17,6,1,21,28,284,175,77,32,40,265,26,108,283,8,276,16,31,0,19,123,64,105,0,23,266,4,9,28,266,63,319,3,20,4,128,40,101,124,32,266,364,3,1,2,9,56,324,7,11,3,36,15,137,73,4,154,84,51,30,22,3,13,22,3,273,19,143,353,3,83,10,7,122,60,1,318,1,129,1,1,45,3,2,372,133,46,8,48,233,212,35,74,238,265,9,19,39,19,215,173,86,70,275,38,97,10,32,50,296,84,8,40,10,66,330,8,1,1,67,4,201,106,3,217,59,1,10,238,94,10,90,52,89,371,30,11,2,1,42,3,246,41,176,91,109,28,25,51,178,31,43,21,9,80,372,325,42,29,183,234,8,175,110,277,317,6,1,253,50,8,141,50,7,154,108,150,331,225,73,50,87,14,196,2,30,20,23,7,211,8,10,1,7,2,39,17,2,7,18,107,222,70,50,88,7,224,46,106,20,64,206,10,114,234,162,8,123,22,63,16,15,16,157,234,218,44,20,126,38,120,259,9,270,164,156,214,5,365,59,42,18,31,21,108,7,319,294,357,184,190,43,51,25,37,8,296,32,8,8,9,217,1,64,0,140,3,129,33,118,106,10,70,15,310,34,361,91,0,21,3,10,84,56,0,217,17,18,49,6,298,9,21,98,142,305,319,7,0,1,53,0,18,8,18,180,59,10,189,4,310,154,109,147,63,97,246,28,17,11,103,73,42,71,256,19,253,10,164,17,149,49,38,26,50,206,174,6,25,50,311,300,42,25,87,63,19,2,46,16,16,23,21,10,187,100,60,17,32,63,1,23,107,31,8,2,36,59,25,235,24,2,58,259,57,64,15,9,58,185,3,23,3,3,150,310,10,17,151,18,9,56,63,6,75,3,95,110,34,0,280,2,179,371,12,2,16,40,5,168,49,226,18,371,14,34,21,6,19,10,43,305,10,274,0,15,3,71,242,8,238,203,0,184,31,56,184,8,311,90,3,50,262,265,35,50,51,15,21,58,169,8,156,1,200,4,66,76,0,3,168,17,4,8,86,26,28,19,60,23,10,241,279,234,2,15,30,371,24,70,187,25,106,7,208,43,30,136,264,3,217,1,213,31,10,0,14,10,198,2,14,13,9,28,8,23,24,42,1,5,146,9,24,273,373,0,46,7,8,3,3,38,1,190,11,15,112,247,28,43,86,44,9,14,74,144,4,293,58,263,43,28,7,16,2,231,111,57,50,3,126,280,54,319,25,9,6,28,16,63,3,2,165,0,52,50,47,60,161,8,14,74,39,40,369,36,196,199,73,63,20,366,179,9,3,196,28,52,17,9,89,267,52,34,63,148,21,311,22,57,8,77,118,35,59,12,8,51,25,28,6,10,185,2,3,261,2,209,8,12,76,19,26,18,131,252,78,206,335,253,147,9,84,7,204,7,22,10,20,20,1,153,2,73,2,0,16,35,85,70,115,212,29,50,245,31,108,4,365,72,296,8,56,29,13,71,22,8,78,45,24,11,252,146,58,7,10,270,9,246,95,14,49,29,67,34,127,106,36,56,56,71,245,18,197,15,211,38,45,169,47,115,146,15,50,158,11,35,53,42,172,33,38,266,8,11,2,9,32,79,30,7,71,3,255,4,15,89,71,42,9,169,198,30,18,151,8,269,64,273,24,22,318,4,11,274,24,40,7,3,70,212,37,31,77,45,178,372,93,9,104,77,172,6,212,21,256,281,20,9,307,53,214,17,103,42,3,181,83,329,8,30,166,17,17,310,141,240,23,28,9,29,17,17,14,133,245,129,49,84,6,22,24,65,59,49,169,17,127,14,232,2,239,51,45,225,7,3,164,218,10,133,16,9,30,73,0,3,44,1,356,17,68,372,320,25,324,8,322,71,259,17,366,65,153,28,69,13,1,0,119,60,2,2,8,91,58,78,25,356,84,9,0,224,59,238,318,1,44,87,10,175,51,365,318,225,357,233,310,36,65,238,112,276,217,298,1,28,9,44,66,73,64,133,237,121,31,8,35,15,126,66,148,280,168,99,134,323,106,63,150,337,21,23,15,6,56,3,30,65,46,354,171,58,49,21,42,28,4,25,200,43,9,1,66,63,50,289,60,63,95,270,0,74,109,198,63,326,3,283,43,48,63,103,333,52,34,31,365,207,156,53,65,80,115,86,0,34,332,365,71,157,372,11,254,28,30,4,39,361,240,95,25,74,56,20,143,40,136,7,128,39,168,8,213,14,169,39,185,269,171,4,15,9,325,112,289,15,0,91,148,188,17,33,263,83,25,170,9,312,64,84,24,58,322,37,253,18,32,14,26,22,78,7,21,11,261,130,54,248,1,8,263,330,312,25,29,29,1,361,282,261,24,353,93,28,337,19,84,8,34,42,1,112,13,76,39,115,15,160,0,29,92,22,94,27,32,20,17,0,7,15,362,80,52,22,171,188,330,11,155,30,11,44,232,63,1,35,32,83,24,1,32,18,253,22,21,7,24,18,172,162,6,10,113,287,8,53,6,76,3,36,216,59,277,11,23,28,11,351,8,49,18,2,103,6,11,4,31,177,37,150,161,68,120,24,23,176,49,252,288,46,70,15,100,29,34,26,10,7,78,51,35,56,336,27,182,51,9,35,9,32,10,49,3,2,140,116,99,74,4,44,15,16,89,52,300,133,3,104,178,165,18,157,203,335,36,90,92,8,232,44,22,189,43,24,316,105,50,167,39,217,39,296,18,87,72,80,8,48,52,23,8,17,116,8,119,3,251,27,0,266,32,17,171,1,264,139,200,59,34,40,283,8,142,11,145,233,32,23,11,35,364,200,14,16,48,197,65,211,282,114,14,18,65,48,15,77,8,133,12,39,234,2,39,304,50,0,60,65,24,217,64,31,80,63,115,6,5,68,244,132,240,183,24,9,10,29,43,25,357,9,43,8,149,0,112,75,106,45,142,50,0,22,45,49,305,35,78,16,106,207,2,63,48,319,43,2,336,171,50,72,98,28,57,253,69,43,44,64,10,24,58,63,303,45,17,37,18,186,51,3,136,3,18,15,40,11,7,25,21,40,100,4,276,32,14,62,1,368,311,198,1,92,59,79,156,226,252,149,193,0,368,23,16,9,7,19,3,173,0,177,15,247,190,19,153,172,371,372,193,66,3,20,238,63,111,89,310,133,276,364,82,7,16,1,0,33,14,23,31,73,19,16,22,2,303,17,235,38,83,164,16,76,88,24,21,2,122,29,11,18,43,3,8,54,87,36,2,29,11,210,47,23,21,245,7,34,3,35,3,2,46,38,1,16,259,45,11,29,42,91,38,309,91,5,195,86,269,7,64,30,21,37,119,85,39,173,53,32,144,220,44,3,65,268,9,259,364,16,21,44,287,291,2,283,16,81,55,100,298,22,58,154,98,106,11,263,239,87,49,8,41,6,61,248,65,17,84,218,44,142,182,170,9,205,189,7,58,56,72,51,315,366,28,38,17,51,3,21,262,59,367,18,52,87,249,2,246,8,156,133,295,4,38,268,49,8,15,281,63,1,251,224,16,10,7,50,58,94,15,125,93,49,137,60,99,72,71,66,63,16,22,31,44,15,39,2,236,74,3,2,360,58,22,30,54,24,44,88,1,80,18,78,170,80,266,234,29,36,317,56,44,202,218,86,189,32,70,40,77,56,7,9,7,33,211,23,169,61,52,260,365,31,16,257,176,44,50,16,360,8,73,70,352,2,116,372,196,176,22,20,71,339,5,30,169,116,8,9,212,22,107,25,138,213,37,91,17,2,330,63,119,34,217,171,71,0,195,127,43,5,13,17,27,7,36,156,283,106,24,74,15,157,43,10,31,290,20,332,17,3,62,197,32,0,6,4,9,31,52,11,17,18,36,1,17,81,32,65,8,266,246,3,60,74,89,59,28,322,52,269,1,49,60,144,18,94,0,264,301,69,301,18,12,35,18,53,56,21,43,26,44,112,16,24,190,301,1,262,80,105,56,212,63,27,28,5,7,66,1,45,33,0,135,197,190,149,87,44,63,98,217,2,27,177,63,20,19,33,73,23,51,274,164,6,87,63,24,9,75,15,191,173,76,32,46,72,296,2,8,49,160,359,4,106,24,31,19,296,371,21,4,51,29,276,60,24,185,1,1,171,80,3,189,21,17,18,4,106,2,53,164,290,9,108,95,242,162,2,34,66,23,0,20,5,53,363,14,193,2,8,2,126,73,70,364,154,112,373,79,248,231,70,68,3,50,74,60,15,3,276,3,40,30,74,17,14,218,185,32,69,182,14,235,30,253,3,51,245,80,274,0,78,29,73,16,222,31,22,24,105,4,245,177,169,38,71,53,15,140,17,21,9,367,188,15,361,18,67,14,23,16,27,1,54,33,2,365,42,72,4,3,60,46,0,75,43,255,68,134,240,226,8,8,0,36,45,84,18,2,8,18,218,77,266,8,368,14,25,261,16,90,301,25,363,45,35,51,31,51,78,52,297,171,46,28,10,86,4,24,17,44,30,372,57,371,113,214,318,64,7,96,19,184,3,293,272,30,47,259,57,32,56,67,9,59,79,73,1,99,364,9,19,122,7,3,28,281,56,0,364,88,10,162,64,22,173,102,142,98,22,191,4,360,7,13,102,2,10,95,226,15,38,50,92,156,38,183,0,227,127,39,30,196,8,36,63,42,49,42,52,186,333,3,9,23,14,365,105,59,28,140,22,21,76,4,63,11,24,30,66,66,186,37,14,34,194,1,0,366,64,298,25,7,11,115,28,3,4,81,28,63,3,22,289,35,8,23,276,49,155,60,11,20,370,115,79,3,25,4,52,0,54,25,8,51,12,211,21,235,138,3,56,122,108,29,0,184,8,238,86,38,115,186,226,7,188,3,38,2,266,77,3,254,60,12,77,16,29,2,4,6,218,10,371,29,287,149,22,0,72,45,4,50,16,29,7,28,2,40,10,30,44,60,184,78,110,63,11,85,15,245,77,29,137,26,2,31,8,112,156,84,114,2,95,193,27,128,27,81,29,265,73,313,8,58,142,11,27,113,8,17,17,35,35,77,21,24,32,108,34,122,6,27,3,2,49,317,21,8,1,17,9,261,158,32,28,164,46,5,7,287,317,2,232,118,161,184,49,151,334,4,15,106,15,275,15,246,238,0,105,22,51,194,23,74,17,7,31,21,30,28,21,32,283,38,49,288,74,4,217,43,201,177,55,56,7,46,226,10,105,58,27,35,273,29,23,53,35,168,53,52,26,252,39,59,233,3,31,23,6,64,309,308,18,15,95,263,11,2,34,182,24,12,10,2,312,107,0,52,204,14,119,3,362,116,17,4,40,106,147,51,207,138,1,126,107,41,34,227,240,57,129,59,21,25,8,31,3,307,7,28,16,100,11,20,14,360,10,364,94,77,138,17,24,0,45,99,7,14,17,279,13,22,123,85,300,150,16,93,8,156,354,45,14,3,85,14,178,7,35,128,50,311,23,302,10,16,48,238,0,12,237,22,72,16,40,39,218,189,70,23,10,8,64,3,18,14,7,19,77,0,163,306,218,38,21,114,125,4,35,3,0,329,162,184,15,11,2,43,79,29,41,10,49,15,44,18,3,71,0,120,32,312,17,87,1,1,246,147,28,219,147,176,39,144,1,7,0,17,191,203,364,126,14,42,78,22,50,15,157,9,9,15,44,190,78,73,3,64,260,58,0,0,247,7,358,75,289,16,220,8,2,205,161,69,261,280,57,24,2,28,71,127,30,14,308,16,53,23,1,10,360,359,0,53,0,0,120,53,279,176,29,25,8,269,42,371,217,23,196,358,42,129,0,19,205,13,94,18,13,23,7,6,331,49,70,28,242,7,190,4,252,0,235,6,108,99,59,1,72,3,84,11,22,213,17,238,1,49,216,32,40,3,52,22,56,129,173,5,311,59,20,32,14,17,80,5,169,1,30,35,8,30,275,86,119,372,0,218,64,60,134,20,11,24,28,276,10,72,10,3,140,25,18,3,65,0,42,227,15,43,0,73,0,3,1,263,52,23,9,43,16,6,29,357,126,135,141,131,37,235,260,16,252,29,34,168,2,3,184,187,169,10,44,320,200,22,231,37,25,95,126,57,15,8,3,2,78,372,38,53,1,8,8,18,11,112,3,234,99,177,4,358,0,0,18,16,21,32,262,50,158,14,7,12,198,56,10,96,254,24,20,158,71,52,84,152,73,280,26,29,24,179,39,21,21,36,81,73,10,15,3,12,13,36,3,71,190,50,4,8,298,1,32,49,2,46,41,26,41,1,302,106,84,80,217,301,11,184,372,1,2,5,304,368,2,323,58,12,30,142,29,106,1,204,79,184,169,43,173,364,303,2,3,11,31,128,18,211,322,161,55,224,71,43,22,172,84,158,164,28,20,70,246,373,8,309,58,3,44,87,3,63,281,0,372,132,44,10,35,133,28,51,137,4,8,159,48,130,7,232,36,146,0,71,39,4,198,248,65,116,170,20,141,31,37,37,371,373,165,210,241,51,24,14,371,28,364,35,165,144,21,55,184,11,236,224,121,281,73,36,11,361,3,22,69,234,256,372,154,27,3,31,80,107,51,35,152,98,3,333,64,21,35,31,153,18,11,53,24,3,44,202,358,65,6,287,9,8,21,172,132,5,74,39,288,25,257,154,113,373,22,7,216,44,18,35,25,15,329,273,97,60,1,92,81,312,11,7,126,10,0,36,37,329,248,1,18,11,368,289,67,25,10,367,213,148,7,23,29,60,18,242,8,210,28,62,294,16,360,150,116,7,12,140,45,50,31,134,2,74,12,8,300,56,9,30,176,3,175,60,32,58,14,86,6,353,30,113,8,4,23,217,14,248,14,77,191,261,71,150,63,94,3,105,199,156,70,35,28,1,25,325,236,88,30,28,205,2,219,21,92,1,263,2,38,217,49,11,8,191,81,325,71,29,2,218,45,9,71,6,23,113,16,300,86,50,88,354,38,24,172,42,139,22,71,133,357,37,2,1,17,20,57,73,277,180,7,3,42],\"z\":[0.0,4310.0,1797.24,1757.55,334.4,1545.41,89.0,1079.4,459.4,2811.43,6207.67,1168.06,6245.53,2662.06,189.9,5154.58,552.0,1313.1,320.69,168.9,3545.69,1887.96,1298.04,364.6,742.9300000000001,455.42,1628.12,4008.62,850.29,2720.56,1803.96,1839.31,566.16,401.9,2780.66,549.84,460.89,1582.6000000000001,1272.48,2998.28,2409.9,1635.6599999999999,1108.65,84.3,225.6,409.7,1710.39,3280.75,1708.1200000000001,2842.57,11056.93,681.0799999999999,1226.88,694.15,562.41,123725.45,3578.8,668.58,600.39,806.27,803.5600000000001,1849.11,1760.96,777.2,582.73,708.37,7877.2,3750.4,256.4,6416.39,5059.32,13375.87,765.19,7829.89,509.01,4896.66,2906.85,173.55,172.06,5005.46,133.4,1002.3100000000001,476.49,449.45,4067.29,197.88,8933.52,428.57,707.09,5.684341886080802e-14,2466.86,3153.89,1917.78,947.4,826.88,1124.01,1303.63,1212.05,733.89,724.0400000000001,18740.92,6229.48,2848.23,7116.47,723.38,6546.58,13117.01,680.99,477.3,3281.63,5590.86,2327.13,4495.27,1298.66,334.93,5417.93,460.40000000000003,263.21000000000004,416.79,1139.3500000000001,1043.1,403.70000000000005,4206.27,2089.68,3723.87,-1126.0,114.0,-4.5,73.5,1258.06,398.27,176.5,982.5699999999999,138.03,586.79,1017.68,383.7,1312.06,2464.89,2056.89,340.84,2582.51,599.68,192.72,1745.57,4485.72,1316.66,348.71000000000004,1922.28,1623.63,125.22,349.83000000000004,1089.18,716.35,4106.82,363.95,3852.5,13309.039999999999,981.18,355.7,1000.39,1141.5,207.79999999999998,95.19999999999999,964.83,168.0,437.82,3652.25,603.71,11990.960000000001,1.0658141036401503e-14,536.21,2101.39,238.85,3781.7400000000002,456.9,131.17,346.7,9114.94,4064.9900000000002,519.61,1004.72,160.54000000000002,218.45,1306.98,595.4,2753.36,410.72,415.7,197.71,511.36,7187.34,1893.95,1982.81,179.94000000000003,144.0,214.89999999999998,646.68,9861.38,452.84999999999997,437.6,418.09999999999997,3320.2200000000003,618.27,3683.13,3002.68,1032.58,2581.04,569.5600000000001,153.12,739.1999999999999,254.18,-7.5,3.552713678800501e-15,1126.85,2057.99,1193.32,643.59,3218.98,315.6,2291.19,657.25,355.53,177.31,3214.81,1339.41,13612.07,180.1,305.1,641.13,2614.32,6388.35,4478.53,769.61,1270.88,640.5,2140.63,1689.18,5953.25,671.69,486.1,1174.58,185.9,1013.26,3344.64,477.91,1755.38,1346.97,3669.92,318.05,603.71,314.44,114.0,914.53,2209.85,601.98,3982.72,1152.06,686.05,91.68,245.1,3817.08,4863.88,61.75,-227.44,620.13,3743.18,1607.73,2986.15,225.89999999999998,610.52,1919.31,1331.39,17588.26,1058.67,862.81,13677.59,12288.22,8221.09,2283.63,2863.08,89.14,4873.8099999999995,1247.61,389.01,1035.8,830.96,869.67,582.1,939.02,4867.99,797.71,219.0,274.7,2220.84,6814.24,603.42,2616.32,9294.1,1130.57,4241.63,848.55,4708.86,353.86,1053.49,980.98,238.25,608.1,5713.28,2628.98,904.33,725.07,1031.41,427.8,2609.1,3947.7,836.33,453.01,18793.41,236.26000000000002,383.95,110.39999999999999,779.5699999999999,234.0,155.35,1013.04,427.6,546.43,9120.39,4196.01,29072.1,3868.2,275.88,4366.78,21024.01,2949.12,2203.2,112.07999999999998,4227.7,2791.59,1531.44,1898.52,494.08,1693.88,6989.63,1143.6,1351.45,892.47,1351.24,804.23,3868.7,707.72,2273.32,1603.87,574.42,305.71,463.66,91.85,324.92,192.60000000000002,400.53999999999996,545.48,860.41,430.48,194.18,6977.04,412.58,483.65000000000003,484.36,514.85,229.64000000000001,125.92,1063.46,572.2,166.04,1517.88,942.34,92.72,918.98,1759.5,397.12,1468.1200000000001,430.15000000000003,1018.71,253.05,6748.4,215.05,383.03,417.38,312.38,2612.86,134.1,683.13,5583.62,2714.27,3876.4,1118.99,1680.76,325.96000000000004,354.09,871.54,1050.8899999999999,135.18,299.75,1881.7,1289.15,38.1,2162.68,1106.4,504.2,147.12,1548.07,559.12,3986.22,1607.0600000000002,-14.899999999999999,380.64,599.97,374.0,343.2300000000001,2218.02,1535.77,841.64,552.5699999999999,298.0,1463.04,703.47,309.05,1158.27,1351.09,313.77,380.46999999999997,331.0,188.14,347.3,216.5,16293.1,138.68,509.58,2919.81,246.0,2128.83,3075.04,1662.3,2483.63,363.65,2982.35,594.0,1301.44,164.23,16389.74,405.38,176.97,929.95,694.05,2062.7000000000003,105.1,409.9,33462.81,606.28,2156.45,1012.9,1504.27,114.14,11581.8,876.29,683.9,-3.75,604.51,462.95,1407.29,2053.7,4143.02,1843.0,1042.07,1382.8400000000001,329.85,4734.26,108.07,3979.04,266.39,1841.03,771.91,160.18,1194.75,135.95,452.24,10930.26,144.8,738.6,39.239999999999995,7092.06,372.21999999999997,377.2,97.5,1215.6200000000001,545.0,535.32,6854.51,409.5,503.76,414.76,902.22,200.72,1197.94,455.88,534.85,9797.92,120.94999999999999,149.05,5613.43,468.95,81.57,178.46999999999997,50.550000000000004,1311.6200000000001,4786.99,3365.43,3346.28,789.89,204.0,7272.75,2584.4,689.9,936.15,6912.0,659.68,1247.5,799.48,996.52,190.55,642.77,886.63,881.07,908.46,676.99,471.57,560.47,305.28000000000003,629.31,3079.1,1805.91,656.6800000000001,5684.61,348.15000000000003,1201.96,271.40000000000003,183.4,307.53,248.61,346.98,1119.49,205.86,430.9,115.46000000000001,344.0,3717.82,228.8,177.15,919.61,729.27,12432.28,220.10000000000002,58.08,27964.48,3595.48,303.75,272.38,57385.88,8689.39,319.82,459.83,7741.47,1708.8600000000001,74.39999999999999,5893.32,28658.88,207.35999999999999,101.19,6336.29,243.94,1098.48,59.5,1524.07,350.06,766.84,1452.8700000000001,10510.0,2205.63,485.19,984.91,1125.0,30.599999999999998,254.73,922.39,3866.33,2056.29,259.17,64.0,1039.3,77.3,109.8,1740.63,3096.0,2545.38,3605.08,962.39,5055.79,423.72,2385.8,307.09,110.95,614.77,228.91,712.8000000000001,3348.48,1676.06,1250.3700000000001,486.22,-611.86,971.76,1721.57,1201.06,1379.75,91.8,112.75,1644.99,1021.48,414.7,791.33,1310.14,712.88,116.00999999999999,426.81,353.65,2817.03,492.84,282.45,5725.47,121.18,3957.78,1648.79,71.4,1539.69,236.02,114.60000000000001,260.68,911.94,117.88,60.7,1797.78,3384.09,9803.96,870.09,869.46,250.26000000000002,1205.9,5820.16,353.48,1197.42,780.58,1518.43,333.74,133.62,62.63999999999999,819.2900000000001,847.41,163.20000000000002,2150.85,6083.04,108.21000000000001,257.7,358.0,160.95,2763.41,1357.6,605.12,101.17000000000007,727.27,680.83,329.56,663.65,270.40000000000003,600.07,121.74000000000001,430.5,1922.1,501.12,465.68,711.41,1030.4,390.66,0.0,698.58,292.32,557.62,944.1,200.29,7454.07,2107.66,3717.67,4404.44,3167.64,5315.92,590.0,178.26,276.56,138.98,590.9300000000001,258.4,542.73,126.30000000000001,814.86,1047.8400000000001,93.66,196.15,2709.12,361.11,578.9399999999999,873.74,197.95000000000002,87.4,2089.85,360.0,142.5,365.29,618.09,63.75,300.42,2000.86,15.0,1367.6100000000001,1456.79,1083.63,598.57,1555.32,578.66,5815.49,2140.07,640.76,10664.34,1491.7,567.36,199.48000000000002,787.85,7072.8,675.3,3617.57,1308.48,740.4,1140.93,350.9,3536.82,795.12,431.82,860.12,10736.48,775.85,303.93,2543.72,377.6,341.36,233.76,247.32,910.72,373.94,389.28,743.53,674.7,768.24,609.95,439.03,431.26,3085.4900000000002,992.5,0.0,2191.22,56.160000000000004,623.4,263.75,721.32,378.64,3312.25,772.9,1019.76,572.56,3626.81,222.99,4122.28,534.57,627.15,797.96,544.08,59.8,2312.8,307.72,1325.29,1539.18,457.34,621.23,75.0,252.49,572.451,27487.41,988.91,213.55,1390.5,712.5,640.83,5845.44,221.06,140.35,1848.98,2601.55,1624.21,3550.7000000000003,582.6,218.47,1006.8,648.6899999999999,1269.1,534.24,3794.4900000000002,196.89,3408.06,283.71,296.64,1104.23,3465.67,291.88,2043.7199999999998,2916.45,590.0,356.97999999999996,1007.35,1737.8200000000002,9537.92,183.44,1445.0,143.25,674.68,297.95,1083.71,5656.75,165.0,2531.58,417.54,229.59,1431.78,1092.77,1441.53,291.0,1776.81,184.64,140.34,313.8,454.24,1122.41,575.4,8910.61,449.52,1215.82,1269.84,618.63,316.26000000000005,1990.1200000000001,617.93,321.05,1146.96,1136.77,1310.47,292.0,216.85,295.93,4282.88,452.82,2479.16,110.97,979.72,1785.16,251.21,205.1,152.20000000000002,891.12,1389.41,2109.07,659.4399999999999,110.80000000000001,3487.75,1093.65,125.80000000000001,3755.38,680.1800000000001,628.78,2263.76,307.76,483.8,210.31,270.79,5613.08,3448.29,1280.85,605.84,291.41,626.99,682.41,916.12,91.80000000000001,3539.53,4149.28,584.06,605.06,174.37,141.85999999999999,1799.33,777.53,647.74,240.22,874.71,192.85,373.75,239.49,2092.32,1384.25,294.4,732.0699999999999,6703.3,1658.3,467.04,118.0,781.03,142.4,347.0,2445.12,379.65,1976.12,1117.13,247.95999999999998,1990.28,396.97,697.04,167.42000000000002,5030.6,219.52,693.32,428.89,164.34,280.53999999999996,678.01,1115.43,1158.2,1610.46,399.99,544.18,177.34,213.85,672.44,257.23,1624.02,7792.36,1995.68,3021.77,2117.02,1575.16,1071.03,941.62,810.5,122.64,1033.34,354.8,519.44,2597.52,252.1,1670.22,346.6,1809.34,94.2,1095.08,2707.33,932.97,379.65,382.14,2421.47,1550.85,879.08,189.47,84.65,305.02,6216.07,218.55,349.7,-71.46,396.92,486.82000000000005,232.6,2202.31,827.83,59.5,64.23,3119.44,72.0,910.0,172.25,1466.8700000000001,-32.0,62653.1,2504.13,151.29999999999998,308.58000000000004,2265.12,99.5,2295.31,711.86,330.79,806.41,296.88,6249.110000000001,180.48,252.06,228.84,1053.94,138.28,1432.26,306.55,1041.68,799.9,524.14,2369.16,199.85000000000002,1809.81,1079.6599999999999,333.48,1016.14,752.6,610.59,491.86,2766.18,724.0,339.59999999999997,216.9,350.75,666.33,3102.42,1340.1499999999999,1156.36,291.54,79.6,948.25,1647.26,296.25,1186.28,741.26,282.59999999999997,2154.68,5145.12,3190.55,659.4100000000001,286.79,1070.65,3.552713678800501e-15,1689.46,1521.76,16945.71,2771.87,2631.7,1132.13,345.0,25748.350000000002,178.7,360.01,127.84,912.0,2462.79,230.39999999999998,309.04,348.8,1047.68,195.55,36351.42,688.86,558.32,324.8,3906.27,277.07,2635.79,924.6,256.38,112.6,1747.66,155.05,899.51,591.75,539.0,1353.41,1562.12,4014.91,555.04,382.98,1140.35,385.64,632.0,957.66,1698.94,174.65,412.05,209.49,-102.0,2202.99,40.949999999999996,384.8,834.57,271.24,691.73,85.0,3385.62,361.62,312.98,847.61,1255.0,1537.95,1586.81,2651.46,1056.94,8025.0199999999995,363.4,216.17,201.16,1240.0,2187.31,299.56,501.56,145.67000000000002,1015.29,3192.54,3104.95,2751.25,6389.8,381.7,540.45,1786.79,122.7,117.24,1281.53,3219.77,16989.52,1131.28,2538.75,781.3000000000001,506.8,243.56,349.55,605.63,416.90000000000003,1860.8600000000001,632.97,821.1,535.97,2588.12,311.16,155.93,388.52,740.95,2867.2,332.64,2347.05,2580.91,613.95,272.04,1212.8400000000001,350.15999999999997,172.25,351.13,1682.08,616.65,223.85000000000002,348.99,464.57,802.85,337.34,1230.93,307.4,608.7900000000001,922.1,361.28,158.85,71.66,556.75,839.14,4912.41,561.5699999999999,90.6,102.0,2427.32,728.56,674.45,3246.091,3515.68,378.59,322.96,1026.42,-102.45,598.2,230.22,169.55,664.54,80.7,8986.69,2702.2200000000003,190.25,264.7,413.59000000000003,2503.23,357.98,196.79000000000002,869.87,200.14,1861.11,2590.46,488.03,7024.53,320.46,4098.8,1266.08,311.3,850.63,76.8,3409.66,2313.14,1383.49,3865.26,633.71,2030.3300000000002,529.73,4582.64,2874.72,962.19,685.9300000000001,328.8,473.02,505.18,917.34,4328.46,1398.96,642.8,631.9,440.0,584.07,327.7,104.82,467.66,2360.09,14634.640000000001,2929.84,512.02,1428.02,626.65,147.20000000000002,1554.48,152.2,3542.19,141.41,652.82,1659.75,154.99,1290.01,375.13,5639.15,746.36,15477.34,225.36,260.25,92.46,725.6400000000001,8124.4,6147.4,183.6,6135.38,10464.85,1188.32,152.55,374.7,265.85,1307.41,139.54,942.26,122.47,499.41999999999996,1049.37,375.1,45.599999999999994,904.67,182.25,1018.43,4435.79,181.67,50415.49,161.0,76.32000000000001,4063.1,442.85,57120.909999999996,147.35,3092.9700000000003,194.9,5976.79,1314.73,216.20999999999998,1260.33,2688.48,594.16,80.2,5669.65,688.6,2774.17,1377.92,386.53,1382.74,90.0,-19.9,2740.3,419.58000000000004,2740.43,643.6300000000001,709.71,637.5,1123.8600000000001,483.86,3580.13,590.3399999999999,4690.31,982.3800000000001,415.82,920.05,879.0300000000001,311.81,115.8,3148.2,2949.57,468.4,157.2,259.43,658.64,611.09,1345.62,118.75,113384.14,400.43,507.66,4678.3,1110.52,289.36,2445.91,1631.77,122.53999999999999,574.84,363.79,450.84,134.46,3108.06,574.0,554.46,1620.93,719.78,4640.77,452.89,197.65,2018.91,4604.31,4660.01,853.39,11216.75,962.7,335.52,663.5,185.39999999999998,688.04,161.03,218.78,308.26,151.74,2067.13,1900.89,2208.3,1070.48,-1192.2,1000.23,1777.92,1839.3,1925.3600000000001,169.48000000000002,89.94,632.4,3427.85,683.17,975.23,1050.12,2201.64,3315.71,1450.6,822.0600000000001,2043.93,1447.51,775.46,3093.86,490.86,161.0,146.85,2323.5,890.34,213.70000000000002,280.55,2535.88,1677.48,1474.06,136.76999999999998,302.58,1904.05,2879.7000000000003,935.0600000000001,3087.27,12650.08,120.0,1163.45,2618.23,319.47,530.18,1279.09,492.65000000000003,112.32,437.96,559.97,1019.39,3957.0,134.04,3729.34,578.45,1910.01,4595.81,151.23000000000002,413.85,911.26,2307.4500000000003,3873.3,4819.33,1046.56,154.70000000000002,1284.06,50862.44,2855.35,43.2,632.04,197.1,1803.76,2083.42,2995.72,2319.68,229.71,1611.59,120.0,2456.98,508.58000000000004,343.11,1530.75,574.26,166.85,311.65,4928.74,462.65999999999997,866.31,351.45,2539.46,468.26,1614.91,554.22,289.90999999999997,134.7,2166.38,607.71,889.9300000000001,108.97999999999999,1021.58,409.57,133.5,258.7,51.0,1078.96,90.6,163.62,174.4,666.9399999999999,225.77,882.58,2128.23,161.2,3717.35,9167.82,155.0,100.5,76.55,257.68,617.05,348.1,202.68,626.0699999999999,1247.69,202.11,142.4,1770.56,3172.04,999.72,4592.47,67.95,3471.91,487.99,2556.68,559.7,4039.98,1426.31,1434.72,156.75,2111.08,2606.53,1908.25,576.3,1063.0,761.3299999999999,122.7,1485.1299999999999,5811.56,490.22,1937.25,1058.06,385.87,813.11,4263.64,265.2,322.08,3918.9,363.34000000000003,1230.14,397.76,2255.51,1372.8,89.06,-43.400000000000006,131.9,2661.24,2357.6800000000003,1545.14,1544.62,1400.88,1039.58,1163.23,375.35,907.1,483.25,662.59,264.44,119.93,3047.63,113.64,1837.92,383.34,2103.06,1965.9,529.62,1058.6200000000001,2272.4,598.76,461.19,1936.84,234.34000000000003,537.71,799.82,215.7,1307.81,316.25,279.05,636.51,2068.15,129.2,321.92,165.75,1183.58,1047.43,463.38,340.93,2362.84,139.56,123.8,538.8100000000001,457.47,1957.32,815.32,356.85,190.31,2351.02,3543.26,673.26,5818.7,2012.17,1368.18,276.42,1267.4099999999999,275.28,438.49,1055.35,2102.09,330.45,174.37,270.6,974.54,241.09,1867.68,4221.37,7711.38,364.21999999999997,620.04,2925.91,932.85,1812.6200000000001,4075.35,2841.09,171.8,355.56,388.25,537.48,996.26,1461.65,103.25,2916.17,2024.45,2487.02,3986.7400000000002,652.8,289.24,765.62,186.23,165.07,859.27,2381.04,324.14,0.0,2174.18,1080.76,4709.22,3073.77,1432.0,1524.46,227.39,218.06,2803.69,1603.72,35.400000000000006,859.71,168.63,138.6,114.11,1052.55,1029.26,157.05,134.16,1598.24,39.75,1447.14,570.46,617.99,379.83,1740.6,883.15,221.97,393.33000000000004,213.96,660.0,11713.85,11341.1,1785.15,601.56,406.08000000000004,538.59,379.51,393.28000000000003,1765.76,320.58000000000004,869.35,225.85,848.48,2757.07,-21.85,671.96,939.21,1006.98,114.56,344.90000000000003,609.85,443.6,2952.34,2042.15,110.46,96.12,668.61,780.46,597.09,279489.02,243.22,1417.29,654.6,114.18,1947.55,1930.15,291.05,838.27,247.15,2456.53,285.74,107.95,771.17,637.89,1258.38,195.25,9231.2,1269.99,411.53,765.55,1736.4,604.75,2543.2400000000002,-2.55,26932.34,498.95,52.0,1236.28,628.38,5107.38,112.8,358.61,2114.33,582.05,172.9,2070.97,188.60999999999999,1250.76,109.13000000000001,2235.3,2486.2200000000003,3250.64,318.17,1546.91,179.0,1096.67,4911.14,606.13,2838.2,917.07,2664.2599999999998,160.19,867.38,329.68,1592.18,663.81,187.92000000000002,1158.3,718.08,268.58,313.49,2005.06,380.02,2686.34,9451.54,5807.6900000000005,1164.55,1289.94,3899.1,1423.21,1400.34,1088.53,1167.16,294.3,1311.79,389.64,563.15,638.05,4965.38,738.96,420.5,1484.06,1625.97,53.8,255.9,300.52,250.55,254.11,2423.07,139.5,10641.6,876.42,139.26,1011.9,2195.58,-17.45,730.86,386.15,447.68,200.10000000000002,289.99,77.4,679.4399999999999,197.64,745.06,0.0,214.14,1272.11,131.45000000000002,7839.51,173.74,157.7,4236.34,193.14,845.55,353.27,554.65,193.39000000000001,2175.37,2087.88,155.43,778.5,271.85,1110.34,657.8,272.07,507.29,48.800000000000004,321.43,1127.71,2226.91,2139.76,644.65,197.13,1698.35,102.44999999999999,1641.2,62.85,3295.76,2456.8,3189.81,309.4,7904.28,278.15,511.35,2836.69,463.05,2749.89,645.65,1311.3799999999999,1165.65,1352.04,168.62,125.79,841.1999999999999,266.76,52.2,14197.45,701.33,2939.64,721.95,327.25,522.38,519.68,1448.72,1485.54,706.19,255.4,589.7,756.64,765.3199999999999,364.8,1862.0,369.2,135.9,125.65,554.38,1237.8500000000001,655.75,11020.26,468.77000000000004,1366.38,1228.32,1414.99,314.11,2744.48,1025.44,599.9,3478.85,277.8,389.86,132572.62,841.52,1227.43,258.83,1264.84,1610.15,977.77,1316.07,749.1,310.05,223.88,2372.86,964.6800000000001,363.53,1888.84,1784.71,8117.42,1617.63,5842.95,100.9,290.82,1066.57,361.25,311.69,7912.79,289.82,336.17,58.49,499.68,684.97,221.27,7006.58,126.7,1487.8,206.21,599.0,191.32,463.8,147.59,1592.06,1116.57,114.77,1314.45,114.39,279.94,765.86,1931.42,102.12,213.27,296.75,326.4,334.54,233.23000000000002,540.98,429.87,490.52,1641.76,1246.32,6180.49,502.09,156.91,1261.78,308.94,423.04,260.17,170.04,125.58,456.26,266.0,1872.28,905.04,6763.16,1661.33,377.01,469.0,1051.95,627.13,518.28,668.14,4464.1,2571.02,4277.66,252.73000000000002,465.55,665.59,19786.44,180.35,135.93,537.0,7629.38,633.66,5064.01,343.62,380.57,121.17000000000002,1727.17,1391.61,215.78,697.79,302.1,1489.5,2124.9900000000002,1325.82,303.09,54228.74,987.86,370.79999999999995,3135.98,760.59,1744.76,553.36,1109.53,106.2,982.07,612.43,748.87,773.03,880.85,9623.35,893.66,487.35,88.2,306.94,1140.27,2420.84,381.32,476.96,457.81,4410.14,1364.7,219.39000000000001,248.08,649.5,410.48,635.1,310.03,703.36,1002.54,2298.93,1407.73,247.66,1291.75,463.75,970.25,1567.48,3439.41,2760.56,340.11,1352.75,1550.13,244.8,266.4,343.82,457.72,1612.13,2199.31,184.19,11117.05,406.53,1419.54,3447.4,330.11,977.9300000000001,982.42,1387.99,127.15,1282.45,178.96,2350.0,498.74,259.45,6530.04,1194.73,1313.66,608.65,301.29,520.8000000000001,5303.97,4684.24,329.25,240.27,961.49,1869.5,401.40000000000003,18573.68,158.16,304.47,843.05,487.75,163.0,106.56,1034.5,1624.05,135.75,224.14,40.5,2186.2,87.5,680.28,622.85,406.76,310.62,411.41,4670.08,15802.14,1044.32,499.32,7521.17,3861.0,656.44,193.64,1268.7,927.84,1827.8,316.58,648.8299999999999,420.29999999999995,867.62,331.18,894.4100000000001,88.94999999999999,325.05,1661.44,615.99,96.6,5756.89,305.75,1758.92,114.1,585.0,454.90000000000003,310.48,409.40000000000003,154.41,1219.4,3376.96,429.6,612.06,197.0,2247.51,321.05,1412.32,1056.54,764.34,1685.57,1738.59,316.68,631.57,2515.84,514.15,356.0,6657.36,10327.11,740.78,915.3,300.36,890.85,98.45,232.14999999999998,623.16,1780.77,254.82,178.95000000000002,156.51,393.74,1506.1200000000001,119.3,1717.36,408.8,2298.2,2485.82,721.94,716.57,609.19,135.31,255.89999999999998,277.40999999999997,113.12,2239.9500000000003,240.55,485.24,2306.52,935.1,7803.7699999999995,4596.51,180.94,3610.31,635.04,3774.1,3787.09,496.44,5028.12,574.02,680.3,1174.35,205.3,302.27,59419.340000000004,921.1,52.0,327.97,551.54,165.0,312.62,204.5,267.13,2650.73,602.97,162.29,311.71,208.75,1005.5,714.96,1661.06,1028.56,351.67,173.97,557.57,2020.52,391.76,364.5,476.58,367.69,252.42000000000002,201.60000000000002,158.04,473.81,115.65,1862.14,777.02,277.05,2766.5,8234.8,427.93,418.92,318.05,913.19,1330.45,602.51,1867.69,446.94000000000005,-1592.49,2360.55,2007.3999999999999,2213.11,168.0,1233.3600000000001,3631.8900000000003,1682.3600000000001,596.85,5927.86,635.76,316.88,394.14,140.54,500.0,1515.73,231.86,2183.54,107.45,288.18,94.0,1339.63,815.77,666.7,626.77,349.1,426.61,1056.44,267.18,3450.84,1346.38,190.53,774.9000000000001,572.8100000000001,3974.37,508.8,135.86,950.36,97.7,43.5,383.34,1429.9,1483.14,93.78,364.90000000000003,171.19,417.87,997.48,149.29,1122.53,200.16,156.57999999999998,383.68,594.0,3212.16,1418.26,113.5,155.17,494.64,971.22,429.84,538.73,1388.37,179.1,447.22,237.07,161.64,216.76,234.6,126.14,1048.85,6945.0199999999995,334.53,511.88,438.46,504.5,469.48,371.56,1465.2,454.10999999999996,1441.42,905.5,6568.72,233.81,3563.11,2575.0,91.32000000000001,1090.03,3090.85,659.4599999999999,1967.25,1299.23,1259.7,12396.46,1131.56,5541.46,147.09,52.83,3497.14,979.26,492.36,1000.27,250.0,909.23,121.0,14520.08,2963.19,62.43,267.03,1911.89,343.5,2574.65,398.84,412.01000000000005,440.0,811.02,148.44,2348.82,229.33,3967.78,1502.35,2007.44,1517.08,746.92,459.9,110.92,538.46,213.3,85.13000000000001,127.86,3542.51,292.71999999999997,4954.84,1655.76,575.63,436.06,90.12,437.23,217.2,4758.2,279.77,473.65000000000003,722.74,134.55,1319.69,173.16,186.01,758.29,1375.71,4109.97,650.4300000000001,2552.86,607.45,702.25,940.6700000000001,258.88,127.1,348.6,3429.9700000000003,682.9100000000001,722.61,455.3,913.6800000000001,456.58,-30.19,388.58,199.8,1767.53,1343.34,315.71999999999997,235.68,761.74,6745.36,1083.63,48.480000000000004,216.39,1198.23,2422.64,104.76,1093.68,270.03000000000003,112.46000000000001,1568.39,195.15,10360.04,747.031,336.40000000000003,1524.4,1158.77,3224.53,301.03,588.13,1504.56,675.8,2865.64,1180.4,3147.31,243.55,724.76,223.36,-94.0,425.32,12433.34,1887.2,647.4,813.0,612.01,425.14000000000004,599.9,816.0,646.3,337.74,877.4399999999999,922.53,511.32,748.5,30.0,958.9,306.45,1552.01,309.8,138.14,358.63,2242.01,301.32,76.32000000000001,677.69,173.05,2635.4900000000002,2881.02,1744.02,323.69,3324.09,657.23,352.7,781.28,1333.68,946.36,193.75,2981.5,254.1,239.76,136.8,191.04,6423.6,409.98,2644.46,309.65,664.03,1542.14,211.5,2293.62,143.1,1001.8100000000001,945.58,3329.7200000000003,133.25,1072.3600000000001,346.75,330.88,1118.81,150.3,5043.96,598.73,507.08,2181.21,203.1,212.3,415.25,5178.96,-134.8,62.0,1108.38,294.12,162.3,1339.45,1121.21,4788.77,449.12,154.88,784.46,34.8,1071.24,182.96,974.04,149.31,21535.9,2451.23,2628.93,79.2,455.67,2318.88,532.96,714.42,205.25,253.04,583.75,1048.67,3245.47,315.06,581.8299999999999,51823.72,635.6800000000001,270.8,104.9,241.62,1021.61,475.28000000000003,333.56,2593.94,246.3,2303.75,4834.2,948.05,351.3,220.85,1604.44,948.96,610.01,2666.61,2207.4,884.14,699.08,1042.19,-451.42,415.82000000000005,3848.55,5452.17,784.58,903.9,3724.77,399.21,1145.43,2171.32,1801.14,1303.9099999999999,1842.73,2100.6,1905.45,206.98,570.96,885.47,-840.76,532.94,1649.3600000000001,1641.48,636.14,547.7,747.76,836.79,2084.9,954.09,117.47,391.98,33350.76,1020.74,345.66,1209.1,118.95000000000002,130.73999999999998,3650.87,389.27,238.85,160.71,110.8,2974.65,712.24,16173.67,297.0,1438.85,977.21,3000.36,832.88,68.84,1769.7800000000002,895.13,230.53,3797.79,149.64,354.09000000000003,360.93,4330.67,440.78,313.28000000000003,438.24,495.36,396.48,379.35,181.09,141.27,446.87,524.52,263.55,179.17,222.05,1384.68,56.25,351.11,363.88,5126.34,164.68,1521.79,967.45,191.94,1232.18,264.62,1491.24,123.1,334.23,639.89,167.5,336.03000000000003,363.6,127.08,207.15,426.63,2461.85,1107.46,416.86,145.35,404.58,6102.26,31.799999999999997,337.44,325.1,181.0,1708.24,955.24,364.72,1705.26,669.57,806.57,1634.53,4389.81,428.89,104.35,470.76,845.64,418.83,582.9,314.1,4199.85,99.77000000000002,3429.55,371.01,430.94,1054.73,1098.78,2398.86,3408.48,1475.02,2816.97,1037.42,168.12,1451.28,158.03,792.11,41.989999999999995,2756.82,427.07,1044.78,3084.17,12393.7,2735.37,615.39,101.4,1701.94,478.78,992.71,407.5,3362.71,1415.29,33366.25,653.13,690.54,1483.31,211.88,408.90000000000003,3450.2400000000002,851.01,628.28,719.81,251.24,439.65999999999997,236.09,852.12,50992.61,331.24,548.94,8727.61,437.7,758.92,855.02,454.33000000000004,1313.55,3166.4,1147.37,773.99,1340.7,243.69000000000003,1111.79,137.9,362.06,1511.95,783.9,134.8,664.85,2140.2200000000003,1459.8600000000001,-29.95,1153.62,335.32,372.09,1521.87,852.15,326.24,584.3199999999999,94.35,2173.53,79.2,1352.0,176.6,2806.9,1317.62,436.18,981.51,1119.31,315.06,779.36,17.0,1041.83,320.62,185.04999999999998,2005.63,731.9,1245.96,1842.14,1429.64,302.36,336.96,108.38,3204.1600000000003,816.1,611.88,1337.48,195.73999999999998,161.38,135.75000000000003,1667.97,592.88,232.21,423.36,1294.14,867.11,684.4200000000001,307.78,187.15,289.35,6287.77,656.25,1880.22,3506.54,14305.66,603.69,517.55,709.38,-7.95,635.41,703.77,620.4,535.34,2419.84,175.2,3741.98,734.13,375.0,76.32000000000001,280.52,1906.07,1829.04,1824.23,3024.62,644.24,348.2,1009.4499999999999,5352.97,37.4,441.59999999999997,802.53,3770.6,1822.97,1880.4199999999998,73.2,1140.21,1406.57,1009.5500000000001,1037.59,331.95,197.9,215.83,10217.48,305.54,6617.65,338.71000000000004,1155.54,529.41,3991.94,6841.24,981.86,215.48,215.08,4913.32,314.45,400.68100000000004,1080.6200000000001,1821.52,365.27,589.15,405.71,761.38,537.0600000000001,394.38,664.26,2262.62,21086.3,542.77,681.19,159.0,1062.75,242.35,914.9300000000001,259.39000000000004,3054.87,864.86,846.72,1295.3,1096.32,255.12,308.32000000000005,1010.6,542.03,983.23,422.13,858.41,432.2,372.9,3693.81,2607.87,3598.26,409.1,1522.75,1352.3600000000001,114.56,152.94,1800.07,389.44,-295.09,3665.62,2609.3,732.63,46.95,5203.51,1035.45,746.83,-31.65,5423.15,861.89,667.65,1141.24,1423.29,411.7,357.95,559.87,810.6000000000001,537.83,1496.68,2062.06,168.3,1531.51,823.97,142.5,280.9,2236.7400000000002,1328.55,275.4,598.2,212.82,5305.83,361.21999999999997,602.27,2560.0,686.67,616.26,274.15000000000003,226.37,2755.56,1341.65,328.15,404.40000000000003,1038.46,230.70000000000002,326.75,207.50000000000003,428.68,510.54,3085.96,3844.22,242.21,1583.2,26626.8,151.05,214.79999999999998,109.95,549.07,1959.38,322.41,370.47999999999996,101.10000000000001,575.41,887.65,1469.45,53.5,1100.47,153.9,494.44,6675.71,395.8,210.32000000000002,658.88,2024.95,1460.3700000000001,3411.69,896.66,652.07,109.36000000000001,707.04,1540.42,327.3,804.49,497.43,1553.66,1320.56,367.93,473.03000000000003,977.52,676.2,362.95,2131.9,1780.59,668.36,584.5,555.89,317.2,94.36,1362.27,221.19,2941.05,1412.06,1486.9,1631.15,408.57,303.93,4061.24,299.6,161.04999999999998,443.05,167.25,163.07,2126.93,2028.88,214.65,151.83,262.2,126.25,210.35,1026.99,675.27,959.48,33805.69,346.12,82.56,302.7,1908.25,241.06,-2.95,284.55,300.85,642.81,287.4,184.26,1522.25,798.35,3640.67,381.2,616.79,638.77,230.51,2.8999999999941792,259.01,188.89000000000001,674.69,311.92,266.97,-8.15,1841.18,2158.37,208.36,3482.7400000000002,814.72,151.42,102.0,1383.7,1314.68,1603.46,74.9,650.43,757.44,223.95000000000002,314.86,1811.47,544.3,2494.46,331.0,300.83,769.29,220.62,139.35,379.4,363.65,492.2,731.5,1329.66,826.53,684.41,1562.22,2965.69,86.12,319.1,400.86,1421.43,484.38,777.6,90.30000000000001,363.7,248.1,950.26,874.59,1627.13,101.69999999999999,162.7,480.92,215.07999999999998,1036.6200000000001,9295.67,11895.57,290.36,228.06,244.41,455.25,1244.59,6748.8,1026.94,593.75,539.02,1388.81,119.62,339.3,-95.93,4154.64,2266.25,922.12,379.73,5664.57,641.55,285.89,3313.79,281.85,8257.04,816.51,511.12,1077.74,173.7,614.01,865.6,124.2,3622.95,1285.22,999.7,648.41,451.44,-30.599999999999998,70.44,313.62,233.45,908.03,463.95,225.15,459.24,213.5,4073.28,330.03,181.09,360.16,250.15,90.04,140.7,813.52,244.79999999999998,494.72999999999996,482.47,3038.67,5450.96,75.66,120.99000000000001,1187.66,618.59,506.19,500.42,151.85,2630.64,204.41,178.96,813.48,129.45,810.5699999999999,333.08,4379.65,322.8,2183.04,417.73,2878.15,217.9,1124.59,1676.47,1169.38,231.10000000000002,679.83,487.51,833.78,214.06,270.85999999999996,518.42,6654.26,1166.92,594.97,3794.52,8568.24,933.62,123.24,39.12,810.4499999999999,135.39999999999998,118.98,570.13,306.71999999999997,1370.8700000000001,4022.46,1692.27,8093.59,319.61,1558.72,3013.83,129.75,183.7,1770.34,1028.0,65892.08,324.24,3043.48,1260.86,303.26,208.63,1276.0,482.01,657.9000000000001,112.75,1998.0,5040.0,5150.2699999999995,13946.130000000001,531.35,656.63,3029.87,2483.04,1651.03,3645.43,6840.2300000000005,911.53,301.71999999999997,319.8000000000001,3278.36,623.75,1773.92,155.24,292.47,4711.21,589.15,775.07,1382.02,272.82,1054.67,7076.28,702.79,603.75,650.51,2269.21,417.59999999999997,3.75,312.55,0.0,2191.84,1304.76,7170.7,6694.31,826.96,1515.9,623.93,1764.72,207.5,223.92000000000002,2002.4,1484.63,239.4,106.83000000000001,369.34000000000003,772.84,316.62,1501.38,594.9,2758.25,34.0,1145.6,5580.6,458.04,380.39,744.9,2246.81,171.59,654.92,1695.66,388.28,226.35,245.94,10454.05,425.19,294.65,2242.25,107.6,597.48,80.8,1520.1200000000001,1706.28,110.38000000000001,243.84,1201.51,414.88,305.62,1201.49,867.83,332.3,536.99,460.59,801.49,1121.59,288.42,912.74,275.64,547.07,479.35,1692.98,6500.6,417.06,1446.95,3317.97,497.61,358.38,460.64,775.1800000000001,341.7,128.5,197.22,325.91,199.15,1106.53,413.46,180.85,251.87,3167.73,582.9,15357.78,1774.62,1260.44,10183.82,214.32,193.44,281.42,124.57,332.41,342.45,144.91000000000003,328.4,35.400000000000006,345.89000000000004,473.14,151.65,481.35,207.73999999999998,805.62,2761.4900000000002,680.02,7066.31,2023.47,853.72,0.0,1519.08,432.0,705.12,276.73,429.84000000000003,471.51,194.88,1578.67,809.7,496.84000000000003,145.93,219.14,213.03,444.46,1281.56,187.6900000000001,1706.88,373.24,3754.27,3085.48,579.77,981.65,364.14,1510.06,2528.67,113.44,208.46,621.6800000000001,576.26,391.52,1043.34,2596.45,169.79,6666.83,739.5,230.25,543.05,2781.5,1295.39,380.55,4604.22,161.94,530.08,950.9300000000001,262.68,1903.13,3049.88,1894.11,816.73,4345.5,406.48,435.02,1161.27,1178.56,1262.75,167.61,20.8,2085.08,493.67,292.34,416.64,117.35000000000001,507.05,234.17,110.55000000000001,201.19,2148.47,319.02,439.43,650.41,232.20999999999998,251.51999999999998,344.33,1809.05,1078.96,384.06,1920.2,4392.42,5461.62,1873.2,1625.05,126.12,1133.25,179.0,1601.8600000000001,-1.25,1427.46,702.0,287.02000000000004,484.82,3989.57,1487.78,1412.94,781.78,877.4300000000001,185.46,270.9,565.58,1842.56,8574.11,920.1,1272.61,71.0,95.85,357.77,154.82999999999998,848.59,716.0,146.87,380.35,1030.14,734.5699999999999,388.33,1253.22,112.4,449.73,1065.77,1044.3799999999999,1735.18,897.4300000000001,339.44,642.02,1100.9,864.32,5594.78,3228.84,247.14000000000001,413.75,496.38,1353.83,1179.89,3095.04,234.24,5116.13,534.47,1421.59,859.35,-112.35,4531.34,2655.2200000000003,312.14,2385.48,1446.09,813.77,841.0799999999999,378.2,118.80000000000001,285.5,290.16,2003.85,1405.78,2949.75,1555.05,2050.08,1991.01,2041.8500000000001,3802.81,1777.78,270.20000000000005,1088.2,992.6800000000001,937.92,971.74,1621.73,25.5,665.78,10380.43,869.6800000000001,163.29999999999998,248.61,747.22,806.9000000000001,116.19999999999999,157.02,593.61,307.46,138.32,345.29999999999995,298.89,259.35,991.85,157.09,2463.17,4892.240000000001,425.0,1139.73,380.5,10585.57,465.32,579.0,984.57,749.78,1679.64,124.88,1503.5,213.78,329.34,251.70000000000002,306.55,1266.97,1534.73,3518.03,1707.21,293.1,2466.4,158.68,189.49,816.88,224.91,313.26,3755.65,59.9,1430.94,306.13,711.79,780.38,239.92000000000002,3286.9100000000003,144.0,203.95,2275.58,384.40000000000003,249.74,2095.13,1674.46,262.62,1013.01,692.22,342.63,3563.85,1352.91,384.08,204.24,2299.67,226.85,2741.08,984.12,113.5,1960.72,114.23,3198.25,335.13,354.15,426.79,393.49,939.32,1906.09,318.76,3466.67,3127.82,421.52,190.88,149.89000000000001,550.06,916.13,314.69,3744.65,379.95,1135.04,8628.55,954.9,171.45,282.19,318.65,384.52,283.28000000000003,353.86,178.26,272.44,298.41,240.0,603.37,1253.3600000000001,63.440000000000005,562.9,310.64,317.62,763.64,2144.53,111.97999999999999,1065.3500000000001,246.04,187.82999999999998,1703.41,1641.68,153.92,1064.11,1419.73,936.16,525.24,550.8000000000001,1875.1100000000001,556.95,131.78,498.42,669.11,197.63,1119.93,250.04,8600.73,-152.64000000000001,82.75,1384.85,644.3,2288.13,2514.76,6204.46,2524.02,1200.6200000000001,700.86,908.99,990.23,96.8,523.11,363.9,175.2,494.25,306.6,1944.32,6612.18,243.36,11891.18,781.36,193.64,160.57,537.74,2611.58,228.96,1159.52,110.75,1256.19,587.15,1740.0,1393.06,178.22,388.14,365.85,127.86,585.79,488.2,312.23,4455.73,4801.56,168.4,1349.52,446.18,423.89,1342.68,646.92,495.77,372.5,203.2,3925.92,404.66,20272.43,65.4,199.29,336.4,261.11,2686.42,784.11,1259.56,31300.079999999998,508.8,457.91,203.86999999999998,7330.8,696.41,653.38,2129.96,2633.85,281.62,30300.82,967.22,1928.72,32.65,771.85,1214.72,748.94,1258.06,778.0,507.84,6838.34,463.46000000000004,4200.97,598.83,1853.1299999999999,663.63,759.17,5022.26,100.8,17078.45,512.12,265.76,403.3,365.76,303.15999999999997,2333.42,216.29999999999998,378.3,177.1,2210.2599999999998,534.24,2940.04,120.9,541.53,-4287.63,2504.86,187482.17,1648.95,486.71999999999997,517.53,131.7,249.86,1737.7,316.5,657.3,452.63,757.46,662.94,1881.36,289.96000000000004,763.28,137.0,1843.06,1125.07,710.29,194.37,506.51,1249.34,414.04,396.87,376.64,1926.8799999999999,3541.92,374.57,497.56,271.05,272.22,622.88,1138.0,288.6,689.1,558.96,2745.2799999999997,1145.84,294.29,605.58,387.31,6100.74,308.48,88125.38,2920.04,513.2,208.65,639.02,768.08,153.94,1839.07,546.81,721.9599999999999,1070.71,652.74,145.0,422.70000000000005,706.7,888.86,3540.1,2385.0,293.45,223.36,164.4,76.5,897.62,98.42,570.4,170.75,645.96,-11.8,-141.48,148.86,267.16,306.84,909.96,1487.6,1952.45,483.26,157.9,541.46,854.95,167.62,1107.38,454.01,901.21,4012.56,344.14,1498.51,226.75000000000003,362.9,185.65,3457.78,124.74,440.2,215.72,10736.11,175.27,1227.3,1133.07,1240.2,2404.17,1479.22,2215.02,3911.56,993.18,388.79,2827.93,2044.3700000000001,161.67000000000002,116.00999999999999,5050.77,-1165.3,309.36,193.42,1103.92,3947.87,1992.76,4509.37,390.07,329.6,571.1999999999999,971.58,218.52,81.44,1336.1,527.0500000000001,843.48,2047.0,75.75,1784.12,503.59999999999997,528.33,1242.34,2361.9700000000003,265.93,547.0600000000001,108.5,621.66,712.29,101.55,2768.98,995.6600000000001,133.06,1789.55,861.74,166.08,3886.67,4737.13,1175.88,117.55,2571.7400000000002,1674.69,485.88,2954.75,196.0,1788.27,604.64,728.16,2055.51,347.75,3406.7200000000003,205.7,1284.08,3106.62,1622.22,551.04,20098.1,1383.27,16219.22,298.11,1992.1100000000001,184.4,2459.33,239.41,3191.53,5739.46,4748.45,290.40000000000003,733.4399999999999,187.02,283.12,765.34,2201.05,338.95,154.95,2508.89,417.95,1719.72,798.74,885.19,1781.12,10097.37,152.4,267.08,137.45,385.1,522.91,153.0,326.4,5505.79,139.35,5367.8,1195.94,2380.64,3276.4000000000005,995.6500000000001,3371.13,1042.55,2515.68,5288.83,878.2,303.97,692.19,700.63,13110.02,337.49,168.24,1863.35,2786.05,355.11,2291.08,98.8,64.65,674.52,1797.57,80.64,1739.92,5585.49,3456.7000000000003,834.99,287.59,712.78,15.0,818.8199999999999,371.88,271.2,2273.1800000000003,3960.63,1143.27,245.81,182.77,1215.46,56.4,665.86,642.17,188.02,283.47,131.94,278.74,1865.19,1117.9,225.9,1965.55,106.1,323.04,350.39,697.9,780.43,3026.08,1199.01,1251.84,512.31,546.04,4627.62,7677.71,732.16,1714.6,36.56,387.68,3661.0699999999997,-24.05,298.4,1995.46,1599.97,889.24,398.7,35.400000000000006,155.37,350.64,110.21000000000001,1560.53,2312.7,338.8,40340.78,205.48,51.559999999999995,2033.1,901.1999999999999,605.8000000000001,5288.63,114.34,311.26,208.97,1393.79,26763.34,5155.66,148.21,252.8,2059.2,330.9,3160.0,597.5,10158.54,325.7,622.75,428.18,1889.4,155.9,1764.3600000000001,658.26,237.61,379.45,178.51999999999998,458.92,133.35000000000002,671.77,717.45,190.19,899.61,111.35,525.78,203.87,602.09,203.85999999999999,244.1,112.25,1119.81,98.0,256.32,541.1,152.06,155.8,15.0,110.38,178.92,800.24,72.9,243.28,366.23,295.61,411.6,336.43,341.28,1304.04,4204.1,826.52,207.50000000000003,2894.33,244.08,397.29,212.54,834.5,1740.48,408.36,1331.57,704.25,145.79,389.84,4301.22,99.14,1983.5800000000002,304.56,77.50000000000001,149.57999999999998,176.68,358.56000000000006,52750.84,472.12,990.8400000000001,2295.37,557.3,12.75,111.68,508.4599999999999,73.78,1296.44,102.83,471.7,2622.57,1098.43,123.07,277.35,228.2,582.59,136.04,337.04,740.79,4393.61,353.19,288.14,300.91999999999996,737.81,811.45,152.68,634.95,20.8,198.57,191.17000000000002,630.84,93.35,629.6899999999999,76.1,1511.3,382.06,417.23,169.47,249.72,444.68,2116.19,252.24,174.8,102.78999999999999,187.29,166.42,120.03,1483.56,523.0,122.14,38.45,668.11,236.77999999999997,115.31,220.7,73.5,97.97,422.88,730.4,405.62,70.02,357.20000000000005,4161.14,165.04999999999998,559.51,2085.65,189.4,172.29000000000002,74.4,297.07,6752.14,363.65,170.16,296.71,2119.41,720.52,814.0,2380.08,318.0,396.33,101.69999999999999,2021.82,453.0,-5.329070518200751e-15,3864.44,489.6,2538.7200000000003,2633.0099999999998,336.13,3651.97,1231.5,343.45,703.37,87.52999999999999,689.95,101.34,3770.1199999999994,167.67000000000002,9065.76,2083.42,3017.3,580.0500000000001,911.15,2692.85,168.31,223.65,256438.49,754.64,113.48000000000002,430.7,264.65,7925.32,206.05,352.69,76.32000000000001,220.1,1418.03,320.72,5595.77,181.12,111.15,673.1,1826.21,589.4399999999999,1141.34,206.82999999999998,348.73,112.55000000000001,1045.74,715.4999999999999,681.9100000000001,761.83,152.65,8393.22,-35.400000000000006,1014.9,1000.16,2888.75,2861.55,160.35000000000002,179.33999999999997,612.0799999999999,566.58,653.35,399.19,347.82,734.94,451.75,530.15,638.0600000000001,1612.79,394.7,302.46000000000004,1355.51,1133.64,202.65,980.31,1208.51,7490.17,2106.84,104.0,448.65,1314.17,1573.41,1793.17,1843.75,382.8,600.52,49.8,304.25,1998.49,1084.34,274.51,207.79999999999998,957.97,212.96,896.0,689.13,5083.06,163.8,1396.99,160.42000000000002,1979.3,517.36,139.10000000000002,2621.38,600.07,248.42,232.48000000000002,299.34000000000003,481.75,621.75,626.38,2019.77,297.78000000000003,1033.31,443.0,6315.2300000000005,158.95000000000002,5361.02,5192.1,93.75,769.2,7276.900000000001,2716.6000000000004,2066.17,582.47,440.0,1796.48,882.24,987.1,1561.6100000000001,422.58,2058.09,2232.4900000000002,2507.56,596.1,783.02,95.34,342.92,4314.72,526.67,103.3,-50.1,2265.38,2338.6000000000004,2595.0,324.24,149.48,1211.08,801.51,0.0,138.9,238.95000000000002,3064.78,204.0,1.7763568394002505e-15,323.36,97.63,173.9,180.60000000000002,80.82,176.6,2094.88,1837.28],\"type\":\"scatter3d\"}],                        {\"template\":{\"data\":{\"histogram2dcontour\":[{\"type\":\"histogram2dcontour\",\"colorbar\":{\"outlinewidth\":0,\"ticks\":\"\"},\"colorscale\":[[0.0,\"#0d0887\"],[0.1111111111111111,\"#46039f\"],[0.2222222222222222,\"#7201a8\"],[0.3333333333333333,\"#9c179e\"],[0.4444444444444444,\"#bd3786\"],[0.5555555555555556,\"#d8576b\"],[0.6666666666666666,\"#ed7953\"],[0.7777777777777778,\"#fb9f3a\"],[0.8888888888888888,\"#fdca26\"],[1.0,\"#f0f921\"]]}],\"choropleth\":[{\"type\":\"choropleth\",\"colorbar\":{\"outlinewidth\":0,\"ticks\":\"\"}}],\"histogram2d\":[{\"type\":\"histogram2d\",\"colorbar\":{\"outlinewidth\":0,\"ticks\":\"\"},\"colorscale\":[[0.0,\"#0d0887\"],[0.1111111111111111,\"#46039f\"],[0.2222222222222222,\"#7201a8\"],[0.3333333333333333,\"#9c179e\"],[0.4444444444444444,\"#bd3786\"],[0.5555555555555556,\"#d8576b\"],[0.6666666666666666,\"#ed7953\"],[0.7777777777777778,\"#fb9f3a\"],[0.8888888888888888,\"#fdca26\"],[1.0,\"#f0f921\"]]}],\"heatmap\":[{\"type\":\"heatmap\",\"colorbar\":{\"outlinewidth\":0,\"ticks\":\"\"},\"colorscale\":[[0.0,\"#0d0887\"],[0.1111111111111111,\"#46039f\"],[0.2222222222222222,\"#7201a8\"],[0.3333333333333333,\"#9c179e\"],[0.4444444444444444,\"#bd3786\"],[0.5555555555555556,\"#d8576b\"],[0.6666666666666666,\"#ed7953\"],[0.7777777777777778,\"#fb9f3a\"],[0.8888888888888888,\"#fdca26\"],[1.0,\"#f0f921\"]]}],\"heatmapgl\":[{\"type\":\"heatmapgl\",\"colorbar\":{\"outlinewidth\":0,\"ticks\":\"\"},\"colorscale\":[[0.0,\"#0d0887\"],[0.1111111111111111,\"#46039f\"],[0.2222222222222222,\"#7201a8\"],[0.3333333333333333,\"#9c179e\"],[0.4444444444444444,\"#bd3786\"],[0.5555555555555556,\"#d8576b\"],[0.6666666666666666,\"#ed7953\"],[0.7777777777777778,\"#fb9f3a\"],[0.8888888888888888,\"#fdca26\"],[1.0,\"#f0f921\"]]}],\"contourcarpet\":[{\"type\":\"contourcarpet\",\"colorbar\":{\"outlinewidth\":0,\"ticks\":\"\"}}],\"contour\":[{\"type\":\"contour\",\"colorbar\":{\"outlinewidth\":0,\"ticks\":\"\"},\"colorscale\":[[0.0,\"#0d0887\"],[0.1111111111111111,\"#46039f\"],[0.2222222222222222,\"#7201a8\"],[0.3333333333333333,\"#9c179e\"],[0.4444444444444444,\"#bd3786\"],[0.5555555555555556,\"#d8576b\"],[0.6666666666666666,\"#ed7953\"],[0.7777777777777778,\"#fb9f3a\"],[0.8888888888888888,\"#fdca26\"],[1.0,\"#f0f921\"]]}],\"surface\":[{\"type\":\"surface\",\"colorbar\":{\"outlinewidth\":0,\"ticks\":\"\"},\"colorscale\":[[0.0,\"#0d0887\"],[0.1111111111111111,\"#46039f\"],[0.2222222222222222,\"#7201a8\"],[0.3333333333333333,\"#9c179e\"],[0.4444444444444444,\"#bd3786\"],[0.5555555555555556,\"#d8576b\"],[0.6666666666666666,\"#ed7953\"],[0.7777777777777778,\"#fb9f3a\"],[0.8888888888888888,\"#fdca26\"],[1.0,\"#f0f921\"]]}],\"mesh3d\":[{\"type\":\"mesh3d\",\"colorbar\":{\"outlinewidth\":0,\"ticks\":\"\"}}],\"scatter\":[{\"fillpattern\":{\"fillmode\":\"overlay\",\"size\":10,\"solidity\":0.2},\"type\":\"scatter\"}],\"parcoords\":[{\"type\":\"parcoords\",\"line\":{\"colorbar\":{\"outlinewidth\":0,\"ticks\":\"\"}}}],\"scatterpolargl\":[{\"type\":\"scatterpolargl\",\"marker\":{\"colorbar\":{\"outlinewidth\":0,\"ticks\":\"\"}}}],\"bar\":[{\"error_x\":{\"color\":\"#2a3f5f\"},\"error_y\":{\"color\":\"#2a3f5f\"},\"marker\":{\"line\":{\"color\":\"#E5ECF6\",\"width\":0.5},\"pattern\":{\"fillmode\":\"overlay\",\"size\":10,\"solidity\":0.2}},\"type\":\"bar\"}],\"scattergeo\":[{\"type\":\"scattergeo\",\"marker\":{\"colorbar\":{\"outlinewidth\":0,\"ticks\":\"\"}}}],\"scatterpolar\":[{\"type\":\"scatterpolar\",\"marker\":{\"colorbar\":{\"outlinewidth\":0,\"ticks\":\"\"}}}],\"histogram\":[{\"marker\":{\"pattern\":{\"fillmode\":\"overlay\",\"size\":10,\"solidity\":0.2}},\"type\":\"histogram\"}],\"scattergl\":[{\"type\":\"scattergl\",\"marker\":{\"colorbar\":{\"outlinewidth\":0,\"ticks\":\"\"}}}],\"scatter3d\":[{\"type\":\"scatter3d\",\"line\":{\"colorbar\":{\"outlinewidth\":0,\"ticks\":\"\"}},\"marker\":{\"colorbar\":{\"outlinewidth\":0,\"ticks\":\"\"}}}],\"scattermapbox\":[{\"type\":\"scattermapbox\",\"marker\":{\"colorbar\":{\"outlinewidth\":0,\"ticks\":\"\"}}}],\"scatterternary\":[{\"type\":\"scatterternary\",\"marker\":{\"colorbar\":{\"outlinewidth\":0,\"ticks\":\"\"}}}],\"scattercarpet\":[{\"type\":\"scattercarpet\",\"marker\":{\"colorbar\":{\"outlinewidth\":0,\"ticks\":\"\"}}}],\"carpet\":[{\"aaxis\":{\"endlinecolor\":\"#2a3f5f\",\"gridcolor\":\"white\",\"linecolor\":\"white\",\"minorgridcolor\":\"white\",\"startlinecolor\":\"#2a3f5f\"},\"baxis\":{\"endlinecolor\":\"#2a3f5f\",\"gridcolor\":\"white\",\"linecolor\":\"white\",\"minorgridcolor\":\"white\",\"startlinecolor\":\"#2a3f5f\"},\"type\":\"carpet\"}],\"table\":[{\"cells\":{\"fill\":{\"color\":\"#EBF0F8\"},\"line\":{\"color\":\"white\"}},\"header\":{\"fill\":{\"color\":\"#C8D4E3\"},\"line\":{\"color\":\"white\"}},\"type\":\"table\"}],\"barpolar\":[{\"marker\":{\"line\":{\"color\":\"#E5ECF6\",\"width\":0.5},\"pattern\":{\"fillmode\":\"overlay\",\"size\":10,\"solidity\":0.2}},\"type\":\"barpolar\"}],\"pie\":[{\"automargin\":true,\"type\":\"pie\"}]},\"layout\":{\"autotypenumbers\":\"strict\",\"colorway\":[\"#636efa\",\"#EF553B\",\"#00cc96\",\"#ab63fa\",\"#FFA15A\",\"#19d3f3\",\"#FF6692\",\"#B6E880\",\"#FF97FF\",\"#FECB52\"],\"font\":{\"color\":\"#2a3f5f\"},\"hovermode\":\"closest\",\"hoverlabel\":{\"align\":\"left\"},\"paper_bgcolor\":\"white\",\"plot_bgcolor\":\"#E5ECF6\",\"polar\":{\"bgcolor\":\"#E5ECF6\",\"angularaxis\":{\"gridcolor\":\"white\",\"linecolor\":\"white\",\"ticks\":\"\"},\"radialaxis\":{\"gridcolor\":\"white\",\"linecolor\":\"white\",\"ticks\":\"\"}},\"ternary\":{\"bgcolor\":\"#E5ECF6\",\"aaxis\":{\"gridcolor\":\"white\",\"linecolor\":\"white\",\"ticks\":\"\"},\"baxis\":{\"gridcolor\":\"white\",\"linecolor\":\"white\",\"ticks\":\"\"},\"caxis\":{\"gridcolor\":\"white\",\"linecolor\":\"white\",\"ticks\":\"\"}},\"coloraxis\":{\"colorbar\":{\"outlinewidth\":0,\"ticks\":\"\"}},\"colorscale\":{\"sequential\":[[0.0,\"#0d0887\"],[0.1111111111111111,\"#46039f\"],[0.2222222222222222,\"#7201a8\"],[0.3333333333333333,\"#9c179e\"],[0.4444444444444444,\"#bd3786\"],[0.5555555555555556,\"#d8576b\"],[0.6666666666666666,\"#ed7953\"],[0.7777777777777778,\"#fb9f3a\"],[0.8888888888888888,\"#fdca26\"],[1.0,\"#f0f921\"]],\"sequentialminus\":[[0.0,\"#0d0887\"],[0.1111111111111111,\"#46039f\"],[0.2222222222222222,\"#7201a8\"],[0.3333333333333333,\"#9c179e\"],[0.4444444444444444,\"#bd3786\"],[0.5555555555555556,\"#d8576b\"],[0.6666666666666666,\"#ed7953\"],[0.7777777777777778,\"#fb9f3a\"],[0.8888888888888888,\"#fdca26\"],[1.0,\"#f0f921\"]],\"diverging\":[[0,\"#8e0152\"],[0.1,\"#c51b7d\"],[0.2,\"#de77ae\"],[0.3,\"#f1b6da\"],[0.4,\"#fde0ef\"],[0.5,\"#f7f7f7\"],[0.6,\"#e6f5d0\"],[0.7,\"#b8e186\"],[0.8,\"#7fbc41\"],[0.9,\"#4d9221\"],[1,\"#276419\"]]},\"xaxis\":{\"gridcolor\":\"white\",\"linecolor\":\"white\",\"ticks\":\"\",\"title\":{\"standoff\":15},\"zerolinecolor\":\"white\",\"automargin\":true,\"zerolinewidth\":2},\"yaxis\":{\"gridcolor\":\"white\",\"linecolor\":\"white\",\"ticks\":\"\",\"title\":{\"standoff\":15},\"zerolinecolor\":\"white\",\"automargin\":true,\"zerolinewidth\":2},\"scene\":{\"xaxis\":{\"backgroundcolor\":\"#E5ECF6\",\"gridcolor\":\"white\",\"linecolor\":\"white\",\"showbackground\":true,\"ticks\":\"\",\"zerolinecolor\":\"white\",\"gridwidth\":2},\"yaxis\":{\"backgroundcolor\":\"#E5ECF6\",\"gridcolor\":\"white\",\"linecolor\":\"white\",\"showbackground\":true,\"ticks\":\"\",\"zerolinecolor\":\"white\",\"gridwidth\":2},\"zaxis\":{\"backgroundcolor\":\"#E5ECF6\",\"gridcolor\":\"white\",\"linecolor\":\"white\",\"showbackground\":true,\"ticks\":\"\",\"zerolinecolor\":\"white\",\"gridwidth\":2}},\"shapedefaults\":{\"line\":{\"color\":\"#2a3f5f\"}},\"annotationdefaults\":{\"arrowcolor\":\"#2a3f5f\",\"arrowhead\":0,\"arrowwidth\":1},\"geo\":{\"bgcolor\":\"white\",\"landcolor\":\"#E5ECF6\",\"subunitcolor\":\"white\",\"showland\":true,\"showlakes\":true,\"lakecolor\":\"white\"},\"title\":{\"x\":0.05},\"mapbox\":{\"style\":\"light\"}}},\"scene\":{\"domain\":{\"x\":[0.0,1.0],\"y\":[0.0,1.0]},\"xaxis\":{\"title\":{\"text\":\"Frequency\"}},\"yaxis\":{\"title\":{\"text\":\"resc\"}},\"zaxis\":{\"title\":{\"text\":\"Revenue\"}}},\"coloraxis\":{\"colorbar\":{\"title\":{\"text\":\"overall_score\"}},\"colorscale\":[[0.0,\"#0d0887\"],[0.1111111111111111,\"#46039f\"],[0.2222222222222222,\"#7201a8\"],[0.3333333333333333,\"#9c179e\"],[0.4444444444444444,\"#bd3786\"],[0.5555555555555556,\"#d8576b\"],[0.6666666666666666,\"#ed7953\"],[0.7777777777777778,\"#fb9f3a\"],[0.8888888888888888,\"#fdca26\"],[1.0,\"#f0f921\"]]},\"legend\":{\"tracegroupgap\":0},\"margin\":{\"t\":60}},                        {\"responsive\": true}                    ).then(function(){\n",
       "                            \n",
       "var gd = document.getElementById('b090c637-e778-4018-ba4b-f102622f0407');\n",
       "var x = new MutationObserver(function (mutations, observer) {{\n",
       "        var display = window.getComputedStyle(gd).display;\n",
       "        if (!display || display === 'none') {{\n",
       "            console.log([gd, 'removed!']);\n",
       "            Plotly.purge(gd);\n",
       "            observer.disconnect();\n",
       "        }}\n",
       "}});\n",
       "\n",
       "// Listen for the removal of the full notebook cells\n",
       "var notebookContainer = gd.closest('#notebook-container');\n",
       "if (notebookContainer) {{\n",
       "    x.observe(notebookContainer, {childList: true});\n",
       "}}\n",
       "\n",
       "// Listen for the clearing of the current output cell\n",
       "var outputEl = gd.closest('.output');\n",
       "if (outputEl) {{\n",
       "    x.observe(outputEl, {childList: true});\n",
       "}}\n",
       "\n",
       "                        })                };                });            </script>        </div>"
      ]
     },
     "metadata": {},
     "output_type": "display_data"
    }
   ],
   "source": [
    "\n",
    "import plotly.express as px\n",
    "#df = px.data.iris()\n",
    "fig = px.scatter_3d(segmented_df, x='Frequency', y='resc', z='Revenue',\n",
    "                    color='overall_score',)\n",
    "fig.show()"
   ]
  },
  {
   "cell_type": "markdown",
   "id": "0c98fd2e",
   "metadata": {
    "papermill": {
     "duration": 0.016643,
     "end_time": "2022-08-12T06:14:08.289720",
     "exception": false,
     "start_time": "2022-08-12T06:14:08.273077",
     "status": "completed"
    },
    "tags": []
   },
   "source": [
    "ref https://towardsdatascience.com/data-driven-growth-with-python-part-2-customer-segmentation-5c019d150444"
   ]
  }
 ],
 "metadata": {
  "kernelspec": {
   "display_name": "Python 3",
   "language": "python",
   "name": "python3"
  },
  "language_info": {
   "codemirror_mode": {
    "name": "ipython",
    "version": 3
   },
   "file_extension": ".py",
   "mimetype": "text/x-python",
   "name": "python",
   "nbconvert_exporter": "python",
   "pygments_lexer": "ipython3",
   "version": "3.7.12"
  },
  "papermill": {
   "default_parameters": {},
   "duration": 183.575565,
   "end_time": "2022-08-12T06:14:09.433583",
   "environment_variables": {},
   "exception": null,
   "input_path": "__notebook__.ipynb",
   "output_path": "__notebook__.ipynb",
   "parameters": {},
   "start_time": "2022-08-12T06:11:05.858018",
   "version": "2.3.4"
  }
 },
 "nbformat": 4,
 "nbformat_minor": 5
}
